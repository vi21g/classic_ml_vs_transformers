{
  "nbformat": 4,
  "nbformat_minor": 0,
  "metadata": {
    "colab": {
      "provenance": [],
      "gpuType": "T4",
      "toc_visible": true,
      "authorship_tag": "ABX9TyMswMkWgunsP6K9OZDDG7C6"
    },
    "kernelspec": {
      "name": "python3",
      "display_name": "Python 3"
    },
    "language_info": {
      "name": "python"
    },
    "widgets": {
      "application/vnd.jupyter.widget-state+json": {
        "8377564800584554ab1e4632dfa03bfd": {
          "model_module": "@jupyter-widgets/controls",
          "model_name": "HBoxModel",
          "model_module_version": "1.5.0",
          "state": {
            "_dom_classes": [],
            "_model_module": "@jupyter-widgets/controls",
            "_model_module_version": "1.5.0",
            "_model_name": "HBoxModel",
            "_view_count": null,
            "_view_module": "@jupyter-widgets/controls",
            "_view_module_version": "1.5.0",
            "_view_name": "HBoxView",
            "box_style": "",
            "children": [
              "IPY_MODEL_4f308281e09e4c579f3434045b67c87b",
              "IPY_MODEL_e61313ef5d2b4cc68f88f4b026b6a578",
              "IPY_MODEL_a2328ad042094cb29cecf1e013ac7c80"
            ],
            "layout": "IPY_MODEL_26ea3e73366947ae8d2181c31c75db50"
          }
        },
        "4f308281e09e4c579f3434045b67c87b": {
          "model_module": "@jupyter-widgets/controls",
          "model_name": "HTMLModel",
          "model_module_version": "1.5.0",
          "state": {
            "_dom_classes": [],
            "_model_module": "@jupyter-widgets/controls",
            "_model_module_version": "1.5.0",
            "_model_name": "HTMLModel",
            "_view_count": null,
            "_view_module": "@jupyter-widgets/controls",
            "_view_module_version": "1.5.0",
            "_view_name": "HTMLView",
            "description": "",
            "description_tooltip": null,
            "layout": "IPY_MODEL_697625023a48419e8c73fa3e0d429ddf",
            "placeholder": "​",
            "style": "IPY_MODEL_59ceb0e24d9d4693a75aae243ccf3e3a",
            "value": "tokenizer_config.json: 100%"
          }
        },
        "e61313ef5d2b4cc68f88f4b026b6a578": {
          "model_module": "@jupyter-widgets/controls",
          "model_name": "FloatProgressModel",
          "model_module_version": "1.5.0",
          "state": {
            "_dom_classes": [],
            "_model_module": "@jupyter-widgets/controls",
            "_model_module_version": "1.5.0",
            "_model_name": "FloatProgressModel",
            "_view_count": null,
            "_view_module": "@jupyter-widgets/controls",
            "_view_module_version": "1.5.0",
            "_view_name": "ProgressView",
            "bar_style": "success",
            "description": "",
            "description_tooltip": null,
            "layout": "IPY_MODEL_7d6eeb264f814fce9263df1c5785520a",
            "max": 49,
            "min": 0,
            "orientation": "horizontal",
            "style": "IPY_MODEL_100c8ae3667e4c8c88b6beb353e970ba",
            "value": 49
          }
        },
        "a2328ad042094cb29cecf1e013ac7c80": {
          "model_module": "@jupyter-widgets/controls",
          "model_name": "HTMLModel",
          "model_module_version": "1.5.0",
          "state": {
            "_dom_classes": [],
            "_model_module": "@jupyter-widgets/controls",
            "_model_module_version": "1.5.0",
            "_model_name": "HTMLModel",
            "_view_count": null,
            "_view_module": "@jupyter-widgets/controls",
            "_view_module_version": "1.5.0",
            "_view_name": "HTMLView",
            "description": "",
            "description_tooltip": null,
            "layout": "IPY_MODEL_0e48f91702e54c83ac73343c71da2d0b",
            "placeholder": "​",
            "style": "IPY_MODEL_37158100004946d9bdf130d04397a6d9",
            "value": " 49.0/49.0 [00:00&lt;00:00, 3.86kB/s]"
          }
        },
        "26ea3e73366947ae8d2181c31c75db50": {
          "model_module": "@jupyter-widgets/base",
          "model_name": "LayoutModel",
          "model_module_version": "1.2.0",
          "state": {
            "_model_module": "@jupyter-widgets/base",
            "_model_module_version": "1.2.0",
            "_model_name": "LayoutModel",
            "_view_count": null,
            "_view_module": "@jupyter-widgets/base",
            "_view_module_version": "1.2.0",
            "_view_name": "LayoutView",
            "align_content": null,
            "align_items": null,
            "align_self": null,
            "border": null,
            "bottom": null,
            "display": null,
            "flex": null,
            "flex_flow": null,
            "grid_area": null,
            "grid_auto_columns": null,
            "grid_auto_flow": null,
            "grid_auto_rows": null,
            "grid_column": null,
            "grid_gap": null,
            "grid_row": null,
            "grid_template_areas": null,
            "grid_template_columns": null,
            "grid_template_rows": null,
            "height": null,
            "justify_content": null,
            "justify_items": null,
            "left": null,
            "margin": null,
            "max_height": null,
            "max_width": null,
            "min_height": null,
            "min_width": null,
            "object_fit": null,
            "object_position": null,
            "order": null,
            "overflow": null,
            "overflow_x": null,
            "overflow_y": null,
            "padding": null,
            "right": null,
            "top": null,
            "visibility": null,
            "width": null
          }
        },
        "697625023a48419e8c73fa3e0d429ddf": {
          "model_module": "@jupyter-widgets/base",
          "model_name": "LayoutModel",
          "model_module_version": "1.2.0",
          "state": {
            "_model_module": "@jupyter-widgets/base",
            "_model_module_version": "1.2.0",
            "_model_name": "LayoutModel",
            "_view_count": null,
            "_view_module": "@jupyter-widgets/base",
            "_view_module_version": "1.2.0",
            "_view_name": "LayoutView",
            "align_content": null,
            "align_items": null,
            "align_self": null,
            "border": null,
            "bottom": null,
            "display": null,
            "flex": null,
            "flex_flow": null,
            "grid_area": null,
            "grid_auto_columns": null,
            "grid_auto_flow": null,
            "grid_auto_rows": null,
            "grid_column": null,
            "grid_gap": null,
            "grid_row": null,
            "grid_template_areas": null,
            "grid_template_columns": null,
            "grid_template_rows": null,
            "height": null,
            "justify_content": null,
            "justify_items": null,
            "left": null,
            "margin": null,
            "max_height": null,
            "max_width": null,
            "min_height": null,
            "min_width": null,
            "object_fit": null,
            "object_position": null,
            "order": null,
            "overflow": null,
            "overflow_x": null,
            "overflow_y": null,
            "padding": null,
            "right": null,
            "top": null,
            "visibility": null,
            "width": null
          }
        },
        "59ceb0e24d9d4693a75aae243ccf3e3a": {
          "model_module": "@jupyter-widgets/controls",
          "model_name": "DescriptionStyleModel",
          "model_module_version": "1.5.0",
          "state": {
            "_model_module": "@jupyter-widgets/controls",
            "_model_module_version": "1.5.0",
            "_model_name": "DescriptionStyleModel",
            "_view_count": null,
            "_view_module": "@jupyter-widgets/base",
            "_view_module_version": "1.2.0",
            "_view_name": "StyleView",
            "description_width": ""
          }
        },
        "7d6eeb264f814fce9263df1c5785520a": {
          "model_module": "@jupyter-widgets/base",
          "model_name": "LayoutModel",
          "model_module_version": "1.2.0",
          "state": {
            "_model_module": "@jupyter-widgets/base",
            "_model_module_version": "1.2.0",
            "_model_name": "LayoutModel",
            "_view_count": null,
            "_view_module": "@jupyter-widgets/base",
            "_view_module_version": "1.2.0",
            "_view_name": "LayoutView",
            "align_content": null,
            "align_items": null,
            "align_self": null,
            "border": null,
            "bottom": null,
            "display": null,
            "flex": null,
            "flex_flow": null,
            "grid_area": null,
            "grid_auto_columns": null,
            "grid_auto_flow": null,
            "grid_auto_rows": null,
            "grid_column": null,
            "grid_gap": null,
            "grid_row": null,
            "grid_template_areas": null,
            "grid_template_columns": null,
            "grid_template_rows": null,
            "height": null,
            "justify_content": null,
            "justify_items": null,
            "left": null,
            "margin": null,
            "max_height": null,
            "max_width": null,
            "min_height": null,
            "min_width": null,
            "object_fit": null,
            "object_position": null,
            "order": null,
            "overflow": null,
            "overflow_x": null,
            "overflow_y": null,
            "padding": null,
            "right": null,
            "top": null,
            "visibility": null,
            "width": null
          }
        },
        "100c8ae3667e4c8c88b6beb353e970ba": {
          "model_module": "@jupyter-widgets/controls",
          "model_name": "ProgressStyleModel",
          "model_module_version": "1.5.0",
          "state": {
            "_model_module": "@jupyter-widgets/controls",
            "_model_module_version": "1.5.0",
            "_model_name": "ProgressStyleModel",
            "_view_count": null,
            "_view_module": "@jupyter-widgets/base",
            "_view_module_version": "1.2.0",
            "_view_name": "StyleView",
            "bar_color": null,
            "description_width": ""
          }
        },
        "0e48f91702e54c83ac73343c71da2d0b": {
          "model_module": "@jupyter-widgets/base",
          "model_name": "LayoutModel",
          "model_module_version": "1.2.0",
          "state": {
            "_model_module": "@jupyter-widgets/base",
            "_model_module_version": "1.2.0",
            "_model_name": "LayoutModel",
            "_view_count": null,
            "_view_module": "@jupyter-widgets/base",
            "_view_module_version": "1.2.0",
            "_view_name": "LayoutView",
            "align_content": null,
            "align_items": null,
            "align_self": null,
            "border": null,
            "bottom": null,
            "display": null,
            "flex": null,
            "flex_flow": null,
            "grid_area": null,
            "grid_auto_columns": null,
            "grid_auto_flow": null,
            "grid_auto_rows": null,
            "grid_column": null,
            "grid_gap": null,
            "grid_row": null,
            "grid_template_areas": null,
            "grid_template_columns": null,
            "grid_template_rows": null,
            "height": null,
            "justify_content": null,
            "justify_items": null,
            "left": null,
            "margin": null,
            "max_height": null,
            "max_width": null,
            "min_height": null,
            "min_width": null,
            "object_fit": null,
            "object_position": null,
            "order": null,
            "overflow": null,
            "overflow_x": null,
            "overflow_y": null,
            "padding": null,
            "right": null,
            "top": null,
            "visibility": null,
            "width": null
          }
        },
        "37158100004946d9bdf130d04397a6d9": {
          "model_module": "@jupyter-widgets/controls",
          "model_name": "DescriptionStyleModel",
          "model_module_version": "1.5.0",
          "state": {
            "_model_module": "@jupyter-widgets/controls",
            "_model_module_version": "1.5.0",
            "_model_name": "DescriptionStyleModel",
            "_view_count": null,
            "_view_module": "@jupyter-widgets/base",
            "_view_module_version": "1.2.0",
            "_view_name": "StyleView",
            "description_width": ""
          }
        },
        "dcfd65cb3aa74650b3609a5d7132c398": {
          "model_module": "@jupyter-widgets/controls",
          "model_name": "HBoxModel",
          "model_module_version": "1.5.0",
          "state": {
            "_dom_classes": [],
            "_model_module": "@jupyter-widgets/controls",
            "_model_module_version": "1.5.0",
            "_model_name": "HBoxModel",
            "_view_count": null,
            "_view_module": "@jupyter-widgets/controls",
            "_view_module_version": "1.5.0",
            "_view_name": "HBoxView",
            "box_style": "",
            "children": [
              "IPY_MODEL_924aa72ae8f548689fd99f5fca279ee7",
              "IPY_MODEL_4451e117175a459da4f71671a9165d66",
              "IPY_MODEL_d3204d03c59f4eab96da750323698878"
            ],
            "layout": "IPY_MODEL_148529bec20c4cd094db735c247a5222"
          }
        },
        "924aa72ae8f548689fd99f5fca279ee7": {
          "model_module": "@jupyter-widgets/controls",
          "model_name": "HTMLModel",
          "model_module_version": "1.5.0",
          "state": {
            "_dom_classes": [],
            "_model_module": "@jupyter-widgets/controls",
            "_model_module_version": "1.5.0",
            "_model_name": "HTMLModel",
            "_view_count": null,
            "_view_module": "@jupyter-widgets/controls",
            "_view_module_version": "1.5.0",
            "_view_name": "HTMLView",
            "description": "",
            "description_tooltip": null,
            "layout": "IPY_MODEL_d3a4c7a67ca84002be63f64aba3e68ca",
            "placeholder": "​",
            "style": "IPY_MODEL_81b5a838b7764f5c9e0f00e307900d42",
            "value": "vocab.txt: 100%"
          }
        },
        "4451e117175a459da4f71671a9165d66": {
          "model_module": "@jupyter-widgets/controls",
          "model_name": "FloatProgressModel",
          "model_module_version": "1.5.0",
          "state": {
            "_dom_classes": [],
            "_model_module": "@jupyter-widgets/controls",
            "_model_module_version": "1.5.0",
            "_model_name": "FloatProgressModel",
            "_view_count": null,
            "_view_module": "@jupyter-widgets/controls",
            "_view_module_version": "1.5.0",
            "_view_name": "ProgressView",
            "bar_style": "success",
            "description": "",
            "description_tooltip": null,
            "layout": "IPY_MODEL_e9da2d12c8a54b9aa440c9f88213d258",
            "max": 995526,
            "min": 0,
            "orientation": "horizontal",
            "style": "IPY_MODEL_a2b704b2c69f44d28bae3648ef473198",
            "value": 995526
          }
        },
        "d3204d03c59f4eab96da750323698878": {
          "model_module": "@jupyter-widgets/controls",
          "model_name": "HTMLModel",
          "model_module_version": "1.5.0",
          "state": {
            "_dom_classes": [],
            "_model_module": "@jupyter-widgets/controls",
            "_model_module_version": "1.5.0",
            "_model_name": "HTMLModel",
            "_view_count": null,
            "_view_module": "@jupyter-widgets/controls",
            "_view_module_version": "1.5.0",
            "_view_name": "HTMLView",
            "description": "",
            "description_tooltip": null,
            "layout": "IPY_MODEL_0a931ab04acf40939b1b15c389d3466d",
            "placeholder": "​",
            "style": "IPY_MODEL_4c37ca98bc5448b69cce52d4a9f75052",
            "value": " 996k/996k [00:00&lt;00:00, 4.54MB/s]"
          }
        },
        "148529bec20c4cd094db735c247a5222": {
          "model_module": "@jupyter-widgets/base",
          "model_name": "LayoutModel",
          "model_module_version": "1.2.0",
          "state": {
            "_model_module": "@jupyter-widgets/base",
            "_model_module_version": "1.2.0",
            "_model_name": "LayoutModel",
            "_view_count": null,
            "_view_module": "@jupyter-widgets/base",
            "_view_module_version": "1.2.0",
            "_view_name": "LayoutView",
            "align_content": null,
            "align_items": null,
            "align_self": null,
            "border": null,
            "bottom": null,
            "display": null,
            "flex": null,
            "flex_flow": null,
            "grid_area": null,
            "grid_auto_columns": null,
            "grid_auto_flow": null,
            "grid_auto_rows": null,
            "grid_column": null,
            "grid_gap": null,
            "grid_row": null,
            "grid_template_areas": null,
            "grid_template_columns": null,
            "grid_template_rows": null,
            "height": null,
            "justify_content": null,
            "justify_items": null,
            "left": null,
            "margin": null,
            "max_height": null,
            "max_width": null,
            "min_height": null,
            "min_width": null,
            "object_fit": null,
            "object_position": null,
            "order": null,
            "overflow": null,
            "overflow_x": null,
            "overflow_y": null,
            "padding": null,
            "right": null,
            "top": null,
            "visibility": null,
            "width": null
          }
        },
        "d3a4c7a67ca84002be63f64aba3e68ca": {
          "model_module": "@jupyter-widgets/base",
          "model_name": "LayoutModel",
          "model_module_version": "1.2.0",
          "state": {
            "_model_module": "@jupyter-widgets/base",
            "_model_module_version": "1.2.0",
            "_model_name": "LayoutModel",
            "_view_count": null,
            "_view_module": "@jupyter-widgets/base",
            "_view_module_version": "1.2.0",
            "_view_name": "LayoutView",
            "align_content": null,
            "align_items": null,
            "align_self": null,
            "border": null,
            "bottom": null,
            "display": null,
            "flex": null,
            "flex_flow": null,
            "grid_area": null,
            "grid_auto_columns": null,
            "grid_auto_flow": null,
            "grid_auto_rows": null,
            "grid_column": null,
            "grid_gap": null,
            "grid_row": null,
            "grid_template_areas": null,
            "grid_template_columns": null,
            "grid_template_rows": null,
            "height": null,
            "justify_content": null,
            "justify_items": null,
            "left": null,
            "margin": null,
            "max_height": null,
            "max_width": null,
            "min_height": null,
            "min_width": null,
            "object_fit": null,
            "object_position": null,
            "order": null,
            "overflow": null,
            "overflow_x": null,
            "overflow_y": null,
            "padding": null,
            "right": null,
            "top": null,
            "visibility": null,
            "width": null
          }
        },
        "81b5a838b7764f5c9e0f00e307900d42": {
          "model_module": "@jupyter-widgets/controls",
          "model_name": "DescriptionStyleModel",
          "model_module_version": "1.5.0",
          "state": {
            "_model_module": "@jupyter-widgets/controls",
            "_model_module_version": "1.5.0",
            "_model_name": "DescriptionStyleModel",
            "_view_count": null,
            "_view_module": "@jupyter-widgets/base",
            "_view_module_version": "1.2.0",
            "_view_name": "StyleView",
            "description_width": ""
          }
        },
        "e9da2d12c8a54b9aa440c9f88213d258": {
          "model_module": "@jupyter-widgets/base",
          "model_name": "LayoutModel",
          "model_module_version": "1.2.0",
          "state": {
            "_model_module": "@jupyter-widgets/base",
            "_model_module_version": "1.2.0",
            "_model_name": "LayoutModel",
            "_view_count": null,
            "_view_module": "@jupyter-widgets/base",
            "_view_module_version": "1.2.0",
            "_view_name": "LayoutView",
            "align_content": null,
            "align_items": null,
            "align_self": null,
            "border": null,
            "bottom": null,
            "display": null,
            "flex": null,
            "flex_flow": null,
            "grid_area": null,
            "grid_auto_columns": null,
            "grid_auto_flow": null,
            "grid_auto_rows": null,
            "grid_column": null,
            "grid_gap": null,
            "grid_row": null,
            "grid_template_areas": null,
            "grid_template_columns": null,
            "grid_template_rows": null,
            "height": null,
            "justify_content": null,
            "justify_items": null,
            "left": null,
            "margin": null,
            "max_height": null,
            "max_width": null,
            "min_height": null,
            "min_width": null,
            "object_fit": null,
            "object_position": null,
            "order": null,
            "overflow": null,
            "overflow_x": null,
            "overflow_y": null,
            "padding": null,
            "right": null,
            "top": null,
            "visibility": null,
            "width": null
          }
        },
        "a2b704b2c69f44d28bae3648ef473198": {
          "model_module": "@jupyter-widgets/controls",
          "model_name": "ProgressStyleModel",
          "model_module_version": "1.5.0",
          "state": {
            "_model_module": "@jupyter-widgets/controls",
            "_model_module_version": "1.5.0",
            "_model_name": "ProgressStyleModel",
            "_view_count": null,
            "_view_module": "@jupyter-widgets/base",
            "_view_module_version": "1.2.0",
            "_view_name": "StyleView",
            "bar_color": null,
            "description_width": ""
          }
        },
        "0a931ab04acf40939b1b15c389d3466d": {
          "model_module": "@jupyter-widgets/base",
          "model_name": "LayoutModel",
          "model_module_version": "1.2.0",
          "state": {
            "_model_module": "@jupyter-widgets/base",
            "_model_module_version": "1.2.0",
            "_model_name": "LayoutModel",
            "_view_count": null,
            "_view_module": "@jupyter-widgets/base",
            "_view_module_version": "1.2.0",
            "_view_name": "LayoutView",
            "align_content": null,
            "align_items": null,
            "align_self": null,
            "border": null,
            "bottom": null,
            "display": null,
            "flex": null,
            "flex_flow": null,
            "grid_area": null,
            "grid_auto_columns": null,
            "grid_auto_flow": null,
            "grid_auto_rows": null,
            "grid_column": null,
            "grid_gap": null,
            "grid_row": null,
            "grid_template_areas": null,
            "grid_template_columns": null,
            "grid_template_rows": null,
            "height": null,
            "justify_content": null,
            "justify_items": null,
            "left": null,
            "margin": null,
            "max_height": null,
            "max_width": null,
            "min_height": null,
            "min_width": null,
            "object_fit": null,
            "object_position": null,
            "order": null,
            "overflow": null,
            "overflow_x": null,
            "overflow_y": null,
            "padding": null,
            "right": null,
            "top": null,
            "visibility": null,
            "width": null
          }
        },
        "4c37ca98bc5448b69cce52d4a9f75052": {
          "model_module": "@jupyter-widgets/controls",
          "model_name": "DescriptionStyleModel",
          "model_module_version": "1.5.0",
          "state": {
            "_model_module": "@jupyter-widgets/controls",
            "_model_module_version": "1.5.0",
            "_model_name": "DescriptionStyleModel",
            "_view_count": null,
            "_view_module": "@jupyter-widgets/base",
            "_view_module_version": "1.2.0",
            "_view_name": "StyleView",
            "description_width": ""
          }
        },
        "99e104423f964070aa7d74f706736294": {
          "model_module": "@jupyter-widgets/controls",
          "model_name": "HBoxModel",
          "model_module_version": "1.5.0",
          "state": {
            "_dom_classes": [],
            "_model_module": "@jupyter-widgets/controls",
            "_model_module_version": "1.5.0",
            "_model_name": "HBoxModel",
            "_view_count": null,
            "_view_module": "@jupyter-widgets/controls",
            "_view_module_version": "1.5.0",
            "_view_name": "HBoxView",
            "box_style": "",
            "children": [
              "IPY_MODEL_60ca4b9a957045baab09142de50c29ac",
              "IPY_MODEL_c1593880645641d6afa5e330ad868176",
              "IPY_MODEL_a327f7476d544b8ca1e9e7a94cc15799"
            ],
            "layout": "IPY_MODEL_2eb49bc4ece745478aa848116ebbafb1"
          }
        },
        "60ca4b9a957045baab09142de50c29ac": {
          "model_module": "@jupyter-widgets/controls",
          "model_name": "HTMLModel",
          "model_module_version": "1.5.0",
          "state": {
            "_dom_classes": [],
            "_model_module": "@jupyter-widgets/controls",
            "_model_module_version": "1.5.0",
            "_model_name": "HTMLModel",
            "_view_count": null,
            "_view_module": "@jupyter-widgets/controls",
            "_view_module_version": "1.5.0",
            "_view_name": "HTMLView",
            "description": "",
            "description_tooltip": null,
            "layout": "IPY_MODEL_9928f459e08a4b5e9520b9adfbe54bf2",
            "placeholder": "​",
            "style": "IPY_MODEL_f13ebc5b87e44f52b857b7b40fec2ecb",
            "value": "tokenizer.json: 100%"
          }
        },
        "c1593880645641d6afa5e330ad868176": {
          "model_module": "@jupyter-widgets/controls",
          "model_name": "FloatProgressModel",
          "model_module_version": "1.5.0",
          "state": {
            "_dom_classes": [],
            "_model_module": "@jupyter-widgets/controls",
            "_model_module_version": "1.5.0",
            "_model_name": "FloatProgressModel",
            "_view_count": null,
            "_view_module": "@jupyter-widgets/controls",
            "_view_module_version": "1.5.0",
            "_view_name": "ProgressView",
            "bar_style": "success",
            "description": "",
            "description_tooltip": null,
            "layout": "IPY_MODEL_0f6eca60c353450a8b3d9d2304bbd9ee",
            "max": 1961828,
            "min": 0,
            "orientation": "horizontal",
            "style": "IPY_MODEL_cbf0a137c38f40cebe47e9bd6de8a5d2",
            "value": 1961828
          }
        },
        "a327f7476d544b8ca1e9e7a94cc15799": {
          "model_module": "@jupyter-widgets/controls",
          "model_name": "HTMLModel",
          "model_module_version": "1.5.0",
          "state": {
            "_dom_classes": [],
            "_model_module": "@jupyter-widgets/controls",
            "_model_module_version": "1.5.0",
            "_model_name": "HTMLModel",
            "_view_count": null,
            "_view_module": "@jupyter-widgets/controls",
            "_view_module_version": "1.5.0",
            "_view_name": "HTMLView",
            "description": "",
            "description_tooltip": null,
            "layout": "IPY_MODEL_e4856714f80b408dbea80682c1e1c63d",
            "placeholder": "​",
            "style": "IPY_MODEL_b97268fbe1364dae8950fb21b5032fad",
            "value": " 1.96M/1.96M [00:00&lt;00:00, 7.05MB/s]"
          }
        },
        "2eb49bc4ece745478aa848116ebbafb1": {
          "model_module": "@jupyter-widgets/base",
          "model_name": "LayoutModel",
          "model_module_version": "1.2.0",
          "state": {
            "_model_module": "@jupyter-widgets/base",
            "_model_module_version": "1.2.0",
            "_model_name": "LayoutModel",
            "_view_count": null,
            "_view_module": "@jupyter-widgets/base",
            "_view_module_version": "1.2.0",
            "_view_name": "LayoutView",
            "align_content": null,
            "align_items": null,
            "align_self": null,
            "border": null,
            "bottom": null,
            "display": null,
            "flex": null,
            "flex_flow": null,
            "grid_area": null,
            "grid_auto_columns": null,
            "grid_auto_flow": null,
            "grid_auto_rows": null,
            "grid_column": null,
            "grid_gap": null,
            "grid_row": null,
            "grid_template_areas": null,
            "grid_template_columns": null,
            "grid_template_rows": null,
            "height": null,
            "justify_content": null,
            "justify_items": null,
            "left": null,
            "margin": null,
            "max_height": null,
            "max_width": null,
            "min_height": null,
            "min_width": null,
            "object_fit": null,
            "object_position": null,
            "order": null,
            "overflow": null,
            "overflow_x": null,
            "overflow_y": null,
            "padding": null,
            "right": null,
            "top": null,
            "visibility": null,
            "width": null
          }
        },
        "9928f459e08a4b5e9520b9adfbe54bf2": {
          "model_module": "@jupyter-widgets/base",
          "model_name": "LayoutModel",
          "model_module_version": "1.2.0",
          "state": {
            "_model_module": "@jupyter-widgets/base",
            "_model_module_version": "1.2.0",
            "_model_name": "LayoutModel",
            "_view_count": null,
            "_view_module": "@jupyter-widgets/base",
            "_view_module_version": "1.2.0",
            "_view_name": "LayoutView",
            "align_content": null,
            "align_items": null,
            "align_self": null,
            "border": null,
            "bottom": null,
            "display": null,
            "flex": null,
            "flex_flow": null,
            "grid_area": null,
            "grid_auto_columns": null,
            "grid_auto_flow": null,
            "grid_auto_rows": null,
            "grid_column": null,
            "grid_gap": null,
            "grid_row": null,
            "grid_template_areas": null,
            "grid_template_columns": null,
            "grid_template_rows": null,
            "height": null,
            "justify_content": null,
            "justify_items": null,
            "left": null,
            "margin": null,
            "max_height": null,
            "max_width": null,
            "min_height": null,
            "min_width": null,
            "object_fit": null,
            "object_position": null,
            "order": null,
            "overflow": null,
            "overflow_x": null,
            "overflow_y": null,
            "padding": null,
            "right": null,
            "top": null,
            "visibility": null,
            "width": null
          }
        },
        "f13ebc5b87e44f52b857b7b40fec2ecb": {
          "model_module": "@jupyter-widgets/controls",
          "model_name": "DescriptionStyleModel",
          "model_module_version": "1.5.0",
          "state": {
            "_model_module": "@jupyter-widgets/controls",
            "_model_module_version": "1.5.0",
            "_model_name": "DescriptionStyleModel",
            "_view_count": null,
            "_view_module": "@jupyter-widgets/base",
            "_view_module_version": "1.2.0",
            "_view_name": "StyleView",
            "description_width": ""
          }
        },
        "0f6eca60c353450a8b3d9d2304bbd9ee": {
          "model_module": "@jupyter-widgets/base",
          "model_name": "LayoutModel",
          "model_module_version": "1.2.0",
          "state": {
            "_model_module": "@jupyter-widgets/base",
            "_model_module_version": "1.2.0",
            "_model_name": "LayoutModel",
            "_view_count": null,
            "_view_module": "@jupyter-widgets/base",
            "_view_module_version": "1.2.0",
            "_view_name": "LayoutView",
            "align_content": null,
            "align_items": null,
            "align_self": null,
            "border": null,
            "bottom": null,
            "display": null,
            "flex": null,
            "flex_flow": null,
            "grid_area": null,
            "grid_auto_columns": null,
            "grid_auto_flow": null,
            "grid_auto_rows": null,
            "grid_column": null,
            "grid_gap": null,
            "grid_row": null,
            "grid_template_areas": null,
            "grid_template_columns": null,
            "grid_template_rows": null,
            "height": null,
            "justify_content": null,
            "justify_items": null,
            "left": null,
            "margin": null,
            "max_height": null,
            "max_width": null,
            "min_height": null,
            "min_width": null,
            "object_fit": null,
            "object_position": null,
            "order": null,
            "overflow": null,
            "overflow_x": null,
            "overflow_y": null,
            "padding": null,
            "right": null,
            "top": null,
            "visibility": null,
            "width": null
          }
        },
        "cbf0a137c38f40cebe47e9bd6de8a5d2": {
          "model_module": "@jupyter-widgets/controls",
          "model_name": "ProgressStyleModel",
          "model_module_version": "1.5.0",
          "state": {
            "_model_module": "@jupyter-widgets/controls",
            "_model_module_version": "1.5.0",
            "_model_name": "ProgressStyleModel",
            "_view_count": null,
            "_view_module": "@jupyter-widgets/base",
            "_view_module_version": "1.2.0",
            "_view_name": "StyleView",
            "bar_color": null,
            "description_width": ""
          }
        },
        "e4856714f80b408dbea80682c1e1c63d": {
          "model_module": "@jupyter-widgets/base",
          "model_name": "LayoutModel",
          "model_module_version": "1.2.0",
          "state": {
            "_model_module": "@jupyter-widgets/base",
            "_model_module_version": "1.2.0",
            "_model_name": "LayoutModel",
            "_view_count": null,
            "_view_module": "@jupyter-widgets/base",
            "_view_module_version": "1.2.0",
            "_view_name": "LayoutView",
            "align_content": null,
            "align_items": null,
            "align_self": null,
            "border": null,
            "bottom": null,
            "display": null,
            "flex": null,
            "flex_flow": null,
            "grid_area": null,
            "grid_auto_columns": null,
            "grid_auto_flow": null,
            "grid_auto_rows": null,
            "grid_column": null,
            "grid_gap": null,
            "grid_row": null,
            "grid_template_areas": null,
            "grid_template_columns": null,
            "grid_template_rows": null,
            "height": null,
            "justify_content": null,
            "justify_items": null,
            "left": null,
            "margin": null,
            "max_height": null,
            "max_width": null,
            "min_height": null,
            "min_width": null,
            "object_fit": null,
            "object_position": null,
            "order": null,
            "overflow": null,
            "overflow_x": null,
            "overflow_y": null,
            "padding": null,
            "right": null,
            "top": null,
            "visibility": null,
            "width": null
          }
        },
        "b97268fbe1364dae8950fb21b5032fad": {
          "model_module": "@jupyter-widgets/controls",
          "model_name": "DescriptionStyleModel",
          "model_module_version": "1.5.0",
          "state": {
            "_model_module": "@jupyter-widgets/controls",
            "_model_module_version": "1.5.0",
            "_model_name": "DescriptionStyleModel",
            "_view_count": null,
            "_view_module": "@jupyter-widgets/base",
            "_view_module_version": "1.2.0",
            "_view_name": "StyleView",
            "description_width": ""
          }
        },
        "2cfbb209b95847689a255efc5e7f1a6d": {
          "model_module": "@jupyter-widgets/controls",
          "model_name": "HBoxModel",
          "model_module_version": "1.5.0",
          "state": {
            "_dom_classes": [],
            "_model_module": "@jupyter-widgets/controls",
            "_model_module_version": "1.5.0",
            "_model_name": "HBoxModel",
            "_view_count": null,
            "_view_module": "@jupyter-widgets/controls",
            "_view_module_version": "1.5.0",
            "_view_name": "HBoxView",
            "box_style": "",
            "children": [
              "IPY_MODEL_c24db25deb914a02a6cf1efcf93959b3",
              "IPY_MODEL_8c20f62fbef843e3a4b958509b081808",
              "IPY_MODEL_28e2f0ed2f1c4782a9653157938cb37e"
            ],
            "layout": "IPY_MODEL_805c0370f5f441748a43d1d495f8efea"
          }
        },
        "c24db25deb914a02a6cf1efcf93959b3": {
          "model_module": "@jupyter-widgets/controls",
          "model_name": "HTMLModel",
          "model_module_version": "1.5.0",
          "state": {
            "_dom_classes": [],
            "_model_module": "@jupyter-widgets/controls",
            "_model_module_version": "1.5.0",
            "_model_name": "HTMLModel",
            "_view_count": null,
            "_view_module": "@jupyter-widgets/controls",
            "_view_module_version": "1.5.0",
            "_view_name": "HTMLView",
            "description": "",
            "description_tooltip": null,
            "layout": "IPY_MODEL_5e01f3e58acd40a992eabb5bf00de62c",
            "placeholder": "​",
            "style": "IPY_MODEL_bc96a4e8954f4bbbb24529bc3267f4af",
            "value": "config.json: 100%"
          }
        },
        "8c20f62fbef843e3a4b958509b081808": {
          "model_module": "@jupyter-widgets/controls",
          "model_name": "FloatProgressModel",
          "model_module_version": "1.5.0",
          "state": {
            "_dom_classes": [],
            "_model_module": "@jupyter-widgets/controls",
            "_model_module_version": "1.5.0",
            "_model_name": "FloatProgressModel",
            "_view_count": null,
            "_view_module": "@jupyter-widgets/controls",
            "_view_module_version": "1.5.0",
            "_view_name": "ProgressView",
            "bar_style": "success",
            "description": "",
            "description_tooltip": null,
            "layout": "IPY_MODEL_5bf8b07c61be4c89890d0ef98f0a0135",
            "max": 466,
            "min": 0,
            "orientation": "horizontal",
            "style": "IPY_MODEL_387092530cb94256892acb1a47d31a6b",
            "value": 466
          }
        },
        "28e2f0ed2f1c4782a9653157938cb37e": {
          "model_module": "@jupyter-widgets/controls",
          "model_name": "HTMLModel",
          "model_module_version": "1.5.0",
          "state": {
            "_dom_classes": [],
            "_model_module": "@jupyter-widgets/controls",
            "_model_module_version": "1.5.0",
            "_model_name": "HTMLModel",
            "_view_count": null,
            "_view_module": "@jupyter-widgets/controls",
            "_view_module_version": "1.5.0",
            "_view_name": "HTMLView",
            "description": "",
            "description_tooltip": null,
            "layout": "IPY_MODEL_e63ab63f9d954388a074f225ee172a07",
            "placeholder": "​",
            "style": "IPY_MODEL_84b7b686145047af9f7ba5a62e05f866",
            "value": " 466/466 [00:00&lt;00:00, 18.9kB/s]"
          }
        },
        "805c0370f5f441748a43d1d495f8efea": {
          "model_module": "@jupyter-widgets/base",
          "model_name": "LayoutModel",
          "model_module_version": "1.2.0",
          "state": {
            "_model_module": "@jupyter-widgets/base",
            "_model_module_version": "1.2.0",
            "_model_name": "LayoutModel",
            "_view_count": null,
            "_view_module": "@jupyter-widgets/base",
            "_view_module_version": "1.2.0",
            "_view_name": "LayoutView",
            "align_content": null,
            "align_items": null,
            "align_self": null,
            "border": null,
            "bottom": null,
            "display": null,
            "flex": null,
            "flex_flow": null,
            "grid_area": null,
            "grid_auto_columns": null,
            "grid_auto_flow": null,
            "grid_auto_rows": null,
            "grid_column": null,
            "grid_gap": null,
            "grid_row": null,
            "grid_template_areas": null,
            "grid_template_columns": null,
            "grid_template_rows": null,
            "height": null,
            "justify_content": null,
            "justify_items": null,
            "left": null,
            "margin": null,
            "max_height": null,
            "max_width": null,
            "min_height": null,
            "min_width": null,
            "object_fit": null,
            "object_position": null,
            "order": null,
            "overflow": null,
            "overflow_x": null,
            "overflow_y": null,
            "padding": null,
            "right": null,
            "top": null,
            "visibility": null,
            "width": null
          }
        },
        "5e01f3e58acd40a992eabb5bf00de62c": {
          "model_module": "@jupyter-widgets/base",
          "model_name": "LayoutModel",
          "model_module_version": "1.2.0",
          "state": {
            "_model_module": "@jupyter-widgets/base",
            "_model_module_version": "1.2.0",
            "_model_name": "LayoutModel",
            "_view_count": null,
            "_view_module": "@jupyter-widgets/base",
            "_view_module_version": "1.2.0",
            "_view_name": "LayoutView",
            "align_content": null,
            "align_items": null,
            "align_self": null,
            "border": null,
            "bottom": null,
            "display": null,
            "flex": null,
            "flex_flow": null,
            "grid_area": null,
            "grid_auto_columns": null,
            "grid_auto_flow": null,
            "grid_auto_rows": null,
            "grid_column": null,
            "grid_gap": null,
            "grid_row": null,
            "grid_template_areas": null,
            "grid_template_columns": null,
            "grid_template_rows": null,
            "height": null,
            "justify_content": null,
            "justify_items": null,
            "left": null,
            "margin": null,
            "max_height": null,
            "max_width": null,
            "min_height": null,
            "min_width": null,
            "object_fit": null,
            "object_position": null,
            "order": null,
            "overflow": null,
            "overflow_x": null,
            "overflow_y": null,
            "padding": null,
            "right": null,
            "top": null,
            "visibility": null,
            "width": null
          }
        },
        "bc96a4e8954f4bbbb24529bc3267f4af": {
          "model_module": "@jupyter-widgets/controls",
          "model_name": "DescriptionStyleModel",
          "model_module_version": "1.5.0",
          "state": {
            "_model_module": "@jupyter-widgets/controls",
            "_model_module_version": "1.5.0",
            "_model_name": "DescriptionStyleModel",
            "_view_count": null,
            "_view_module": "@jupyter-widgets/base",
            "_view_module_version": "1.2.0",
            "_view_name": "StyleView",
            "description_width": ""
          }
        },
        "5bf8b07c61be4c89890d0ef98f0a0135": {
          "model_module": "@jupyter-widgets/base",
          "model_name": "LayoutModel",
          "model_module_version": "1.2.0",
          "state": {
            "_model_module": "@jupyter-widgets/base",
            "_model_module_version": "1.2.0",
            "_model_name": "LayoutModel",
            "_view_count": null,
            "_view_module": "@jupyter-widgets/base",
            "_view_module_version": "1.2.0",
            "_view_name": "LayoutView",
            "align_content": null,
            "align_items": null,
            "align_self": null,
            "border": null,
            "bottom": null,
            "display": null,
            "flex": null,
            "flex_flow": null,
            "grid_area": null,
            "grid_auto_columns": null,
            "grid_auto_flow": null,
            "grid_auto_rows": null,
            "grid_column": null,
            "grid_gap": null,
            "grid_row": null,
            "grid_template_areas": null,
            "grid_template_columns": null,
            "grid_template_rows": null,
            "height": null,
            "justify_content": null,
            "justify_items": null,
            "left": null,
            "margin": null,
            "max_height": null,
            "max_width": null,
            "min_height": null,
            "min_width": null,
            "object_fit": null,
            "object_position": null,
            "order": null,
            "overflow": null,
            "overflow_x": null,
            "overflow_y": null,
            "padding": null,
            "right": null,
            "top": null,
            "visibility": null,
            "width": null
          }
        },
        "387092530cb94256892acb1a47d31a6b": {
          "model_module": "@jupyter-widgets/controls",
          "model_name": "ProgressStyleModel",
          "model_module_version": "1.5.0",
          "state": {
            "_model_module": "@jupyter-widgets/controls",
            "_model_module_version": "1.5.0",
            "_model_name": "ProgressStyleModel",
            "_view_count": null,
            "_view_module": "@jupyter-widgets/base",
            "_view_module_version": "1.2.0",
            "_view_name": "StyleView",
            "bar_color": null,
            "description_width": ""
          }
        },
        "e63ab63f9d954388a074f225ee172a07": {
          "model_module": "@jupyter-widgets/base",
          "model_name": "LayoutModel",
          "model_module_version": "1.2.0",
          "state": {
            "_model_module": "@jupyter-widgets/base",
            "_model_module_version": "1.2.0",
            "_model_name": "LayoutModel",
            "_view_count": null,
            "_view_module": "@jupyter-widgets/base",
            "_view_module_version": "1.2.0",
            "_view_name": "LayoutView",
            "align_content": null,
            "align_items": null,
            "align_self": null,
            "border": null,
            "bottom": null,
            "display": null,
            "flex": null,
            "flex_flow": null,
            "grid_area": null,
            "grid_auto_columns": null,
            "grid_auto_flow": null,
            "grid_auto_rows": null,
            "grid_column": null,
            "grid_gap": null,
            "grid_row": null,
            "grid_template_areas": null,
            "grid_template_columns": null,
            "grid_template_rows": null,
            "height": null,
            "justify_content": null,
            "justify_items": null,
            "left": null,
            "margin": null,
            "max_height": null,
            "max_width": null,
            "min_height": null,
            "min_width": null,
            "object_fit": null,
            "object_position": null,
            "order": null,
            "overflow": null,
            "overflow_x": null,
            "overflow_y": null,
            "padding": null,
            "right": null,
            "top": null,
            "visibility": null,
            "width": null
          }
        },
        "84b7b686145047af9f7ba5a62e05f866": {
          "model_module": "@jupyter-widgets/controls",
          "model_name": "DescriptionStyleModel",
          "model_module_version": "1.5.0",
          "state": {
            "_model_module": "@jupyter-widgets/controls",
            "_model_module_version": "1.5.0",
            "_model_name": "DescriptionStyleModel",
            "_view_count": null,
            "_view_module": "@jupyter-widgets/base",
            "_view_module_version": "1.2.0",
            "_view_name": "StyleView",
            "description_width": ""
          }
        },
        "d03fb66a21834e8f8ca8fd6f3ae3ada4": {
          "model_module": "@jupyter-widgets/controls",
          "model_name": "HBoxModel",
          "model_module_version": "1.5.0",
          "state": {
            "_dom_classes": [],
            "_model_module": "@jupyter-widgets/controls",
            "_model_module_version": "1.5.0",
            "_model_name": "HBoxModel",
            "_view_count": null,
            "_view_module": "@jupyter-widgets/controls",
            "_view_module_version": "1.5.0",
            "_view_name": "HBoxView",
            "box_style": "",
            "children": [
              "IPY_MODEL_b53f8e5946bd449899b8e7a845b5b23f",
              "IPY_MODEL_a2aee0f8bc9b4a2c9616da39aa4e9e92",
              "IPY_MODEL_d46d97d1acbb42c8bae077da57c6cbdd"
            ],
            "layout": "IPY_MODEL_42948d8754e64ed7bc318c205f89a965"
          }
        },
        "b53f8e5946bd449899b8e7a845b5b23f": {
          "model_module": "@jupyter-widgets/controls",
          "model_name": "HTMLModel",
          "model_module_version": "1.5.0",
          "state": {
            "_dom_classes": [],
            "_model_module": "@jupyter-widgets/controls",
            "_model_module_version": "1.5.0",
            "_model_name": "HTMLModel",
            "_view_count": null,
            "_view_module": "@jupyter-widgets/controls",
            "_view_module_version": "1.5.0",
            "_view_name": "HTMLView",
            "description": "",
            "description_tooltip": null,
            "layout": "IPY_MODEL_fe98f107b6c943bca34217afa5225bc4",
            "placeholder": "​",
            "style": "IPY_MODEL_ee0cf9d5fd0848ff92bbacefb0ceab6b",
            "value": "Map: 100%"
          }
        },
        "a2aee0f8bc9b4a2c9616da39aa4e9e92": {
          "model_module": "@jupyter-widgets/controls",
          "model_name": "FloatProgressModel",
          "model_module_version": "1.5.0",
          "state": {
            "_dom_classes": [],
            "_model_module": "@jupyter-widgets/controls",
            "_model_module_version": "1.5.0",
            "_model_name": "FloatProgressModel",
            "_view_count": null,
            "_view_module": "@jupyter-widgets/controls",
            "_view_module_version": "1.5.0",
            "_view_name": "ProgressView",
            "bar_style": "success",
            "description": "",
            "description_tooltip": null,
            "layout": "IPY_MODEL_d78bb0525c91455999f215bbf572a2a8",
            "max": 19080,
            "min": 0,
            "orientation": "horizontal",
            "style": "IPY_MODEL_4ac1db6965ec48b6b88288626d38d2de",
            "value": 19080
          }
        },
        "d46d97d1acbb42c8bae077da57c6cbdd": {
          "model_module": "@jupyter-widgets/controls",
          "model_name": "HTMLModel",
          "model_module_version": "1.5.0",
          "state": {
            "_dom_classes": [],
            "_model_module": "@jupyter-widgets/controls",
            "_model_module_version": "1.5.0",
            "_model_name": "HTMLModel",
            "_view_count": null,
            "_view_module": "@jupyter-widgets/controls",
            "_view_module_version": "1.5.0",
            "_view_name": "HTMLView",
            "description": "",
            "description_tooltip": null,
            "layout": "IPY_MODEL_eccaf935c98546f49a50c04b95b691c4",
            "placeholder": "​",
            "style": "IPY_MODEL_2cf9ca25cf5546438df47edbab49bf81",
            "value": " 19080/19080 [00:21&lt;00:00, 954.55 examples/s]"
          }
        },
        "42948d8754e64ed7bc318c205f89a965": {
          "model_module": "@jupyter-widgets/base",
          "model_name": "LayoutModel",
          "model_module_version": "1.2.0",
          "state": {
            "_model_module": "@jupyter-widgets/base",
            "_model_module_version": "1.2.0",
            "_model_name": "LayoutModel",
            "_view_count": null,
            "_view_module": "@jupyter-widgets/base",
            "_view_module_version": "1.2.0",
            "_view_name": "LayoutView",
            "align_content": null,
            "align_items": null,
            "align_self": null,
            "border": null,
            "bottom": null,
            "display": null,
            "flex": null,
            "flex_flow": null,
            "grid_area": null,
            "grid_auto_columns": null,
            "grid_auto_flow": null,
            "grid_auto_rows": null,
            "grid_column": null,
            "grid_gap": null,
            "grid_row": null,
            "grid_template_areas": null,
            "grid_template_columns": null,
            "grid_template_rows": null,
            "height": null,
            "justify_content": null,
            "justify_items": null,
            "left": null,
            "margin": null,
            "max_height": null,
            "max_width": null,
            "min_height": null,
            "min_width": null,
            "object_fit": null,
            "object_position": null,
            "order": null,
            "overflow": null,
            "overflow_x": null,
            "overflow_y": null,
            "padding": null,
            "right": null,
            "top": null,
            "visibility": null,
            "width": null
          }
        },
        "fe98f107b6c943bca34217afa5225bc4": {
          "model_module": "@jupyter-widgets/base",
          "model_name": "LayoutModel",
          "model_module_version": "1.2.0",
          "state": {
            "_model_module": "@jupyter-widgets/base",
            "_model_module_version": "1.2.0",
            "_model_name": "LayoutModel",
            "_view_count": null,
            "_view_module": "@jupyter-widgets/base",
            "_view_module_version": "1.2.0",
            "_view_name": "LayoutView",
            "align_content": null,
            "align_items": null,
            "align_self": null,
            "border": null,
            "bottom": null,
            "display": null,
            "flex": null,
            "flex_flow": null,
            "grid_area": null,
            "grid_auto_columns": null,
            "grid_auto_flow": null,
            "grid_auto_rows": null,
            "grid_column": null,
            "grid_gap": null,
            "grid_row": null,
            "grid_template_areas": null,
            "grid_template_columns": null,
            "grid_template_rows": null,
            "height": null,
            "justify_content": null,
            "justify_items": null,
            "left": null,
            "margin": null,
            "max_height": null,
            "max_width": null,
            "min_height": null,
            "min_width": null,
            "object_fit": null,
            "object_position": null,
            "order": null,
            "overflow": null,
            "overflow_x": null,
            "overflow_y": null,
            "padding": null,
            "right": null,
            "top": null,
            "visibility": null,
            "width": null
          }
        },
        "ee0cf9d5fd0848ff92bbacefb0ceab6b": {
          "model_module": "@jupyter-widgets/controls",
          "model_name": "DescriptionStyleModel",
          "model_module_version": "1.5.0",
          "state": {
            "_model_module": "@jupyter-widgets/controls",
            "_model_module_version": "1.5.0",
            "_model_name": "DescriptionStyleModel",
            "_view_count": null,
            "_view_module": "@jupyter-widgets/base",
            "_view_module_version": "1.2.0",
            "_view_name": "StyleView",
            "description_width": ""
          }
        },
        "d78bb0525c91455999f215bbf572a2a8": {
          "model_module": "@jupyter-widgets/base",
          "model_name": "LayoutModel",
          "model_module_version": "1.2.0",
          "state": {
            "_model_module": "@jupyter-widgets/base",
            "_model_module_version": "1.2.0",
            "_model_name": "LayoutModel",
            "_view_count": null,
            "_view_module": "@jupyter-widgets/base",
            "_view_module_version": "1.2.0",
            "_view_name": "LayoutView",
            "align_content": null,
            "align_items": null,
            "align_self": null,
            "border": null,
            "bottom": null,
            "display": null,
            "flex": null,
            "flex_flow": null,
            "grid_area": null,
            "grid_auto_columns": null,
            "grid_auto_flow": null,
            "grid_auto_rows": null,
            "grid_column": null,
            "grid_gap": null,
            "grid_row": null,
            "grid_template_areas": null,
            "grid_template_columns": null,
            "grid_template_rows": null,
            "height": null,
            "justify_content": null,
            "justify_items": null,
            "left": null,
            "margin": null,
            "max_height": null,
            "max_width": null,
            "min_height": null,
            "min_width": null,
            "object_fit": null,
            "object_position": null,
            "order": null,
            "overflow": null,
            "overflow_x": null,
            "overflow_y": null,
            "padding": null,
            "right": null,
            "top": null,
            "visibility": null,
            "width": null
          }
        },
        "4ac1db6965ec48b6b88288626d38d2de": {
          "model_module": "@jupyter-widgets/controls",
          "model_name": "ProgressStyleModel",
          "model_module_version": "1.5.0",
          "state": {
            "_model_module": "@jupyter-widgets/controls",
            "_model_module_version": "1.5.0",
            "_model_name": "ProgressStyleModel",
            "_view_count": null,
            "_view_module": "@jupyter-widgets/base",
            "_view_module_version": "1.2.0",
            "_view_name": "StyleView",
            "bar_color": null,
            "description_width": ""
          }
        },
        "eccaf935c98546f49a50c04b95b691c4": {
          "model_module": "@jupyter-widgets/base",
          "model_name": "LayoutModel",
          "model_module_version": "1.2.0",
          "state": {
            "_model_module": "@jupyter-widgets/base",
            "_model_module_version": "1.2.0",
            "_model_name": "LayoutModel",
            "_view_count": null,
            "_view_module": "@jupyter-widgets/base",
            "_view_module_version": "1.2.0",
            "_view_name": "LayoutView",
            "align_content": null,
            "align_items": null,
            "align_self": null,
            "border": null,
            "bottom": null,
            "display": null,
            "flex": null,
            "flex_flow": null,
            "grid_area": null,
            "grid_auto_columns": null,
            "grid_auto_flow": null,
            "grid_auto_rows": null,
            "grid_column": null,
            "grid_gap": null,
            "grid_row": null,
            "grid_template_areas": null,
            "grid_template_columns": null,
            "grid_template_rows": null,
            "height": null,
            "justify_content": null,
            "justify_items": null,
            "left": null,
            "margin": null,
            "max_height": null,
            "max_width": null,
            "min_height": null,
            "min_width": null,
            "object_fit": null,
            "object_position": null,
            "order": null,
            "overflow": null,
            "overflow_x": null,
            "overflow_y": null,
            "padding": null,
            "right": null,
            "top": null,
            "visibility": null,
            "width": null
          }
        },
        "2cf9ca25cf5546438df47edbab49bf81": {
          "model_module": "@jupyter-widgets/controls",
          "model_name": "DescriptionStyleModel",
          "model_module_version": "1.5.0",
          "state": {
            "_model_module": "@jupyter-widgets/controls",
            "_model_module_version": "1.5.0",
            "_model_name": "DescriptionStyleModel",
            "_view_count": null,
            "_view_module": "@jupyter-widgets/base",
            "_view_module_version": "1.2.0",
            "_view_name": "StyleView",
            "description_width": ""
          }
        },
        "f7da24be0889459cbdfc66d9565d127d": {
          "model_module": "@jupyter-widgets/controls",
          "model_name": "HBoxModel",
          "model_module_version": "1.5.0",
          "state": {
            "_dom_classes": [],
            "_model_module": "@jupyter-widgets/controls",
            "_model_module_version": "1.5.0",
            "_model_name": "HBoxModel",
            "_view_count": null,
            "_view_module": "@jupyter-widgets/controls",
            "_view_module_version": "1.5.0",
            "_view_name": "HBoxView",
            "box_style": "",
            "children": [
              "IPY_MODEL_65a0383002aa46acae62f3a27fa39071",
              "IPY_MODEL_1595b2f4922548748c5fd1060fb83b29",
              "IPY_MODEL_ac6fe15638bc423a93a0dc7fd56d8d88"
            ],
            "layout": "IPY_MODEL_a32acf333610470281947f0d806f373e"
          }
        },
        "65a0383002aa46acae62f3a27fa39071": {
          "model_module": "@jupyter-widgets/controls",
          "model_name": "HTMLModel",
          "model_module_version": "1.5.0",
          "state": {
            "_dom_classes": [],
            "_model_module": "@jupyter-widgets/controls",
            "_model_module_version": "1.5.0",
            "_model_name": "HTMLModel",
            "_view_count": null,
            "_view_module": "@jupyter-widgets/controls",
            "_view_module_version": "1.5.0",
            "_view_name": "HTMLView",
            "description": "",
            "description_tooltip": null,
            "layout": "IPY_MODEL_41488f2179384c158eeb7c02710b83f4",
            "placeholder": "​",
            "style": "IPY_MODEL_d8854abfa7f8479e8dfcd0397aefbb73",
            "value": "Map: 100%"
          }
        },
        "1595b2f4922548748c5fd1060fb83b29": {
          "model_module": "@jupyter-widgets/controls",
          "model_name": "FloatProgressModel",
          "model_module_version": "1.5.0",
          "state": {
            "_dom_classes": [],
            "_model_module": "@jupyter-widgets/controls",
            "_model_module_version": "1.5.0",
            "_model_name": "FloatProgressModel",
            "_view_count": null,
            "_view_module": "@jupyter-widgets/controls",
            "_view_module_version": "1.5.0",
            "_view_name": "ProgressView",
            "bar_style": "success",
            "description": "",
            "description_tooltip": null,
            "layout": "IPY_MODEL_f54896c67ba548f1a50e27653326a7fb",
            "max": 2846,
            "min": 0,
            "orientation": "horizontal",
            "style": "IPY_MODEL_065030b7f12243a28c6fc12b415e5328",
            "value": 2846
          }
        },
        "ac6fe15638bc423a93a0dc7fd56d8d88": {
          "model_module": "@jupyter-widgets/controls",
          "model_name": "HTMLModel",
          "model_module_version": "1.5.0",
          "state": {
            "_dom_classes": [],
            "_model_module": "@jupyter-widgets/controls",
            "_model_module_version": "1.5.0",
            "_model_name": "HTMLModel",
            "_view_count": null,
            "_view_module": "@jupyter-widgets/controls",
            "_view_module_version": "1.5.0",
            "_view_name": "HTMLView",
            "description": "",
            "description_tooltip": null,
            "layout": "IPY_MODEL_9fec649cfccb4440942f1809d50469cd",
            "placeholder": "​",
            "style": "IPY_MODEL_982be73bb8a54246aa2a3afa60849464",
            "value": " 2846/2846 [00:07&lt;00:00, 363.14 examples/s]"
          }
        },
        "a32acf333610470281947f0d806f373e": {
          "model_module": "@jupyter-widgets/base",
          "model_name": "LayoutModel",
          "model_module_version": "1.2.0",
          "state": {
            "_model_module": "@jupyter-widgets/base",
            "_model_module_version": "1.2.0",
            "_model_name": "LayoutModel",
            "_view_count": null,
            "_view_module": "@jupyter-widgets/base",
            "_view_module_version": "1.2.0",
            "_view_name": "LayoutView",
            "align_content": null,
            "align_items": null,
            "align_self": null,
            "border": null,
            "bottom": null,
            "display": null,
            "flex": null,
            "flex_flow": null,
            "grid_area": null,
            "grid_auto_columns": null,
            "grid_auto_flow": null,
            "grid_auto_rows": null,
            "grid_column": null,
            "grid_gap": null,
            "grid_row": null,
            "grid_template_areas": null,
            "grid_template_columns": null,
            "grid_template_rows": null,
            "height": null,
            "justify_content": null,
            "justify_items": null,
            "left": null,
            "margin": null,
            "max_height": null,
            "max_width": null,
            "min_height": null,
            "min_width": null,
            "object_fit": null,
            "object_position": null,
            "order": null,
            "overflow": null,
            "overflow_x": null,
            "overflow_y": null,
            "padding": null,
            "right": null,
            "top": null,
            "visibility": null,
            "width": null
          }
        },
        "41488f2179384c158eeb7c02710b83f4": {
          "model_module": "@jupyter-widgets/base",
          "model_name": "LayoutModel",
          "model_module_version": "1.2.0",
          "state": {
            "_model_module": "@jupyter-widgets/base",
            "_model_module_version": "1.2.0",
            "_model_name": "LayoutModel",
            "_view_count": null,
            "_view_module": "@jupyter-widgets/base",
            "_view_module_version": "1.2.0",
            "_view_name": "LayoutView",
            "align_content": null,
            "align_items": null,
            "align_self": null,
            "border": null,
            "bottom": null,
            "display": null,
            "flex": null,
            "flex_flow": null,
            "grid_area": null,
            "grid_auto_columns": null,
            "grid_auto_flow": null,
            "grid_auto_rows": null,
            "grid_column": null,
            "grid_gap": null,
            "grid_row": null,
            "grid_template_areas": null,
            "grid_template_columns": null,
            "grid_template_rows": null,
            "height": null,
            "justify_content": null,
            "justify_items": null,
            "left": null,
            "margin": null,
            "max_height": null,
            "max_width": null,
            "min_height": null,
            "min_width": null,
            "object_fit": null,
            "object_position": null,
            "order": null,
            "overflow": null,
            "overflow_x": null,
            "overflow_y": null,
            "padding": null,
            "right": null,
            "top": null,
            "visibility": null,
            "width": null
          }
        },
        "d8854abfa7f8479e8dfcd0397aefbb73": {
          "model_module": "@jupyter-widgets/controls",
          "model_name": "DescriptionStyleModel",
          "model_module_version": "1.5.0",
          "state": {
            "_model_module": "@jupyter-widgets/controls",
            "_model_module_version": "1.5.0",
            "_model_name": "DescriptionStyleModel",
            "_view_count": null,
            "_view_module": "@jupyter-widgets/base",
            "_view_module_version": "1.2.0",
            "_view_name": "StyleView",
            "description_width": ""
          }
        },
        "f54896c67ba548f1a50e27653326a7fb": {
          "model_module": "@jupyter-widgets/base",
          "model_name": "LayoutModel",
          "model_module_version": "1.2.0",
          "state": {
            "_model_module": "@jupyter-widgets/base",
            "_model_module_version": "1.2.0",
            "_model_name": "LayoutModel",
            "_view_count": null,
            "_view_module": "@jupyter-widgets/base",
            "_view_module_version": "1.2.0",
            "_view_name": "LayoutView",
            "align_content": null,
            "align_items": null,
            "align_self": null,
            "border": null,
            "bottom": null,
            "display": null,
            "flex": null,
            "flex_flow": null,
            "grid_area": null,
            "grid_auto_columns": null,
            "grid_auto_flow": null,
            "grid_auto_rows": null,
            "grid_column": null,
            "grid_gap": null,
            "grid_row": null,
            "grid_template_areas": null,
            "grid_template_columns": null,
            "grid_template_rows": null,
            "height": null,
            "justify_content": null,
            "justify_items": null,
            "left": null,
            "margin": null,
            "max_height": null,
            "max_width": null,
            "min_height": null,
            "min_width": null,
            "object_fit": null,
            "object_position": null,
            "order": null,
            "overflow": null,
            "overflow_x": null,
            "overflow_y": null,
            "padding": null,
            "right": null,
            "top": null,
            "visibility": null,
            "width": null
          }
        },
        "065030b7f12243a28c6fc12b415e5328": {
          "model_module": "@jupyter-widgets/controls",
          "model_name": "ProgressStyleModel",
          "model_module_version": "1.5.0",
          "state": {
            "_model_module": "@jupyter-widgets/controls",
            "_model_module_version": "1.5.0",
            "_model_name": "ProgressStyleModel",
            "_view_count": null,
            "_view_module": "@jupyter-widgets/base",
            "_view_module_version": "1.2.0",
            "_view_name": "StyleView",
            "bar_color": null,
            "description_width": ""
          }
        },
        "9fec649cfccb4440942f1809d50469cd": {
          "model_module": "@jupyter-widgets/base",
          "model_name": "LayoutModel",
          "model_module_version": "1.2.0",
          "state": {
            "_model_module": "@jupyter-widgets/base",
            "_model_module_version": "1.2.0",
            "_model_name": "LayoutModel",
            "_view_count": null,
            "_view_module": "@jupyter-widgets/base",
            "_view_module_version": "1.2.0",
            "_view_name": "LayoutView",
            "align_content": null,
            "align_items": null,
            "align_self": null,
            "border": null,
            "bottom": null,
            "display": null,
            "flex": null,
            "flex_flow": null,
            "grid_area": null,
            "grid_auto_columns": null,
            "grid_auto_flow": null,
            "grid_auto_rows": null,
            "grid_column": null,
            "grid_gap": null,
            "grid_row": null,
            "grid_template_areas": null,
            "grid_template_columns": null,
            "grid_template_rows": null,
            "height": null,
            "justify_content": null,
            "justify_items": null,
            "left": null,
            "margin": null,
            "max_height": null,
            "max_width": null,
            "min_height": null,
            "min_width": null,
            "object_fit": null,
            "object_position": null,
            "order": null,
            "overflow": null,
            "overflow_x": null,
            "overflow_y": null,
            "padding": null,
            "right": null,
            "top": null,
            "visibility": null,
            "width": null
          }
        },
        "982be73bb8a54246aa2a3afa60849464": {
          "model_module": "@jupyter-widgets/controls",
          "model_name": "DescriptionStyleModel",
          "model_module_version": "1.5.0",
          "state": {
            "_model_module": "@jupyter-widgets/controls",
            "_model_module_version": "1.5.0",
            "_model_name": "DescriptionStyleModel",
            "_view_count": null,
            "_view_module": "@jupyter-widgets/base",
            "_view_module_version": "1.2.0",
            "_view_name": "StyleView",
            "description_width": ""
          }
        },
        "aaef55feeffa4efeb1e8413071c29d12": {
          "model_module": "@jupyter-widgets/controls",
          "model_name": "HBoxModel",
          "model_module_version": "1.5.0",
          "state": {
            "_dom_classes": [],
            "_model_module": "@jupyter-widgets/controls",
            "_model_module_version": "1.5.0",
            "_model_name": "HBoxModel",
            "_view_count": null,
            "_view_module": "@jupyter-widgets/controls",
            "_view_module_version": "1.5.0",
            "_view_name": "HBoxView",
            "box_style": "",
            "children": [
              "IPY_MODEL_2751ce664e7f40d0ab0534a9b6c2adb7",
              "IPY_MODEL_13db40a9033b48c8aa5dff7ad1793f42",
              "IPY_MODEL_45abb493c26f429292c68b2d99b7ce0f"
            ],
            "layout": "IPY_MODEL_2f1a9be6052a4df0afbd0bd9748922c6"
          }
        },
        "2751ce664e7f40d0ab0534a9b6c2adb7": {
          "model_module": "@jupyter-widgets/controls",
          "model_name": "HTMLModel",
          "model_module_version": "1.5.0",
          "state": {
            "_dom_classes": [],
            "_model_module": "@jupyter-widgets/controls",
            "_model_module_version": "1.5.0",
            "_model_name": "HTMLModel",
            "_view_count": null,
            "_view_module": "@jupyter-widgets/controls",
            "_view_module_version": "1.5.0",
            "_view_name": "HTMLView",
            "description": "",
            "description_tooltip": null,
            "layout": "IPY_MODEL_1dd89f2365cf4cddaaa812da1b35e69a",
            "placeholder": "​",
            "style": "IPY_MODEL_906cd452a2524a05a050b1b64a21bee5",
            "value": "model.safetensors: 100%"
          }
        },
        "13db40a9033b48c8aa5dff7ad1793f42": {
          "model_module": "@jupyter-widgets/controls",
          "model_name": "FloatProgressModel",
          "model_module_version": "1.5.0",
          "state": {
            "_dom_classes": [],
            "_model_module": "@jupyter-widgets/controls",
            "_model_module_version": "1.5.0",
            "_model_name": "FloatProgressModel",
            "_view_count": null,
            "_view_module": "@jupyter-widgets/controls",
            "_view_module_version": "1.5.0",
            "_view_name": "ProgressView",
            "bar_style": "success",
            "description": "",
            "description_tooltip": null,
            "layout": "IPY_MODEL_4c4519e430b4446e975694863240431b",
            "max": 541795680,
            "min": 0,
            "orientation": "horizontal",
            "style": "IPY_MODEL_f991ebca9eb241be904083f7229fa2fe",
            "value": 541795680
          }
        },
        "45abb493c26f429292c68b2d99b7ce0f": {
          "model_module": "@jupyter-widgets/controls",
          "model_name": "HTMLModel",
          "model_module_version": "1.5.0",
          "state": {
            "_dom_classes": [],
            "_model_module": "@jupyter-widgets/controls",
            "_model_module_version": "1.5.0",
            "_model_name": "HTMLModel",
            "_view_count": null,
            "_view_module": "@jupyter-widgets/controls",
            "_view_module_version": "1.5.0",
            "_view_name": "HTMLView",
            "description": "",
            "description_tooltip": null,
            "layout": "IPY_MODEL_06c00486339046daa76700ca34b367c9",
            "placeholder": "​",
            "style": "IPY_MODEL_9f8eaa6dad7f49ccb4736bedab58b131",
            "value": " 542M/542M [00:02&lt;00:00, 240MB/s]"
          }
        },
        "2f1a9be6052a4df0afbd0bd9748922c6": {
          "model_module": "@jupyter-widgets/base",
          "model_name": "LayoutModel",
          "model_module_version": "1.2.0",
          "state": {
            "_model_module": "@jupyter-widgets/base",
            "_model_module_version": "1.2.0",
            "_model_name": "LayoutModel",
            "_view_count": null,
            "_view_module": "@jupyter-widgets/base",
            "_view_module_version": "1.2.0",
            "_view_name": "LayoutView",
            "align_content": null,
            "align_items": null,
            "align_self": null,
            "border": null,
            "bottom": null,
            "display": null,
            "flex": null,
            "flex_flow": null,
            "grid_area": null,
            "grid_auto_columns": null,
            "grid_auto_flow": null,
            "grid_auto_rows": null,
            "grid_column": null,
            "grid_gap": null,
            "grid_row": null,
            "grid_template_areas": null,
            "grid_template_columns": null,
            "grid_template_rows": null,
            "height": null,
            "justify_content": null,
            "justify_items": null,
            "left": null,
            "margin": null,
            "max_height": null,
            "max_width": null,
            "min_height": null,
            "min_width": null,
            "object_fit": null,
            "object_position": null,
            "order": null,
            "overflow": null,
            "overflow_x": null,
            "overflow_y": null,
            "padding": null,
            "right": null,
            "top": null,
            "visibility": null,
            "width": null
          }
        },
        "1dd89f2365cf4cddaaa812da1b35e69a": {
          "model_module": "@jupyter-widgets/base",
          "model_name": "LayoutModel",
          "model_module_version": "1.2.0",
          "state": {
            "_model_module": "@jupyter-widgets/base",
            "_model_module_version": "1.2.0",
            "_model_name": "LayoutModel",
            "_view_count": null,
            "_view_module": "@jupyter-widgets/base",
            "_view_module_version": "1.2.0",
            "_view_name": "LayoutView",
            "align_content": null,
            "align_items": null,
            "align_self": null,
            "border": null,
            "bottom": null,
            "display": null,
            "flex": null,
            "flex_flow": null,
            "grid_area": null,
            "grid_auto_columns": null,
            "grid_auto_flow": null,
            "grid_auto_rows": null,
            "grid_column": null,
            "grid_gap": null,
            "grid_row": null,
            "grid_template_areas": null,
            "grid_template_columns": null,
            "grid_template_rows": null,
            "height": null,
            "justify_content": null,
            "justify_items": null,
            "left": null,
            "margin": null,
            "max_height": null,
            "max_width": null,
            "min_height": null,
            "min_width": null,
            "object_fit": null,
            "object_position": null,
            "order": null,
            "overflow": null,
            "overflow_x": null,
            "overflow_y": null,
            "padding": null,
            "right": null,
            "top": null,
            "visibility": null,
            "width": null
          }
        },
        "906cd452a2524a05a050b1b64a21bee5": {
          "model_module": "@jupyter-widgets/controls",
          "model_name": "DescriptionStyleModel",
          "model_module_version": "1.5.0",
          "state": {
            "_model_module": "@jupyter-widgets/controls",
            "_model_module_version": "1.5.0",
            "_model_name": "DescriptionStyleModel",
            "_view_count": null,
            "_view_module": "@jupyter-widgets/base",
            "_view_module_version": "1.2.0",
            "_view_name": "StyleView",
            "description_width": ""
          }
        },
        "4c4519e430b4446e975694863240431b": {
          "model_module": "@jupyter-widgets/base",
          "model_name": "LayoutModel",
          "model_module_version": "1.2.0",
          "state": {
            "_model_module": "@jupyter-widgets/base",
            "_model_module_version": "1.2.0",
            "_model_name": "LayoutModel",
            "_view_count": null,
            "_view_module": "@jupyter-widgets/base",
            "_view_module_version": "1.2.0",
            "_view_name": "LayoutView",
            "align_content": null,
            "align_items": null,
            "align_self": null,
            "border": null,
            "bottom": null,
            "display": null,
            "flex": null,
            "flex_flow": null,
            "grid_area": null,
            "grid_auto_columns": null,
            "grid_auto_flow": null,
            "grid_auto_rows": null,
            "grid_column": null,
            "grid_gap": null,
            "grid_row": null,
            "grid_template_areas": null,
            "grid_template_columns": null,
            "grid_template_rows": null,
            "height": null,
            "justify_content": null,
            "justify_items": null,
            "left": null,
            "margin": null,
            "max_height": null,
            "max_width": null,
            "min_height": null,
            "min_width": null,
            "object_fit": null,
            "object_position": null,
            "order": null,
            "overflow": null,
            "overflow_x": null,
            "overflow_y": null,
            "padding": null,
            "right": null,
            "top": null,
            "visibility": null,
            "width": null
          }
        },
        "f991ebca9eb241be904083f7229fa2fe": {
          "model_module": "@jupyter-widgets/controls",
          "model_name": "ProgressStyleModel",
          "model_module_version": "1.5.0",
          "state": {
            "_model_module": "@jupyter-widgets/controls",
            "_model_module_version": "1.5.0",
            "_model_name": "ProgressStyleModel",
            "_view_count": null,
            "_view_module": "@jupyter-widgets/base",
            "_view_module_version": "1.2.0",
            "_view_name": "StyleView",
            "bar_color": null,
            "description_width": ""
          }
        },
        "06c00486339046daa76700ca34b367c9": {
          "model_module": "@jupyter-widgets/base",
          "model_name": "LayoutModel",
          "model_module_version": "1.2.0",
          "state": {
            "_model_module": "@jupyter-widgets/base",
            "_model_module_version": "1.2.0",
            "_model_name": "LayoutModel",
            "_view_count": null,
            "_view_module": "@jupyter-widgets/base",
            "_view_module_version": "1.2.0",
            "_view_name": "LayoutView",
            "align_content": null,
            "align_items": null,
            "align_self": null,
            "border": null,
            "bottom": null,
            "display": null,
            "flex": null,
            "flex_flow": null,
            "grid_area": null,
            "grid_auto_columns": null,
            "grid_auto_flow": null,
            "grid_auto_rows": null,
            "grid_column": null,
            "grid_gap": null,
            "grid_row": null,
            "grid_template_areas": null,
            "grid_template_columns": null,
            "grid_template_rows": null,
            "height": null,
            "justify_content": null,
            "justify_items": null,
            "left": null,
            "margin": null,
            "max_height": null,
            "max_width": null,
            "min_height": null,
            "min_width": null,
            "object_fit": null,
            "object_position": null,
            "order": null,
            "overflow": null,
            "overflow_x": null,
            "overflow_y": null,
            "padding": null,
            "right": null,
            "top": null,
            "visibility": null,
            "width": null
          }
        },
        "9f8eaa6dad7f49ccb4736bedab58b131": {
          "model_module": "@jupyter-widgets/controls",
          "model_name": "DescriptionStyleModel",
          "model_module_version": "1.5.0",
          "state": {
            "_model_module": "@jupyter-widgets/controls",
            "_model_module_version": "1.5.0",
            "_model_name": "DescriptionStyleModel",
            "_view_count": null,
            "_view_module": "@jupyter-widgets/base",
            "_view_module_version": "1.2.0",
            "_view_name": "StyleView",
            "description_width": ""
          }
        }
      }
    },
    "accelerator": "GPU"
  },
  "cells": [
    {
      "cell_type": "markdown",
      "source": [
        "# Классификация текста с помощью трансформеров: сравнительный анализ с традиционными методами."
      ],
      "metadata": {
        "id": "BfoqUPVHFLyD"
      }
    },
    {
      "cell_type": "markdown",
      "source": [
        "Автор: [Григорьев Виталий](https://github.com/vi21g), студент \"академии нейросетей THE FOUNDER\"."
      ],
      "metadata": {
        "id": "Fy6pE7KPI_Sz"
      }
    },
    {
      "cell_type": "markdown",
      "source": [
        "## Аннотация"
      ],
      "metadata": {
        "id": "tifRywu1JC8T"
      }
    },
    {
      "cell_type": "markdown",
      "source": [
        "В данной работе проводится сравнительный анализ эффективности современных трансформерных моделей (на примере дообученной BERT-подобной архитектуры) и классических методов машинного обучения, таких как Logistic Regression, XGBoost и SVM, в задаче классификации текстов. Основная цель работы — определить, в каких сценариях трансформеры демонстрируют значительное преимущество перед традиционными подходами, а когда более простые методы остаются конкурентноспособными. Результаты могут быть полезны для выбора оптимального инструментария в прикладных NLP-задачах с учётом ограничений на вычислительные ресурсы."
      ],
      "metadata": {
        "id": "TUs_ptSFCpbw"
      }
    },
    {
      "cell_type": "markdown",
      "source": [
        "## Установка и импорт библиотек"
      ],
      "metadata": {
        "id": "Pd3Nu8ywGWeF"
      }
    },
    {
      "cell_type": "code",
      "source": [
        "!pip install pymorphy3\n",
        "!pip install datasets"
      ],
      "metadata": {
        "colab": {
          "base_uri": "https://localhost:8080/"
        },
        "collapsed": true,
        "id": "l6erjAv1Gxbh",
        "outputId": "caaea2a3-55d1-4c75-b831-ea6bb6f101cb"
      },
      "execution_count": null,
      "outputs": [
        {
          "output_type": "stream",
          "name": "stdout",
          "text": [
            "Collecting pymorphy3\n",
            "  Downloading pymorphy3-2.0.3-py3-none-any.whl.metadata (1.9 kB)\n",
            "Collecting dawg2-python>=0.8.0 (from pymorphy3)\n",
            "  Downloading dawg2_python-0.9.0-py3-none-any.whl.metadata (7.5 kB)\n",
            "Collecting pymorphy3-dicts-ru (from pymorphy3)\n",
            "  Downloading pymorphy3_dicts_ru-2.4.417150.4580142-py2.py3-none-any.whl.metadata (2.0 kB)\n",
            "Downloading pymorphy3-2.0.3-py3-none-any.whl (53 kB)\n",
            "\u001b[2K   \u001b[90m━━━━━━━━━━━━━━━━━━━━━━━━━━━━━━━━━━━━━━━━\u001b[0m \u001b[32m53.8/53.8 kB\u001b[0m \u001b[31m2.3 MB/s\u001b[0m eta \u001b[36m0:00:00\u001b[0m\n",
            "\u001b[?25hDownloading dawg2_python-0.9.0-py3-none-any.whl (9.3 kB)\n",
            "Downloading pymorphy3_dicts_ru-2.4.417150.4580142-py2.py3-none-any.whl (8.4 MB)\n",
            "\u001b[2K   \u001b[90m━━━━━━━━━━━━━━━━━━━━━━━━━━━━━━━━━━━━━━━━\u001b[0m \u001b[32m8.4/8.4 MB\u001b[0m \u001b[31m35.6 MB/s\u001b[0m eta \u001b[36m0:00:00\u001b[0m\n",
            "\u001b[?25hInstalling collected packages: pymorphy3-dicts-ru, dawg2-python, pymorphy3\n",
            "Successfully installed dawg2-python-0.9.0 pymorphy3-2.0.3 pymorphy3-dicts-ru-2.4.417150.4580142\n",
            "Collecting datasets\n",
            "  Downloading datasets-3.5.0-py3-none-any.whl.metadata (19 kB)\n",
            "Requirement already satisfied: filelock in /usr/local/lib/python3.11/dist-packages (from datasets) (3.18.0)\n",
            "Requirement already satisfied: numpy>=1.17 in /usr/local/lib/python3.11/dist-packages (from datasets) (2.0.2)\n",
            "Requirement already satisfied: pyarrow>=15.0.0 in /usr/local/lib/python3.11/dist-packages (from datasets) (18.1.0)\n",
            "Collecting dill<0.3.9,>=0.3.0 (from datasets)\n",
            "  Downloading dill-0.3.8-py3-none-any.whl.metadata (10 kB)\n",
            "Requirement already satisfied: pandas in /usr/local/lib/python3.11/dist-packages (from datasets) (2.2.2)\n",
            "Requirement already satisfied: requests>=2.32.2 in /usr/local/lib/python3.11/dist-packages (from datasets) (2.32.3)\n",
            "Requirement already satisfied: tqdm>=4.66.3 in /usr/local/lib/python3.11/dist-packages (from datasets) (4.67.1)\n",
            "Collecting xxhash (from datasets)\n",
            "  Downloading xxhash-3.5.0-cp311-cp311-manylinux_2_17_x86_64.manylinux2014_x86_64.whl.metadata (12 kB)\n",
            "Collecting multiprocess<0.70.17 (from datasets)\n",
            "  Downloading multiprocess-0.70.16-py311-none-any.whl.metadata (7.2 kB)\n",
            "Collecting fsspec<=2024.12.0,>=2023.1.0 (from fsspec[http]<=2024.12.0,>=2023.1.0->datasets)\n",
            "  Downloading fsspec-2024.12.0-py3-none-any.whl.metadata (11 kB)\n",
            "Requirement already satisfied: aiohttp in /usr/local/lib/python3.11/dist-packages (from datasets) (3.11.14)\n",
            "Requirement already satisfied: huggingface-hub>=0.24.0 in /usr/local/lib/python3.11/dist-packages (from datasets) (0.29.3)\n",
            "Requirement already satisfied: packaging in /usr/local/lib/python3.11/dist-packages (from datasets) (24.2)\n",
            "Requirement already satisfied: pyyaml>=5.1 in /usr/local/lib/python3.11/dist-packages (from datasets) (6.0.2)\n",
            "Requirement already satisfied: aiohappyeyeballs>=2.3.0 in /usr/local/lib/python3.11/dist-packages (from aiohttp->datasets) (2.6.1)\n",
            "Requirement already satisfied: aiosignal>=1.1.2 in /usr/local/lib/python3.11/dist-packages (from aiohttp->datasets) (1.3.2)\n",
            "Requirement already satisfied: attrs>=17.3.0 in /usr/local/lib/python3.11/dist-packages (from aiohttp->datasets) (25.3.0)\n",
            "Requirement already satisfied: frozenlist>=1.1.1 in /usr/local/lib/python3.11/dist-packages (from aiohttp->datasets) (1.5.0)\n",
            "Requirement already satisfied: multidict<7.0,>=4.5 in /usr/local/lib/python3.11/dist-packages (from aiohttp->datasets) (6.2.0)\n",
            "Requirement already satisfied: propcache>=0.2.0 in /usr/local/lib/python3.11/dist-packages (from aiohttp->datasets) (0.3.1)\n",
            "Requirement already satisfied: yarl<2.0,>=1.17.0 in /usr/local/lib/python3.11/dist-packages (from aiohttp->datasets) (1.18.3)\n",
            "Requirement already satisfied: typing-extensions>=3.7.4.3 in /usr/local/lib/python3.11/dist-packages (from huggingface-hub>=0.24.0->datasets) (4.13.0)\n",
            "Requirement already satisfied: charset-normalizer<4,>=2 in /usr/local/lib/python3.11/dist-packages (from requests>=2.32.2->datasets) (3.4.1)\n",
            "Requirement already satisfied: idna<4,>=2.5 in /usr/local/lib/python3.11/dist-packages (from requests>=2.32.2->datasets) (3.10)\n",
            "Requirement already satisfied: urllib3<3,>=1.21.1 in /usr/local/lib/python3.11/dist-packages (from requests>=2.32.2->datasets) (2.3.0)\n",
            "Requirement already satisfied: certifi>=2017.4.17 in /usr/local/lib/python3.11/dist-packages (from requests>=2.32.2->datasets) (2025.1.31)\n",
            "Requirement already satisfied: python-dateutil>=2.8.2 in /usr/local/lib/python3.11/dist-packages (from pandas->datasets) (2.8.2)\n",
            "Requirement already satisfied: pytz>=2020.1 in /usr/local/lib/python3.11/dist-packages (from pandas->datasets) (2025.2)\n",
            "Requirement already satisfied: tzdata>=2022.7 in /usr/local/lib/python3.11/dist-packages (from pandas->datasets) (2025.2)\n",
            "Requirement already satisfied: six>=1.5 in /usr/local/lib/python3.11/dist-packages (from python-dateutil>=2.8.2->pandas->datasets) (1.17.0)\n",
            "Downloading datasets-3.5.0-py3-none-any.whl (491 kB)\n",
            "\u001b[2K   \u001b[90m━━━━━━━━━━━━━━━━━━━━━━━━━━━━━━━━━━━━━━━━\u001b[0m \u001b[32m491.2/491.2 kB\u001b[0m \u001b[31m13.4 MB/s\u001b[0m eta \u001b[36m0:00:00\u001b[0m\n",
            "\u001b[?25hDownloading dill-0.3.8-py3-none-any.whl (116 kB)\n",
            "\u001b[2K   \u001b[90m━━━━━━━━━━━━━━━━━━━━━━━━━━━━━━━━━━━━━━━━\u001b[0m \u001b[32m116.3/116.3 kB\u001b[0m \u001b[31m10.5 MB/s\u001b[0m eta \u001b[36m0:00:00\u001b[0m\n",
            "\u001b[?25hDownloading fsspec-2024.12.0-py3-none-any.whl (183 kB)\n",
            "\u001b[2K   \u001b[90m━━━━━━━━━━━━━━━━━━━━━━━━━━━━━━━━━━━━━━━━\u001b[0m \u001b[32m183.9/183.9 kB\u001b[0m \u001b[31m15.1 MB/s\u001b[0m eta \u001b[36m0:00:00\u001b[0m\n",
            "\u001b[?25hDownloading multiprocess-0.70.16-py311-none-any.whl (143 kB)\n",
            "\u001b[2K   \u001b[90m━━━━━━━━━━━━━━━━━━━━━━━━━━━━━━━━━━━━━━━━\u001b[0m \u001b[32m143.5/143.5 kB\u001b[0m \u001b[31m11.9 MB/s\u001b[0m eta \u001b[36m0:00:00\u001b[0m\n",
            "\u001b[?25hDownloading xxhash-3.5.0-cp311-cp311-manylinux_2_17_x86_64.manylinux2014_x86_64.whl (194 kB)\n",
            "\u001b[2K   \u001b[90m━━━━━━━━━━━━━━━━━━━━━━━━━━━━━━━━━━━━━━━━\u001b[0m \u001b[32m194.8/194.8 kB\u001b[0m \u001b[31m17.4 MB/s\u001b[0m eta \u001b[36m0:00:00\u001b[0m\n",
            "\u001b[?25hInstalling collected packages: xxhash, fsspec, dill, multiprocess, datasets\n",
            "  Attempting uninstall: fsspec\n",
            "    Found existing installation: fsspec 2025.3.0\n",
            "    Uninstalling fsspec-2025.3.0:\n",
            "      Successfully uninstalled fsspec-2025.3.0\n",
            "\u001b[31mERROR: pip's dependency resolver does not currently take into account all the packages that are installed. This behaviour is the source of the following dependency conflicts.\n",
            "gcsfs 2025.3.0 requires fsspec==2025.3.0, but you have fsspec 2024.12.0 which is incompatible.\n",
            "torch 2.6.0+cu124 requires nvidia-cublas-cu12==12.4.5.8; platform_system == \"Linux\" and platform_machine == \"x86_64\", but you have nvidia-cublas-cu12 12.5.3.2 which is incompatible.\n",
            "torch 2.6.0+cu124 requires nvidia-cuda-cupti-cu12==12.4.127; platform_system == \"Linux\" and platform_machine == \"x86_64\", but you have nvidia-cuda-cupti-cu12 12.5.82 which is incompatible.\n",
            "torch 2.6.0+cu124 requires nvidia-cuda-nvrtc-cu12==12.4.127; platform_system == \"Linux\" and platform_machine == \"x86_64\", but you have nvidia-cuda-nvrtc-cu12 12.5.82 which is incompatible.\n",
            "torch 2.6.0+cu124 requires nvidia-cuda-runtime-cu12==12.4.127; platform_system == \"Linux\" and platform_machine == \"x86_64\", but you have nvidia-cuda-runtime-cu12 12.5.82 which is incompatible.\n",
            "torch 2.6.0+cu124 requires nvidia-cudnn-cu12==9.1.0.70; platform_system == \"Linux\" and platform_machine == \"x86_64\", but you have nvidia-cudnn-cu12 9.3.0.75 which is incompatible.\n",
            "torch 2.6.0+cu124 requires nvidia-cufft-cu12==11.2.1.3; platform_system == \"Linux\" and platform_machine == \"x86_64\", but you have nvidia-cufft-cu12 11.2.3.61 which is incompatible.\n",
            "torch 2.6.0+cu124 requires nvidia-curand-cu12==10.3.5.147; platform_system == \"Linux\" and platform_machine == \"x86_64\", but you have nvidia-curand-cu12 10.3.6.82 which is incompatible.\n",
            "torch 2.6.0+cu124 requires nvidia-cusolver-cu12==11.6.1.9; platform_system == \"Linux\" and platform_machine == \"x86_64\", but you have nvidia-cusolver-cu12 11.6.3.83 which is incompatible.\n",
            "torch 2.6.0+cu124 requires nvidia-cusparse-cu12==12.3.1.170; platform_system == \"Linux\" and platform_machine == \"x86_64\", but you have nvidia-cusparse-cu12 12.5.1.3 which is incompatible.\n",
            "torch 2.6.0+cu124 requires nvidia-nvjitlink-cu12==12.4.127; platform_system == \"Linux\" and platform_machine == \"x86_64\", but you have nvidia-nvjitlink-cu12 12.5.82 which is incompatible.\u001b[0m\u001b[31m\n",
            "\u001b[0mSuccessfully installed datasets-3.5.0 dill-0.3.8 fsspec-2024.12.0 multiprocess-0.70.16 xxhash-3.5.0\n"
          ]
        }
      ]
    },
    {
      "cell_type": "code",
      "source": [
        "# для выдачи полного списка текущих библиотек\n",
        "!pip list"
      ],
      "metadata": {
        "colab": {
          "base_uri": "https://localhost:8080/"
        },
        "collapsed": true,
        "id": "6oA078qLGjNj",
        "outputId": "de035b97-e4d4-4c61-897d-df18c8f65cd0"
      },
      "execution_count": null,
      "outputs": [
        {
          "output_type": "stream",
          "name": "stdout",
          "text": [
            "Package                            Version\n",
            "---------------------------------- -------------------\n",
            "absl-py                            1.4.0\n",
            "accelerate                         1.5.2\n",
            "aiohappyeyeballs                   2.6.1\n",
            "aiohttp                            3.11.14\n",
            "aiosignal                          1.3.2\n",
            "alabaster                          1.0.0\n",
            "albucore                           0.0.23\n",
            "albumentations                     2.0.5\n",
            "ale-py                             0.10.2\n",
            "altair                             5.5.0\n",
            "annotated-types                    0.7.0\n",
            "anyio                              4.9.0\n",
            "argon2-cffi                        23.1.0\n",
            "argon2-cffi-bindings               21.2.0\n",
            "array_record                       0.7.1\n",
            "arviz                              0.21.0\n",
            "astropy                            7.0.1\n",
            "astropy-iers-data                  0.2025.3.24.0.35.32\n",
            "astunparse                         1.6.3\n",
            "atpublic                           5.1\n",
            "attrs                              25.3.0\n",
            "audioread                          3.0.1\n",
            "autograd                           1.7.0\n",
            "babel                              2.17.0\n",
            "backcall                           0.2.0\n",
            "beautifulsoup4                     4.13.3\n",
            "betterproto                        2.0.0b6\n",
            "bigframes                          1.42.0\n",
            "bigquery-magics                    0.9.0\n",
            "bleach                             6.2.0\n",
            "blinker                            1.9.0\n",
            "blis                               1.2.0\n",
            "blosc2                             3.2.1\n",
            "bokeh                              3.6.3\n",
            "Bottleneck                         1.4.2\n",
            "bqplot                             0.12.44\n",
            "branca                             0.8.1\n",
            "CacheControl                       0.14.2\n",
            "cachetools                         5.5.2\n",
            "catalogue                          2.0.10\n",
            "certifi                            2025.1.31\n",
            "cffi                               1.17.1\n",
            "chardet                            5.2.0\n",
            "charset-normalizer                 3.4.1\n",
            "chex                               0.1.89\n",
            "clarabel                           0.10.0\n",
            "click                              8.1.8\n",
            "cloudpathlib                       0.21.0\n",
            "cloudpickle                        3.1.1\n",
            "cmake                              3.31.6\n",
            "cmdstanpy                          1.2.5\n",
            "colorcet                           3.1.0\n",
            "colorlover                         0.3.0\n",
            "colour                             0.1.5\n",
            "community                          1.0.0b1\n",
            "confection                         0.1.5\n",
            "cons                               0.4.6\n",
            "contourpy                          1.3.1\n",
            "cramjam                            2.9.1\n",
            "cryptography                       43.0.3\n",
            "cuda-python                        12.6.2.post1\n",
            "cudf-cu12                          25.2.1\n",
            "cudf-polars-cu12                   25.2.2\n",
            "cufflinks                          0.17.3\n",
            "cuml-cu12                          25.2.1\n",
            "cupy-cuda12x                       13.3.0\n",
            "cuvs-cu12                          25.2.1\n",
            "cvxopt                             1.3.2\n",
            "cvxpy                              1.6.4\n",
            "cycler                             0.12.1\n",
            "cyipopt                            1.5.0\n",
            "cymem                              2.0.11\n",
            "Cython                             3.0.12\n",
            "dask                               2024.12.1\n",
            "dask-cuda                          25.2.0\n",
            "dask-cudf-cu12                     25.2.2\n",
            "dask-expr                          1.1.21\n",
            "datascience                        0.17.6\n",
            "datasets                           3.5.0\n",
            "DAWG2-Python                       0.9.0\n",
            "db-dtypes                          1.4.2\n",
            "dbus-python                        1.2.18\n",
            "debugpy                            1.8.0\n",
            "decorator                          4.4.2\n",
            "defusedxml                         0.7.1\n",
            "Deprecated                         1.2.18\n",
            "diffusers                          0.32.2\n",
            "dill                               0.3.8\n",
            "distributed                        2024.12.1\n",
            "distributed-ucxx-cu12              0.42.0\n",
            "distro                             1.9.0\n",
            "dlib                               19.24.6\n",
            "dm-tree                            0.1.9\n",
            "docker-pycreds                     0.4.0\n",
            "docstring_parser                   0.16\n",
            "docutils                           0.21.2\n",
            "dopamine_rl                        4.1.2\n",
            "duckdb                             1.2.1\n",
            "earthengine-api                    1.5.8\n",
            "easydict                           1.13\n",
            "editdistance                       0.8.1\n",
            "eerepr                             0.1.1\n",
            "einops                             0.8.1\n",
            "en_core_web_sm                     3.8.0\n",
            "entrypoints                        0.4\n",
            "et_xmlfile                         2.0.0\n",
            "etils                              1.12.2\n",
            "etuples                            0.3.9\n",
            "Farama-Notifications               0.0.4\n",
            "fastai                             2.7.19\n",
            "fastcore                           1.7.29\n",
            "fastdownload                       0.0.7\n",
            "fastjsonschema                     2.21.1\n",
            "fastprogress                       1.0.3\n",
            "fastrlock                          0.8.3\n",
            "filelock                           3.18.0\n",
            "firebase-admin                     6.7.0\n",
            "Flask                              3.1.0\n",
            "flatbuffers                        25.2.10\n",
            "flax                               0.10.4\n",
            "folium                             0.19.5\n",
            "fonttools                          4.56.0\n",
            "frozendict                         2.4.6\n",
            "frozenlist                         1.5.0\n",
            "fsspec                             2024.12.0\n",
            "future                             1.0.0\n",
            "gast                               0.6.0\n",
            "gcsfs                              2025.3.0\n",
            "GDAL                               3.6.4\n",
            "gdown                              5.2.0\n",
            "geemap                             0.35.3\n",
            "geocoder                           1.38.1\n",
            "geographiclib                      2.0\n",
            "geopandas                          1.0.1\n",
            "geopy                              2.4.1\n",
            "gin-config                         0.5.0\n",
            "gitdb                              4.0.12\n",
            "GitPython                          3.1.44\n",
            "glob2                              0.7\n",
            "google                             2.0.3\n",
            "google-ai-generativelanguage       0.6.15\n",
            "google-api-core                    2.24.2\n",
            "google-api-python-client           2.164.0\n",
            "google-auth                        2.38.0\n",
            "google-auth-httplib2               0.2.0\n",
            "google-auth-oauthlib               1.2.1\n",
            "google-cloud-aiplatform            1.86.0\n",
            "google-cloud-bigquery              3.31.0\n",
            "google-cloud-bigquery-connection   1.18.2\n",
            "google-cloud-bigquery-storage      2.30.0\n",
            "google-cloud-bigtable              2.30.0\n",
            "google-cloud-core                  2.4.3\n",
            "google-cloud-dataproc              5.18.1\n",
            "google-cloud-datastore             2.20.2\n",
            "google-cloud-firestore             2.20.1\n",
            "google-cloud-functions             1.20.2\n",
            "google-cloud-iam                   2.18.3\n",
            "google-cloud-language              2.17.1\n",
            "google-cloud-pubsub                2.29.0\n",
            "google-cloud-resource-manager      1.14.2\n",
            "google-cloud-spanner               3.53.0\n",
            "google-cloud-storage               2.19.0\n",
            "google-cloud-translate             3.20.2\n",
            "google-colab                       1.0.0\n",
            "google-crc32c                      1.7.1\n",
            "google-genai                       1.8.0\n",
            "google-generativeai                0.8.4\n",
            "google-pasta                       0.2.0\n",
            "google-resumable-media             2.7.2\n",
            "google-spark-connect               0.5.2\n",
            "googleapis-common-protos           1.69.2\n",
            "googledrivedownloader              1.1.0\n",
            "graphviz                           0.20.3\n",
            "greenlet                           3.1.1\n",
            "grpc-google-iam-v1                 0.14.2\n",
            "grpc-interceptor                   0.15.4\n",
            "grpcio                             1.71.0\n",
            "grpcio-status                      1.71.0\n",
            "grpclib                            0.4.7\n",
            "gspread                            6.2.0\n",
            "gspread-dataframe                  4.0.0\n",
            "gym                                0.25.2\n",
            "gym-notices                        0.0.8\n",
            "gymnasium                          1.1.1\n",
            "h11                                0.14.0\n",
            "h2                                 4.2.0\n",
            "h5netcdf                           1.6.1\n",
            "h5py                               3.13.0\n",
            "hdbscan                            0.8.40\n",
            "highspy                            1.9.0\n",
            "holidays                           0.69\n",
            "holoviews                          1.20.2\n",
            "hpack                              4.1.0\n",
            "html5lib                           1.1\n",
            "httpcore                           1.0.7\n",
            "httpimport                         1.4.1\n",
            "httplib2                           0.22.0\n",
            "httpx                              0.28.1\n",
            "huggingface-hub                    0.29.3\n",
            "humanize                           4.12.2\n",
            "hyperframe                         6.1.0\n",
            "hyperopt                           0.2.7\n",
            "ibis-framework                     9.5.0\n",
            "idna                               3.10\n",
            "imageio                            2.37.0\n",
            "imageio-ffmpeg                     0.6.0\n",
            "imagesize                          1.4.1\n",
            "imbalanced-learn                   0.13.0\n",
            "immutabledict                      4.2.1\n",
            "importlib_metadata                 8.6.1\n",
            "importlib_resources                6.5.2\n",
            "imutils                            0.5.4\n",
            "inflect                            7.5.0\n",
            "iniconfig                          2.1.0\n",
            "intel-cmplr-lib-ur                 2025.1.0\n",
            "intel-openmp                       2025.1.0\n",
            "ipyevents                          2.0.2\n",
            "ipyfilechooser                     0.6.0\n",
            "ipykernel                          6.17.1\n",
            "ipyleaflet                         0.19.2\n",
            "ipyparallel                        8.8.0\n",
            "ipython                            7.34.0\n",
            "ipython-genutils                   0.2.0\n",
            "ipython-sql                        0.5.0\n",
            "ipytree                            0.2.2\n",
            "ipywidgets                         7.7.1\n",
            "itsdangerous                       2.2.0\n",
            "jax                                0.5.2\n",
            "jax-cuda12-pjrt                    0.5.1\n",
            "jax-cuda12-plugin                  0.5.1\n",
            "jaxlib                             0.5.1\n",
            "jeepney                            0.7.1\n",
            "jellyfish                          1.1.0\n",
            "jieba                              0.42.1\n",
            "Jinja2                             3.1.6\n",
            "jiter                              0.9.0\n",
            "joblib                             1.4.2\n",
            "jsonpatch                          1.33\n",
            "jsonpickle                         4.0.2\n",
            "jsonpointer                        3.0.0\n",
            "jsonschema                         4.23.0\n",
            "jsonschema-specifications          2024.10.1\n",
            "jupyter-client                     6.1.12\n",
            "jupyter-console                    6.1.0\n",
            "jupyter_core                       5.7.2\n",
            "jupyter-leaflet                    0.19.2\n",
            "jupyter-server                     1.16.0\n",
            "jupyterlab_pygments                0.3.0\n",
            "jupyterlab_widgets                 3.0.13\n",
            "kaggle                             1.7.4.2\n",
            "kagglehub                          0.3.10\n",
            "keras                              3.8.0\n",
            "keras-hub                          0.18.1\n",
            "keras-nlp                          0.18.1\n",
            "keyring                            23.5.0\n",
            "kiwisolver                         1.4.8\n",
            "langchain                          0.3.21\n",
            "langchain-core                     0.3.49\n",
            "langchain-text-splitters           0.3.7\n",
            "langcodes                          3.5.0\n",
            "langsmith                          0.3.19\n",
            "language_data                      1.3.0\n",
            "launchpadlib                       1.10.16\n",
            "lazr.restfulclient                 0.14.4\n",
            "lazr.uri                           1.0.6\n",
            "lazy_loader                        0.4\n",
            "libclang                           18.1.1\n",
            "libcudf-cu12                       25.2.1\n",
            "libcugraph-cu12                    25.2.0\n",
            "libcuml-cu12                       25.2.1\n",
            "libcuvs-cu12                       25.2.1\n",
            "libkvikio-cu12                     25.2.1\n",
            "libraft-cu12                       25.2.0\n",
            "librosa                            0.11.0\n",
            "libucx-cu12                        1.18.0\n",
            "libucxx-cu12                       0.42.0\n",
            "lightgbm                           4.5.0\n",
            "linkify-it-py                      2.0.3\n",
            "llvmlite                           0.43.0\n",
            "locket                             1.0.0\n",
            "logical-unification                0.4.6\n",
            "lxml                               5.3.1\n",
            "Mako                               1.1.3\n",
            "marisa-trie                        1.2.1\n",
            "Markdown                           3.7\n",
            "markdown-it-py                     3.0.0\n",
            "MarkupSafe                         3.0.2\n",
            "matplotlib                         3.10.0\n",
            "matplotlib-inline                  0.1.7\n",
            "matplotlib-venn                    1.1.2\n",
            "mdit-py-plugins                    0.4.2\n",
            "mdurl                              0.1.2\n",
            "miniKanren                         1.0.3\n",
            "missingno                          0.5.2\n",
            "mistune                            3.1.3\n",
            "mizani                             0.13.1\n",
            "mkl                                2025.0.1\n",
            "ml-dtypes                          0.4.1\n",
            "mlxtend                            0.23.4\n",
            "more-itertools                     10.6.0\n",
            "moviepy                            1.0.3\n",
            "mpmath                             1.3.0\n",
            "msgpack                            1.1.0\n",
            "multidict                          6.2.0\n",
            "multipledispatch                   1.0.0\n",
            "multiprocess                       0.70.16\n",
            "multitasking                       0.0.11\n",
            "murmurhash                         1.0.12\n",
            "music21                            9.3.0\n",
            "namex                              0.0.8\n",
            "narwhals                           1.32.0\n",
            "natsort                            8.4.0\n",
            "nbclassic                          1.2.0\n",
            "nbclient                           0.10.2\n",
            "nbconvert                          7.16.6\n",
            "nbformat                           5.10.4\n",
            "ndindex                            1.9.2\n",
            "nest-asyncio                       1.6.0\n",
            "networkx                           3.4.2\n",
            "nibabel                            5.3.2\n",
            "nltk                               3.9.1\n",
            "notebook                           6.5.7\n",
            "notebook_shim                      0.2.4\n",
            "numba                              0.60.0\n",
            "numba-cuda                         0.2.0\n",
            "numexpr                            2.10.2\n",
            "numpy                              2.0.2\n",
            "nvidia-cublas-cu12                 12.5.3.2\n",
            "nvidia-cuda-cupti-cu12             12.5.82\n",
            "nvidia-cuda-nvcc-cu12              12.5.82\n",
            "nvidia-cuda-nvrtc-cu12             12.5.82\n",
            "nvidia-cuda-runtime-cu12           12.5.82\n",
            "nvidia-cudnn-cu12                  9.3.0.75\n",
            "nvidia-cufft-cu12                  11.2.3.61\n",
            "nvidia-curand-cu12                 10.3.6.82\n",
            "nvidia-cusolver-cu12               11.6.3.83\n",
            "nvidia-cusparse-cu12               12.5.1.3\n",
            "nvidia-cusparselt-cu12             0.6.2\n",
            "nvidia-ml-py                       12.570.86\n",
            "nvidia-nccl-cu12                   2.21.5\n",
            "nvidia-nvcomp-cu12                 4.2.0.11\n",
            "nvidia-nvjitlink-cu12              12.5.82\n",
            "nvidia-nvtx-cu12                   12.4.127\n",
            "nvtx                               0.2.11\n",
            "nx-cugraph-cu12                    25.2.0\n",
            "oauth2client                       4.1.3\n",
            "oauthlib                           3.2.2\n",
            "openai                             1.69.0\n",
            "opencv-contrib-python              4.11.0.86\n",
            "opencv-python                      4.11.0.86\n",
            "opencv-python-headless             4.11.0.86\n",
            "openpyxl                           3.1.5\n",
            "opentelemetry-api                  1.31.1\n",
            "opentelemetry-sdk                  1.31.1\n",
            "opentelemetry-semantic-conventions 0.52b1\n",
            "opt_einsum                         3.4.0\n",
            "optax                              0.2.4\n",
            "optree                             0.14.1\n",
            "orbax-checkpoint                   0.11.10\n",
            "orjson                             3.10.16\n",
            "osqp                               1.0.1\n",
            "packaging                          24.2\n",
            "pandas                             2.2.2\n",
            "pandas-datareader                  0.10.0\n",
            "pandas-gbq                         0.28.0\n",
            "pandas-stubs                       2.2.2.240909\n",
            "pandocfilters                      1.5.1\n",
            "panel                              1.6.1\n",
            "param                              2.2.0\n",
            "parso                              0.8.4\n",
            "parsy                              2.1\n",
            "partd                              1.4.2\n",
            "pathlib                            1.0.1\n",
            "patsy                              1.0.1\n",
            "peewee                             3.17.9\n",
            "peft                               0.14.0\n",
            "pexpect                            4.9.0\n",
            "pickleshare                        0.7.5\n",
            "pillow                             11.1.0\n",
            "pip                                24.1.2\n",
            "platformdirs                       4.3.7\n",
            "plotly                             5.24.1\n",
            "plotnine                           0.14.5\n",
            "pluggy                             1.5.0\n",
            "ply                                3.11\n",
            "polars                             1.21.0\n",
            "pooch                              1.8.2\n",
            "portpicker                         1.5.2\n",
            "preshed                            3.0.9\n",
            "prettytable                        3.16.0\n",
            "proglog                            0.1.10\n",
            "progressbar2                       4.5.0\n",
            "prometheus_client                  0.21.1\n",
            "promise                            2.3\n",
            "prompt_toolkit                     3.0.50\n",
            "propcache                          0.3.1\n",
            "prophet                            1.1.6\n",
            "proto-plus                         1.26.1\n",
            "protobuf                           5.29.4\n",
            "psutil                             5.9.5\n",
            "psycopg2                           2.9.10\n",
            "ptyprocess                         0.7.0\n",
            "py-cpuinfo                         9.0.0\n",
            "py4j                               0.10.9.7\n",
            "pyarrow                            18.1.0\n",
            "pyasn1                             0.6.1\n",
            "pyasn1_modules                     0.4.2\n",
            "pycairo                            1.27.0\n",
            "pycocotools                        2.0.8\n",
            "pycparser                          2.22\n",
            "pydantic                           2.11.0\n",
            "pydantic_core                      2.33.0\n",
            "pydata-google-auth                 1.9.1\n",
            "pydot                              3.0.4\n",
            "pydotplus                          2.0.2\n",
            "PyDrive                            1.3.1\n",
            "PyDrive2                           1.21.3\n",
            "pyerfa                             2.0.1.5\n",
            "pygame                             2.6.1\n",
            "pygit2                             1.17.0\n",
            "Pygments                           2.18.0\n",
            "PyGObject                          3.42.0\n",
            "PyJWT                              2.10.1\n",
            "pylibcudf-cu12                     25.2.1\n",
            "pylibcugraph-cu12                  25.2.0\n",
            "pylibraft-cu12                     25.2.0\n",
            "pymc                               5.21.1\n",
            "pymorphy3                          2.0.3\n",
            "pymorphy3-dicts-ru                 2.4.417150.4580142\n",
            "pymystem3                          0.2.0\n",
            "pynndescent                        0.5.13\n",
            "pynvjitlink-cu12                   0.5.2\n",
            "pynvml                             12.0.0\n",
            "pyogrio                            0.10.0\n",
            "Pyomo                              6.8.2\n",
            "PyOpenGL                           3.1.9\n",
            "pyOpenSSL                          24.2.1\n",
            "pyparsing                          3.2.3\n",
            "pyperclip                          1.9.0\n",
            "pyproj                             3.7.1\n",
            "pyshp                              2.3.1\n",
            "PySocks                            1.7.1\n",
            "pyspark                            3.5.5\n",
            "pytensor                           2.28.3\n",
            "pytest                             8.3.5\n",
            "python-apt                         0.0.0\n",
            "python-box                         7.3.2\n",
            "python-dateutil                    2.8.2\n",
            "python-louvain                     0.16\n",
            "python-slugify                     8.0.4\n",
            "python-snappy                      0.7.3\n",
            "python-utils                       3.9.1\n",
            "pytz                               2025.2\n",
            "pyviz_comms                        3.0.4\n",
            "PyYAML                             6.0.2\n",
            "pyzmq                              24.0.1\n",
            "raft-dask-cu12                     25.2.0\n",
            "rapids-dask-dependency             25.2.0\n",
            "ratelim                            0.1.6\n",
            "referencing                        0.36.2\n",
            "regex                              2024.11.6\n",
            "requests                           2.32.3\n",
            "requests-oauthlib                  2.0.0\n",
            "requests-toolbelt                  1.0.0\n",
            "requirements-parser                0.9.0\n",
            "rich                               13.9.4\n",
            "rmm-cu12                           25.2.0\n",
            "roman-numerals-py                  3.1.0\n",
            "rpds-py                            0.24.0\n",
            "rpy2                               3.5.17\n",
            "rsa                                4.9\n",
            "safetensors                        0.5.3\n",
            "scikit-image                       0.25.2\n",
            "scikit-learn                       1.6.1\n",
            "scipy                              1.14.1\n",
            "scooby                             0.10.0\n",
            "scs                                3.2.7.post2\n",
            "seaborn                            0.13.2\n",
            "SecretStorage                      3.3.1\n",
            "Send2Trash                         1.8.3\n",
            "sentence-transformers              3.4.1\n",
            "sentencepiece                      0.2.0\n",
            "sentry-sdk                         2.24.1\n",
            "setproctitle                       1.3.5\n",
            "setuptools                         75.2.0\n",
            "shap                               0.47.1\n",
            "shapely                            2.0.7\n",
            "shellingham                        1.5.4\n",
            "simple-parsing                     0.1.7\n",
            "simplejson                         3.20.1\n",
            "simsimd                            6.2.1\n",
            "six                                1.17.0\n",
            "sklearn-compat                     0.1.3\n",
            "sklearn-pandas                     2.2.0\n",
            "slicer                             0.0.8\n",
            "smart-open                         7.1.0\n",
            "smmap                              5.0.2\n",
            "sniffio                            1.3.1\n",
            "snowballstemmer                    2.2.0\n",
            "sortedcontainers                   2.4.0\n",
            "soundfile                          0.13.1\n",
            "soupsieve                          2.6\n",
            "soxr                               0.5.0.post1\n",
            "spacy                              3.8.4\n",
            "spacy-legacy                       3.0.12\n",
            "spacy-loggers                      1.0.5\n",
            "spanner-graph-notebook             1.1.5\n",
            "Sphinx                             8.2.3\n",
            "sphinxcontrib-applehelp            2.0.0\n",
            "sphinxcontrib-devhelp              2.0.0\n",
            "sphinxcontrib-htmlhelp             2.1.0\n",
            "sphinxcontrib-jsmath               1.0.1\n",
            "sphinxcontrib-qthelp               2.0.0\n",
            "sphinxcontrib-serializinghtml      2.0.0\n",
            "SQLAlchemy                         2.0.40\n",
            "sqlglot                            25.20.2\n",
            "sqlparse                           0.5.3\n",
            "srsly                              2.5.1\n",
            "stanio                             0.5.1\n",
            "statsmodels                        0.14.4\n",
            "stringzilla                        3.12.3\n",
            "sympy                              1.13.1\n",
            "tables                             3.10.2\n",
            "tabulate                           0.9.0\n",
            "tbb                                2022.1.0\n",
            "tblib                              3.0.0\n",
            "tcmlib                             1.3.0\n",
            "tenacity                           9.0.0\n",
            "tensorboard                        2.18.0\n",
            "tensorboard-data-server            0.7.2\n",
            "tensorflow                         2.18.0\n",
            "tensorflow-datasets                4.9.8\n",
            "tensorflow-hub                     0.16.1\n",
            "tensorflow-io-gcs-filesystem       0.37.1\n",
            "tensorflow-metadata                1.16.1\n",
            "tensorflow-probability             0.25.0\n",
            "tensorflow-text                    2.18.1\n",
            "tensorstore                        0.1.72\n",
            "termcolor                          2.5.0\n",
            "terminado                          0.18.1\n",
            "text-unidecode                     1.3\n",
            "textblob                           0.19.0\n",
            "tf_keras                           2.18.0\n",
            "tf-slim                            1.1.0\n",
            "thinc                              8.3.4\n",
            "threadpoolctl                      3.6.0\n",
            "tifffile                           2025.3.13\n",
            "timm                               1.0.15\n",
            "tinycss2                           1.4.0\n",
            "tokenizers                         0.21.1\n",
            "toml                               0.10.2\n",
            "toolz                              0.12.1\n",
            "torch                              2.6.0+cu124\n",
            "torchaudio                         2.6.0+cu124\n",
            "torchsummary                       1.5.1\n",
            "torchvision                        0.21.0+cu124\n",
            "tornado                            6.4.2\n",
            "tqdm                               4.67.1\n",
            "traitlets                          5.7.1\n",
            "traittypes                         0.2.1\n",
            "transformers                       4.50.2\n",
            "treelite                           4.4.1\n",
            "treescope                          0.1.9\n",
            "triton                             3.2.0\n",
            "tweepy                             4.15.0\n",
            "typeguard                          4.4.2\n",
            "typer                              0.15.2\n",
            "types-pytz                         2025.2.0.20250326\n",
            "types-setuptools                   77.0.2.20250328\n",
            "typing_extensions                  4.13.0\n",
            "typing-inspection                  0.4.0\n",
            "tzdata                             2025.2\n",
            "tzlocal                            5.3.1\n",
            "uc-micro-py                        1.0.3\n",
            "ucx-py-cu12                        0.42.0\n",
            "ucxx-cu12                          0.42.0\n",
            "umap-learn                         0.5.7\n",
            "umf                                0.10.0\n",
            "uritemplate                        4.1.1\n",
            "urllib3                            2.3.0\n",
            "vega-datasets                      0.9.0\n",
            "wadllib                            1.3.6\n",
            "wandb                              0.19.8\n",
            "wasabi                             1.1.3\n",
            "wcwidth                            0.2.13\n",
            "weasel                             0.4.1\n",
            "webcolors                          24.11.1\n",
            "webencodings                       0.5.1\n",
            "websocket-client                   1.8.0\n",
            "websockets                         15.0.1\n",
            "Werkzeug                           3.1.3\n",
            "wheel                              0.45.1\n",
            "widgetsnbextension                 3.6.10\n",
            "wordcloud                          1.9.4\n",
            "wrapt                              1.17.2\n",
            "xarray                             2025.1.2\n",
            "xarray-einstats                    0.8.0\n",
            "xgboost                            2.1.4\n",
            "xlrd                               2.0.1\n",
            "xxhash                             3.5.0\n",
            "xyzservices                        2025.1.0\n",
            "yarl                               1.18.3\n",
            "yellowbrick                        1.5\n",
            "yfinance                           0.2.55\n",
            "zict                               3.0.0\n",
            "zipp                               3.21.0\n",
            "zstandard                          0.23.0\n"
          ]
        }
      ]
    },
    {
      "cell_type": "code",
      "source": [
        "# Стандартные модули\n",
        "import os\n",
        "import re\n",
        "import string\n",
        "import shutil\n",
        "\n",
        "# Модули для работы с данными\n",
        "import pandas as pd\n",
        "import numpy as np\n",
        "from pymorphy3 import MorphAnalyzer\n",
        "from sklearn.utils import resample\n",
        "from sklearn.model_selection import train_test_split\n",
        "\n",
        "# Библиотеки машинного обучения\n",
        "from sklearn.feature_extraction.text import TfidfVectorizer\n",
        "from sklearn.svm import SVC\n",
        "from sklearn.linear_model import LogisticRegression\n",
        "from sklearn.metrics import (accuracy_score,\n",
        "                             classification_report,\n",
        "                             confusion_matrix,\n",
        "                             f1_score,\n",
        "                             accuracy_score,\n",
        "                             precision_score,\n",
        "                             recall_score)\n",
        "import xgboost as xgb\n",
        "import torch\n",
        "from transformers import (DistilBertTokenizer,\n",
        "                          DistilBertForSequenceClassification,\n",
        "                          Trainer,\n",
        "                          TrainingArguments)\n",
        "\n",
        "# Библиотеки для визуализации\n",
        "import matplotlib.pyplot as plt\n",
        "%matplotlib inline\n",
        "import seaborn as sns\n",
        "\n",
        "# Дополнительные инструменты\n",
        "import kagglehub\n",
        "\n",
        "import wandb\n",
        "wandb.init(mode=\"disabled\") # явно задаём отключение логгирования wandb\n",
        "os.environ[\"WANDB_DISABLED\"] = \"true\"\n",
        "\n",
        "import warnings\n",
        "warnings.filterwarnings('ignore')"
      ],
      "metadata": {
        "id": "1jAZiA8vHGLT",
        "colab": {
          "base_uri": "https://localhost:8080/",
          "height": 52
        },
        "outputId": "335aafa5-6a5f-4eb8-c7e5-2349eaf19a57"
      },
      "execution_count": null,
      "outputs": [
        {
          "output_type": "display_data",
          "data": {
            "text/plain": [
              "<IPython.core.display.HTML object>"
            ],
            "text/html": [
              "Changes to your `wandb` environment variables will be ignored because your `wandb` session has already started. For more information on how to modify your settings with `wandb.init()` arguments, please refer to <a href='https://wandb.me/wandb-init' target=\"_blank\">the W&B docs</a>."
            ]
          },
          "metadata": {}
        }
      ]
    },
    {
      "cell_type": "markdown",
      "source": [
        "### Вспомогательные функции"
      ],
      "metadata": {
        "id": "CKT4Egurh_Ip"
      }
    },
    {
      "cell_type": "code",
      "source": [
        "def plot_confusion_matrix(cm, model_name=\"\", labels=['Positive', 'Negative']):\n",
        "    \"\"\"\n",
        "    Построение матрицы ошибок.\n",
        "    @param: cm: объект sklearn.metrics.confusion_matrix\n",
        "    \"\"\"\n",
        "    plt.figure(figsize=(6, 4.5))\n",
        "    sns.heatmap(cm, annot=True, fmt='d', cmap='Blues',\n",
        "                xticklabels=labels, yticklabels=labels)\n",
        "    title = f'Confusion Matrix{\": \" + model_name if model_name else \"\"}'\n",
        "    plt.title(title, fontsize=14, pad=20)\n",
        "    plt.xlabel('Predicted label', fontsize=12)\n",
        "    plt.ylabel('Actual label', fontsize=12)\n",
        "    plt.show()"
      ],
      "metadata": {
        "id": "PADJBrYbX3Wv"
      },
      "execution_count": null,
      "outputs": []
    },
    {
      "cell_type": "markdown",
      "source": [
        "### Подключение google drive"
      ],
      "metadata": {
        "id": "ULrzCmFagy0D"
      }
    },
    {
      "cell_type": "code",
      "source": [
        "from google.colab import drive\n",
        "drive.mount('/content/drive')"
      ],
      "metadata": {
        "colab": {
          "base_uri": "https://localhost:8080/"
        },
        "id": "LwTVGohOg8lJ",
        "outputId": "50e8fbf7-0a34-4460-f5f8-96e0f701ce17"
      },
      "execution_count": null,
      "outputs": [
        {
          "output_type": "stream",
          "name": "stdout",
          "text": [
            "Mounted at /content/drive\n"
          ]
        }
      ]
    },
    {
      "cell_type": "markdown",
      "source": [
        "## Теоретическая часть"
      ],
      "metadata": {
        "id": "OMQBX6qsI2gB"
      }
    },
    {
      "cell_type": "markdown",
      "source": [
        "Классификация текста - одна из фундаментальных задач обработки естественного языка (NLP), имеющая широкое практическое применение: анализ тональности, категоризация документов, фильтрация спама и др. Традиционные методы машинного обучения (SVM, логистическая регрессия) и современные трансформерные архитектуры предлагают различные подходы к решению этой задачи. Сравнительный анализ их эффективности позволяет определить оптимальные методы для конкретных сценариев с учетом таких факторов как точность, скорость обучения и вычислительные ресурсы."
      ],
      "metadata": {
        "id": "izPtU6qzJTI7"
      }
    },
    {
      "cell_type": "markdown",
      "source": [
        "В данной работе проводится исследование в области бинарной классификации текста на русскоязычном датасете отзывов потребителей. Основная задача — определение тональности текста (позитивной или негативной) с учетом специфики русского языка и возможного дисбаланса классов.\n",
        "\n",
        "### Постановка задачи\n",
        "\n",
        "1. **Бинарная классификация текста**:  \n",
        "   - Класс 0: позитивные отзывы  \n",
        "   - Класс 1: негативные отзывы  \n",
        "\n",
        "2. **Дисбаланс классов**:  \n",
        "   - В исходном датасете распределение классов может быть неравномерным  \n",
        "   - Будет исследовано влияние upsampling (искусственного увеличения минорного класса) на качество модели  \n",
        "\n",
        "3. **Выбор оптимальной архитектуры**:  \n",
        "   - Сравнение трансформерной модели (DistilBERT) с традиционными методами ML (SVM, Logistic Regression, XGBoost)  \n",
        "   - Критерий выбора — метрики качества (F1-score, Accuracy, Precision-Recall)  "
      ],
      "metadata": {
        "id": "Dq586yzVsMqK"
      }
    },
    {
      "cell_type": "markdown",
      "source": [
        "### Методология\n",
        "\n",
        "#### 1. Предобработка данных\n",
        "- Очистка текста (удаление пунктуации, хештегов, лишних пробелов)  \n",
        "- Лемматизация (приведение слов к нормальной форме)  \n",
        "- Исправление опечаток (частичное)  \n",
        "\n",
        "#### 2. Балансировка классов\n",
        "- Анализ исходного распределения классов  \n",
        "- Применение upsampling для минорного класса (при необходимости)  \n",
        "- Оценка влияния балансировки на качество классификации  \n",
        "\n",
        "#### 3. Выбор модели\n",
        "- **Трансформерная модель**:  \n",
        "  - DistilBERT (оптимизированная версия BERT для многоязычных задач)  \n",
        "  - Fine-tuning на датасете отзывов  \n",
        "\n",
        "- **Традиционные методы ML**:  \n",
        "  - SVM\n",
        "  - Logistic Regression (с L2-регуляризацией)  \n",
        "  - XGBoost (градиентный бустинг на деревьях)  \n",
        "\n",
        "#### 4. Критерии оценки\n",
        "- Основная метрика:  \n",
        "  - **F1-score** (гармоническое среднее между precision и recall)  \n",
        "     \n",
        "- Определение оптимального подхода на основе сравнения метрик  \n",
        "\n",
        "\n",
        "### Ожидаемые результаты\n",
        "- Определение эффективности upsampling для данного датасета  \n",
        "- Сравнение производительности DistilBERT и классических ML-методов  \n",
        "- Выбор оптимального алгоритма для классификации тональности русскоязычных отзывов  "
      ],
      "metadata": {
        "id": "oZvf1ULVuNvd"
      }
    },
    {
      "cell_type": "markdown",
      "source": [
        "### Архитектура DistilBERT для бинарной классификации текста\n",
        "\n",
        "Текст → Токенизация → Эмбеддинги → DistilBERT Encoder → Pooling → Классификатор → Прогноз\n",
        "\n",
        "#### 1. Слой токенизации\n",
        "- **Токенизатор**: `DistilBertTokenizer` (WordPiece)\n",
        "- **Специальные токены**:\n",
        "  - `[CLS]` - классификационный (добавляется в начало)\n",
        "  - `[SEP]` - разделитель (не используется в бинарной классификации)\n",
        "  - `[PAD]` - дополнение до максимальной длины\n",
        "- **Максимальная длина**: 512 токенов (обрезание/патчинг при необходимости)\n",
        "\n",
        "\n",
        "#### 2. Слой эмбеддингов\n",
        "Комбинация двух типов эмбеддингов:\n",
        "1. **Token Embeddings** (768-мерные)\n",
        "   - Векторное представление каждого токена\n",
        "   - Инициализируются предобученными весами\n",
        "\n",
        "2. **Positional Embeddings** (768-мерные)\n",
        "   - Кодируют позицию токена в последовательности\n",
        "   - Фиксированные (не обучаемые в DistilBERT)\n",
        "\n",
        "    [Входные токены] → [Lookup Embedding Table] → Сумма с Positional Embeddings] → [Нормализация]\n",
        "\n",
        "#### 3. Трансформерный энкодер (6 слоев)\n",
        "Каждый слой содержит:\n",
        "- **Multi-Head Self-Attention** (12 голов)\n",
        "  - Размерность ключей/запросов: 64 (768/12)\n",
        "  - Механизм scaled dot-product attention\n",
        "- **Feed Forward Network**:\n",
        "  - Linear (768 → 3072) → GELU → Linear (3072 → 768)\n",
        "- **Layer Normalization** после каждого подмодуля\n",
        "- **Residual connections** вокруг основных блоков\n",
        "\n",
        "#### 4. Пулинг (объединение)\n",
        "- Используется представление токена `[CLS]` (первый токен)\n",
        "- Этот вектор (768-мерный) содержит агрегированную информацию о всём тексте\n",
        "\n",
        "#### 5. Классификационная голова\n",
        "- **Структура**:\n",
        "\n",
        "    [CLS] вектор → Dropout → Linear(768 → 2) → Softmax"
      ],
      "metadata": {
        "id": "m-5kVuZoyflK"
      }
    },
    {
      "cell_type": "markdown",
      "source": [
        "## Подготовка данных"
      ],
      "metadata": {
        "id": "0zg0YbMqJT7z"
      }
    },
    {
      "cell_type": "code",
      "source": [
        "# для воспроизводимости результатов\n",
        "RANDOM_STATE = 42"
      ],
      "metadata": {
        "id": "IJ2nNeCAJYzv"
      },
      "execution_count": null,
      "outputs": []
    },
    {
      "cell_type": "code",
      "source": [
        "# загрузка датасета\n",
        "path = kagglehub.dataset_download(\"kapturovalexander/consumer-sentiments-and-ratings\")\n",
        "\n",
        "print(\"Path to dataset files:\", path)"
      ],
      "metadata": {
        "colab": {
          "base_uri": "https://localhost:8080/"
        },
        "id": "vsZeCG_8JcCS",
        "outputId": "25f33dee-7544-47d1-9f12-a4965be55fa6"
      },
      "execution_count": null,
      "outputs": [
        {
          "output_type": "stream",
          "name": "stdout",
          "text": [
            "Downloading from https://www.kaggle.com/api/v1/datasets/download/kapturovalexander/consumer-sentiments-and-ratings?dataset_version_number=4...\n"
          ]
        },
        {
          "output_type": "stream",
          "name": "stderr",
          "text": [
            "100%|██████████| 2.57M/2.57M [00:00<00:00, 144MB/s]"
          ]
        },
        {
          "output_type": "stream",
          "name": "stdout",
          "text": [
            "Extracting files...\n",
            "Path to dataset files: /root/.cache/kagglehub/datasets/kapturovalexander/consumer-sentiments-and-ratings/versions/4\n"
          ]
        },
        {
          "output_type": "stream",
          "name": "stderr",
          "text": [
            "\n"
          ]
        }
      ]
    },
    {
      "cell_type": "code",
      "source": [
        "files = os.listdir(path)\n",
        "\n",
        "print(files)"
      ],
      "metadata": {
        "colab": {
          "base_uri": "https://localhost:8080/"
        },
        "id": "x3L1rVdHJnW3",
        "outputId": "f8399819-9c65-4b9d-db26-9a9e8f78aa75"
      },
      "execution_count": null,
      "outputs": [
        {
          "output_type": "stream",
          "name": "stdout",
          "text": [
            "['market_comments.csv']\n"
          ]
        }
      ]
    },
    {
      "cell_type": "code",
      "source": [
        "dataframe = pd.read_csv(f'{path}/{files[0]}')\n",
        "dataframe.head()"
      ],
      "metadata": {
        "colab": {
          "base_uri": "https://localhost:8080/",
          "height": 293
        },
        "id": "9B2G2PmYJwgx",
        "outputId": "fd8ee61b-a747-4e79-9c44-2d5caafa74a4",
        "collapsed": true
      },
      "execution_count": null,
      "outputs": [
        {
          "output_type": "execute_result",
          "data": {
            "text/plain": [
              "   item_category  item_id  brand  user_id        date  \\\n",
              "0            401  4010201    826     2217  2013-06-28   \n",
              "1            403  4030101   1425     1026  2010-07-04   \n",
              "2            401  4010401    124     2769  2010-05-27   \n",
              "3            203  2030301     93      508  2016-10-11   \n",
              "4            205  2050201    656     1049  2010-02-26   \n",
              "\n",
              "                                             comment  rating  tonality  \n",
              "0  2,5 года работала и все...устала! Лампочка гор...     2.0  negative  \n",
              "1  Через 2 месяца после истечении гарантийного ср...     2.0  negative  \n",
              "2  пользуюсь уже три недели. нареканий ни каких н...     4.0  positive  \n",
              "3  Ребят этот системный блок подойдёт для игры кс...     5.0  positive  \n",
              "4  я считаю, что яри замечательный телефон! Прият...     5.0  positive  "
            ],
            "text/html": [
              "\n",
              "  <div id=\"df-5609e81c-f94e-4ac4-a6ea-d494fef6db93\" class=\"colab-df-container\">\n",
              "    <div>\n",
              "<style scoped>\n",
              "    .dataframe tbody tr th:only-of-type {\n",
              "        vertical-align: middle;\n",
              "    }\n",
              "\n",
              "    .dataframe tbody tr th {\n",
              "        vertical-align: top;\n",
              "    }\n",
              "\n",
              "    .dataframe thead th {\n",
              "        text-align: right;\n",
              "    }\n",
              "</style>\n",
              "<table border=\"1\" class=\"dataframe\">\n",
              "  <thead>\n",
              "    <tr style=\"text-align: right;\">\n",
              "      <th></th>\n",
              "      <th>item_category</th>\n",
              "      <th>item_id</th>\n",
              "      <th>brand</th>\n",
              "      <th>user_id</th>\n",
              "      <th>date</th>\n",
              "      <th>comment</th>\n",
              "      <th>rating</th>\n",
              "      <th>tonality</th>\n",
              "    </tr>\n",
              "  </thead>\n",
              "  <tbody>\n",
              "    <tr>\n",
              "      <th>0</th>\n",
              "      <td>401</td>\n",
              "      <td>4010201</td>\n",
              "      <td>826</td>\n",
              "      <td>2217</td>\n",
              "      <td>2013-06-28</td>\n",
              "      <td>2,5 года работала и все...устала! Лампочка гор...</td>\n",
              "      <td>2.0</td>\n",
              "      <td>negative</td>\n",
              "    </tr>\n",
              "    <tr>\n",
              "      <th>1</th>\n",
              "      <td>403</td>\n",
              "      <td>4030101</td>\n",
              "      <td>1425</td>\n",
              "      <td>1026</td>\n",
              "      <td>2010-07-04</td>\n",
              "      <td>Через 2 месяца после истечении гарантийного ср...</td>\n",
              "      <td>2.0</td>\n",
              "      <td>negative</td>\n",
              "    </tr>\n",
              "    <tr>\n",
              "      <th>2</th>\n",
              "      <td>401</td>\n",
              "      <td>4010401</td>\n",
              "      <td>124</td>\n",
              "      <td>2769</td>\n",
              "      <td>2010-05-27</td>\n",
              "      <td>пользуюсь уже три недели. нареканий ни каких н...</td>\n",
              "      <td>4.0</td>\n",
              "      <td>positive</td>\n",
              "    </tr>\n",
              "    <tr>\n",
              "      <th>3</th>\n",
              "      <td>203</td>\n",
              "      <td>2030301</td>\n",
              "      <td>93</td>\n",
              "      <td>508</td>\n",
              "      <td>2016-10-11</td>\n",
              "      <td>Ребят этот системный блок подойдёт для игры кс...</td>\n",
              "      <td>5.0</td>\n",
              "      <td>positive</td>\n",
              "    </tr>\n",
              "    <tr>\n",
              "      <th>4</th>\n",
              "      <td>205</td>\n",
              "      <td>2050201</td>\n",
              "      <td>656</td>\n",
              "      <td>1049</td>\n",
              "      <td>2010-02-26</td>\n",
              "      <td>я считаю, что яри замечательный телефон! Прият...</td>\n",
              "      <td>5.0</td>\n",
              "      <td>positive</td>\n",
              "    </tr>\n",
              "  </tbody>\n",
              "</table>\n",
              "</div>\n",
              "    <div class=\"colab-df-buttons\">\n",
              "\n",
              "  <div class=\"colab-df-container\">\n",
              "    <button class=\"colab-df-convert\" onclick=\"convertToInteractive('df-5609e81c-f94e-4ac4-a6ea-d494fef6db93')\"\n",
              "            title=\"Convert this dataframe to an interactive table.\"\n",
              "            style=\"display:none;\">\n",
              "\n",
              "  <svg xmlns=\"http://www.w3.org/2000/svg\" height=\"24px\" viewBox=\"0 -960 960 960\">\n",
              "    <path d=\"M120-120v-720h720v720H120Zm60-500h600v-160H180v160Zm220 220h160v-160H400v160Zm0 220h160v-160H400v160ZM180-400h160v-160H180v160Zm440 0h160v-160H620v160ZM180-180h160v-160H180v160Zm440 0h160v-160H620v160Z\"/>\n",
              "  </svg>\n",
              "    </button>\n",
              "\n",
              "  <style>\n",
              "    .colab-df-container {\n",
              "      display:flex;\n",
              "      gap: 12px;\n",
              "    }\n",
              "\n",
              "    .colab-df-convert {\n",
              "      background-color: #E8F0FE;\n",
              "      border: none;\n",
              "      border-radius: 50%;\n",
              "      cursor: pointer;\n",
              "      display: none;\n",
              "      fill: #1967D2;\n",
              "      height: 32px;\n",
              "      padding: 0 0 0 0;\n",
              "      width: 32px;\n",
              "    }\n",
              "\n",
              "    .colab-df-convert:hover {\n",
              "      background-color: #E2EBFA;\n",
              "      box-shadow: 0px 1px 2px rgba(60, 64, 67, 0.3), 0px 1px 3px 1px rgba(60, 64, 67, 0.15);\n",
              "      fill: #174EA6;\n",
              "    }\n",
              "\n",
              "    .colab-df-buttons div {\n",
              "      margin-bottom: 4px;\n",
              "    }\n",
              "\n",
              "    [theme=dark] .colab-df-convert {\n",
              "      background-color: #3B4455;\n",
              "      fill: #D2E3FC;\n",
              "    }\n",
              "\n",
              "    [theme=dark] .colab-df-convert:hover {\n",
              "      background-color: #434B5C;\n",
              "      box-shadow: 0px 1px 3px 1px rgba(0, 0, 0, 0.15);\n",
              "      filter: drop-shadow(0px 1px 2px rgba(0, 0, 0, 0.3));\n",
              "      fill: #FFFFFF;\n",
              "    }\n",
              "  </style>\n",
              "\n",
              "    <script>\n",
              "      const buttonEl =\n",
              "        document.querySelector('#df-5609e81c-f94e-4ac4-a6ea-d494fef6db93 button.colab-df-convert');\n",
              "      buttonEl.style.display =\n",
              "        google.colab.kernel.accessAllowed ? 'block' : 'none';\n",
              "\n",
              "      async function convertToInteractive(key) {\n",
              "        const element = document.querySelector('#df-5609e81c-f94e-4ac4-a6ea-d494fef6db93');\n",
              "        const dataTable =\n",
              "          await google.colab.kernel.invokeFunction('convertToInteractive',\n",
              "                                                    [key], {});\n",
              "        if (!dataTable) return;\n",
              "\n",
              "        const docLinkHtml = 'Like what you see? Visit the ' +\n",
              "          '<a target=\"_blank\" href=https://colab.research.google.com/notebooks/data_table.ipynb>data table notebook</a>'\n",
              "          + ' to learn more about interactive tables.';\n",
              "        element.innerHTML = '';\n",
              "        dataTable['output_type'] = 'display_data';\n",
              "        await google.colab.output.renderOutput(dataTable, element);\n",
              "        const docLink = document.createElement('div');\n",
              "        docLink.innerHTML = docLinkHtml;\n",
              "        element.appendChild(docLink);\n",
              "      }\n",
              "    </script>\n",
              "  </div>\n",
              "\n",
              "\n",
              "<div id=\"df-5feab548-dcea-4002-938f-4a7a950ec0f4\">\n",
              "  <button class=\"colab-df-quickchart\" onclick=\"quickchart('df-5feab548-dcea-4002-938f-4a7a950ec0f4')\"\n",
              "            title=\"Suggest charts\"\n",
              "            style=\"display:none;\">\n",
              "\n",
              "<svg xmlns=\"http://www.w3.org/2000/svg\" height=\"24px\"viewBox=\"0 0 24 24\"\n",
              "     width=\"24px\">\n",
              "    <g>\n",
              "        <path d=\"M19 3H5c-1.1 0-2 .9-2 2v14c0 1.1.9 2 2 2h14c1.1 0 2-.9 2-2V5c0-1.1-.9-2-2-2zM9 17H7v-7h2v7zm4 0h-2V7h2v10zm4 0h-2v-4h2v4z\"/>\n",
              "    </g>\n",
              "</svg>\n",
              "  </button>\n",
              "\n",
              "<style>\n",
              "  .colab-df-quickchart {\n",
              "      --bg-color: #E8F0FE;\n",
              "      --fill-color: #1967D2;\n",
              "      --hover-bg-color: #E2EBFA;\n",
              "      --hover-fill-color: #174EA6;\n",
              "      --disabled-fill-color: #AAA;\n",
              "      --disabled-bg-color: #DDD;\n",
              "  }\n",
              "\n",
              "  [theme=dark] .colab-df-quickchart {\n",
              "      --bg-color: #3B4455;\n",
              "      --fill-color: #D2E3FC;\n",
              "      --hover-bg-color: #434B5C;\n",
              "      --hover-fill-color: #FFFFFF;\n",
              "      --disabled-bg-color: #3B4455;\n",
              "      --disabled-fill-color: #666;\n",
              "  }\n",
              "\n",
              "  .colab-df-quickchart {\n",
              "    background-color: var(--bg-color);\n",
              "    border: none;\n",
              "    border-radius: 50%;\n",
              "    cursor: pointer;\n",
              "    display: none;\n",
              "    fill: var(--fill-color);\n",
              "    height: 32px;\n",
              "    padding: 0;\n",
              "    width: 32px;\n",
              "  }\n",
              "\n",
              "  .colab-df-quickchart:hover {\n",
              "    background-color: var(--hover-bg-color);\n",
              "    box-shadow: 0 1px 2px rgba(60, 64, 67, 0.3), 0 1px 3px 1px rgba(60, 64, 67, 0.15);\n",
              "    fill: var(--button-hover-fill-color);\n",
              "  }\n",
              "\n",
              "  .colab-df-quickchart-complete:disabled,\n",
              "  .colab-df-quickchart-complete:disabled:hover {\n",
              "    background-color: var(--disabled-bg-color);\n",
              "    fill: var(--disabled-fill-color);\n",
              "    box-shadow: none;\n",
              "  }\n",
              "\n",
              "  .colab-df-spinner {\n",
              "    border: 2px solid var(--fill-color);\n",
              "    border-color: transparent;\n",
              "    border-bottom-color: var(--fill-color);\n",
              "    animation:\n",
              "      spin 1s steps(1) infinite;\n",
              "  }\n",
              "\n",
              "  @keyframes spin {\n",
              "    0% {\n",
              "      border-color: transparent;\n",
              "      border-bottom-color: var(--fill-color);\n",
              "      border-left-color: var(--fill-color);\n",
              "    }\n",
              "    20% {\n",
              "      border-color: transparent;\n",
              "      border-left-color: var(--fill-color);\n",
              "      border-top-color: var(--fill-color);\n",
              "    }\n",
              "    30% {\n",
              "      border-color: transparent;\n",
              "      border-left-color: var(--fill-color);\n",
              "      border-top-color: var(--fill-color);\n",
              "      border-right-color: var(--fill-color);\n",
              "    }\n",
              "    40% {\n",
              "      border-color: transparent;\n",
              "      border-right-color: var(--fill-color);\n",
              "      border-top-color: var(--fill-color);\n",
              "    }\n",
              "    60% {\n",
              "      border-color: transparent;\n",
              "      border-right-color: var(--fill-color);\n",
              "    }\n",
              "    80% {\n",
              "      border-color: transparent;\n",
              "      border-right-color: var(--fill-color);\n",
              "      border-bottom-color: var(--fill-color);\n",
              "    }\n",
              "    90% {\n",
              "      border-color: transparent;\n",
              "      border-bottom-color: var(--fill-color);\n",
              "    }\n",
              "  }\n",
              "</style>\n",
              "\n",
              "  <script>\n",
              "    async function quickchart(key) {\n",
              "      const quickchartButtonEl =\n",
              "        document.querySelector('#' + key + ' button');\n",
              "      quickchartButtonEl.disabled = true;  // To prevent multiple clicks.\n",
              "      quickchartButtonEl.classList.add('colab-df-spinner');\n",
              "      try {\n",
              "        const charts = await google.colab.kernel.invokeFunction(\n",
              "            'suggestCharts', [key], {});\n",
              "      } catch (error) {\n",
              "        console.error('Error during call to suggestCharts:', error);\n",
              "      }\n",
              "      quickchartButtonEl.classList.remove('colab-df-spinner');\n",
              "      quickchartButtonEl.classList.add('colab-df-quickchart-complete');\n",
              "    }\n",
              "    (() => {\n",
              "      let quickchartButtonEl =\n",
              "        document.querySelector('#df-5feab548-dcea-4002-938f-4a7a950ec0f4 button');\n",
              "      quickchartButtonEl.style.display =\n",
              "        google.colab.kernel.accessAllowed ? 'block' : 'none';\n",
              "    })();\n",
              "  </script>\n",
              "</div>\n",
              "\n",
              "    </div>\n",
              "  </div>\n"
            ],
            "application/vnd.google.colaboratory.intrinsic+json": {
              "type": "dataframe",
              "variable_name": "dataframe",
              "summary": "{\n  \"name\": \"dataframe\",\n  \"rows\": 14281,\n  \"fields\": [\n    {\n      \"column\": \"item_category\",\n      \"properties\": {\n        \"dtype\": \"number\",\n        \"std\": 119,\n        \"min\": 101,\n        \"max\": 701,\n        \"num_unique_values\": 48,\n        \"samples\": [\n          209,\n          510,\n          524\n        ],\n        \"semantic_type\": \"\",\n        \"description\": \"\"\n      }\n    },\n    {\n      \"column\": \"item_id\",\n      \"properties\": {\n        \"dtype\": \"number\",\n        \"std\": 1185181,\n        \"min\": 1010102,\n        \"max\": 7010101,\n        \"num_unique_values\": 162,\n        \"samples\": [\n          1070911,\n          5050101,\n          5240101\n        ],\n        \"semantic_type\": \"\",\n        \"description\": \"\"\n      }\n    },\n    {\n      \"column\": \"brand\",\n      \"properties\": {\n        \"dtype\": \"number\",\n        \"std\": 496,\n        \"min\": 1,\n        \"max\": 2159,\n        \"num_unique_values\": 192,\n        \"samples\": [\n          18,\n          1440,\n          1460\n        ],\n        \"semantic_type\": \"\",\n        \"description\": \"\"\n      }\n    },\n    {\n      \"column\": \"user_id\",\n      \"properties\": {\n        \"dtype\": \"number\",\n        \"std\": 908,\n        \"min\": 0,\n        \"max\": 3231,\n        \"num_unique_values\": 3041,\n        \"samples\": [\n          753,\n          1130,\n          386\n        ],\n        \"semantic_type\": \"\",\n        \"description\": \"\"\n      }\n    },\n    {\n      \"column\": \"date\",\n      \"properties\": {\n        \"dtype\": \"object\",\n        \"num_unique_values\": 2275,\n        \"samples\": [\n          \"2017-01-23\",\n          \"2016-07-05\",\n          \"2013-02-05\"\n        ],\n        \"semantic_type\": \"\",\n        \"description\": \"\"\n      }\n    },\n    {\n      \"column\": \"comment\",\n      \"properties\": {\n        \"dtype\": \"string\",\n        \"num_unique_values\": 14221,\n        \"samples\": [\n          \"\\u041f\\u043e\\u0434\\u0430\\u0440\\u0438\\u043b\\u0438 \\u0442\\u0430\\u043a\\u043e\\u0439 \\u043f\\u044b\\u043b\\u0435\\u0441\\u043e\\u0441, \\u043c\\u043e\\u0449\\u043d\\u043e\\u0441\\u0442\\u044c \\u043e\\u0447\\u0435\\u043d\\u044c \\u0441\\u043b\\u0430\\u0431\\u0430\\u044f. \\u0427\\u0442\\u043e\\u0431\\u044b \\u0434\\u0435\\u0439\\u0441\\u0442\\u0432\\u0438\\u0442\\u0435\\u043b\\u044c\\u043d\\u043e \\u0445\\u043e\\u0440\\u043e\\u0448\\u043e \\u043f\\u0440\\u043e\\u043f\\u044b\\u043b\\u0435\\u0441\\u043e\\u0441\\u0438\\u0442\\u044c \\u043c\\u0430\\u0448\\u0438\\u043d\\u0443 \\u043f\\u043e\\u0442\\u0440\\u0435\\u0431\\u0443\\u0435\\u0442\\u0441\\u044f \\u0447\\u0430\\u0441\\u043e\\u0432 8. \\u041d\\u0435 \\u0440\\u0435\\u043a\\u043e\\u043c\\u0435\\u043d\\u0434\\u0443\\u044e \\u043f\\u043e\\u043a\\u0443\\u043f\\u0430\\u0442\\u044c \\u0434\\u0430\\u043d\\u043d\\u0443\\u044e \\u043c\\u043e\\u0434\\u0435\\u043b\\u044c, \\u043e\\u0447\\u0435\\u043d\\u044c \\u0440\\u0430\\u0437\\u043e\\u0447\\u0430\\u0440\\u0443\\u0435\\u0442\",\n          \"\\u0414\\u043e\\u043c\\u0430 \\u0440\\u0435\\u0431\\u0435\\u043d\\u043e\\u043a \\u0430\\u043b\\u043b\\u0435\\u0440\\u0433\\u0438\\u043a , \\u0436\\u0438\\u0432\\u0443 \\u0432 \\u043e\\u0434\\u043d\\u0443\\u0448\\u043a\\u0435 . \\u0418\\u0441\\u043a\\u0430\\u043b \\u043d\\u0435\\u0431\\u043e\\u043b\\u044c\\u0448\\u043e\\u0439 \\u043f\\u044b\\u043b\\u0435\\u0441\\u043e\\u0441 \\u0441 \\u0430\\u043a\\u0432\\u0430-\\u0444\\u0438\\u043b\\u044c\\u0442\\u0440\\u043e\\u043c , \\u043c\\u0435\\u043d\\u044c\\u0448\\u0435 \\u0447\\u0435\\u043c \\u043c\\u043d\\u0435 \\u043d\\u0435 \\u0437\\u043d\\u0430\\u043a\\u043e\\u043c\\u044b\\u0439 \\u0410\\u0440\\u0438\\u0435\\u0442\\u0435 \\u043d\\u0435 \\u043d\\u0430\\u0448\\u0435\\u043b ,\\u043f\\u043e\\u043f\\u0440\\u043e\\u0431\\u044b\\u0432\\u0430\\u043b \\u0438 \\u043a\\u0443\\u043f\\u0438\\u043b ! \\u0422\\u0435\\u043f\\u0435\\u0440\\u044c \\u0442\\u0430\\u043a \\u043c\\u043e\\u0433\\u0443 \\u0441\\u043a\\u0430\\u0437\\u0430\\u0442\\u044c- \\u0434\\u0435\\u0448\\u0435\\u0432\\u044b\\u0439 ,\\u043a\\u0430\\u0447\\u0435\\u0441\\u0442\\u0432\\u0435\\u043d\\u043d\\u044b\\u0439 \\u043f\\u044b\\u043b\\u0435\\u0441\\u043e\\u0441 , \\u0437\\u0430\\u043d\\u0438\\u043c\\u0430\\u0435\\u0442 \\u043c\\u0430\\u043b\\u043e \\u043c\\u0435\\u0441\\u0442\\u0430 , \\u0430 \\u0433\\u043b\\u0430\\u0432\\u043d\\u043e\\u0435 \\u043c\\u043e\\u0435\\u0442 \\u0432\\u043e\\u0437\\u0434\\u0443\\u0445 !!!!\",\n          \"\\u041a\\u0441\\u0442\\u0430\\u0442\\u0438 \\u0432 \\u041c-\\u0412\\u0438\\u0434\\u0435\\u043e \\u043e\\u0447\\u0435\\u043d\\u044c \\u0445\\u043e\\u0440\\u043e\\u0448\\u043e \\u043a\\u043e\\u043d\\u0441\\u0443\\u043b\\u044c\\u0442\\u0438\\u0440\\u0443\\u044e\\u0442.  \\u041a\\u0443\\u043f\\u0438\\u043b \\u0442\\u0432 Philips 32 PFL 5604H/12, \\u0432\\u043a\\u043b\\u044e\\u0447\\u0438\\u043b \\u0438 \\u0441\\u0442\\u0430\\u043b\\u043e \\u044f\\u0441\\u043d\\u043e, \\u0447\\u0442\\u043e \\u044d\\u0442\\u043e \\u043d\\u0435 \\u0442\\u043e. \\u0418 \\u0433\\u0440\\u0435\\u0435\\u0442\\u0441\\u044f \\u043a\\u0430\\u043a \\u043f\\u0435\\u0447\\u043a\\u0430 \\u0438 \\u0437\\u0430\\u043f\\u0430\\u0445 \\u0433\\u043e\\u0440\\u0435\\u043b\\u043e\\u0433\\u043e \\u0438\\u0434\\u0435\\u0442, \\u0440\\u044f\\u0434 \\u0437\\u0430\\u044f\\u0432\\u043b\\u0435\\u043d\\u043d\\u044b\\u0445 \\u0444\\u0443\\u043d\\u043a\\u0446\\u0438\\u0439 \\u043e\\u0442\\u0441\\u0443\\u0442\\u0441\\u0442\\u0432\\u0443\\u044e\\u0442. \\u041d\\u043e \\u0430 \\u0432\\u0440\\u0435\\u043c\\u044f- \\u0447\\u0430\\u0441\\u044b \\u0432\\u043e\\u043e\\u0431\\u0449\\u0435 \\u043d\\u0435\\u043b\\u044c\\u0437\\u044f \\u043d\\u0430\\u0441\\u0442\\u0440\\u043e\\u0438\\u0442\\u044c \\u0432 \\u0434\\u043e\\u043a\\u0443\\u043c\\u0435\\u043d\\u0442\\u0430\\u0446\\u0438\\u0438 \\u043d\\u0430 \\u0442\\u0435\\u043b\\u0435\\u0432\\u0438\\u0437\\u043e\\u0440\\u0435 \\u0441\\u043a\\u0430\\u0437\\u0430\\u043d\\u043e \\u043a\\u0430\\u043a \\u043d\\u0430\\u0441\\u0442\\u0440\\u043e\\u0438\\u0442\\u044c, \\u0430 \\u043c\\u0435\\u043d\\u044e \\u044d\\u0442\\u043e\\u0439 \\u0444\\u0443\\u043d\\u043a\\u0446\\u0438\\u0438 \\u043d\\u0435\\u0442 \\u0441\\u043e \\u0432\\u0441\\u0435\\u043c\\u0438 \\u043f\\u043e\\u0441\\u043b\\u0435\\u0434\\u0441\\u0442\\u0432\\u0438\\u044f\\u043c\\u0438. \\u041f\\u043e\\u0442\\u0435\\u0440\\u044f \\u0437\\u0432\\u0443\\u043a\\u0430 \\u043f\\u0440\\u0438 \\u043d\\u0435\\u043a\\u043e\\u0442\\u043e\\u0440\\u044b\\u0445 \\u0444\\u0443\\u043d\\u043a\\u0446\\u0438\\u044f\\u0445. \\u0412\\u044b\\u0448\\u0435 \\u0442\\u043e\\u0432\\u0430\\u0440\\u0438\\u0449\\u0438 \\u0441\\u043a\\u0430\\u0437\\u0430\\u043b\\u0438 , \\u0447\\u0442\\u043e \\u043d\\u0435 \\u0432\\u0441\\u0435 \\u0444\\u0430\\u0439\\u043b\\u044b \\u0441 \\u0444\\u043b\\u0435\\u0448\\u043a\\u0438 \\u0447\\u0438\\u0442\\u0430\\u0435\\u0442 - \\u044d\\u0442\\u043e \\u043f\\u0440\\u0430\\u0432\\u0434\\u0430. \\u0422\\u0435\\u043f\\u0435\\u0440\\u044c \\u043f\\u043e \\u0438\\u0437\\u043e\\u0431\\u0440\\u0430\\u0436\\u0435\\u043d\\u0438\\u044e - \\u0441\\u0440\\u0430\\u0432\\u043d\\u0438\\u043b \\u0441 \\u0438\\u0437\\u043e\\u0431\\u0440\\u0430\\u0436\\u0435\\u043d\\u0438\\u0435\\u043c \\\"\\u0441\\u0430\\u043c\\u0441\\u0443\\u043d\\u0433\\u0430\\\" \\u043f\\u043e\\u043a\\u0430\\u0437\\u044b\\u0432\\u0430\\u0435\\u0442 \\u0445\\u0443\\u0436\\u0435, \\u0438\\u0437\\u043e\\u0431\\u0440\\u0430\\u0436\\u0435\\u043d\\u0438\\u0435 \\u0432\\u0440\\u0435\\u043c\\u0435\\u043d\\u0430\\u043c\\u0438 \\u043c\\u0435\\u0441\\u0442\\u0430\\u043c\\u0438 \\u043b\\u0438\\u0431\\u043e \\u043f\\u043b\\u044b\\u0432\\u0435\\u0442, \\u043b\\u0438\\u0431\\u043e \\u0434\\u0435\\u0440\\u0433\\u0430\\u0435\\u0442\\u0441\\u044f.  \\u041a\\u043e\\u043d\\u0435\\u0447\\u043d\\u043e, \\u0435\\u0441\\u043b\\u0438 \\u0434\\u043e\\u043c\\u0430 \\u043d\\u0435\\u0442 \\u0416\\u041a \\u0442\\u0435\\u043b\\u0435\\u0432\\u0438\\u0437\\u043e\\u0440\\u0430, \\u0442\\u043e \\u0438 \\u044d\\u0442\\u043e\\u0442 \\u0432 \\u0440\\u0430\\u0434\\u043e\\u0441\\u0442\\u044c \\u043c\\u043e\\u0436\\u0435\\u0442 \\u0431\\u044b\\u0442\\u044c, \\u043a\\u043e\\u0433\\u0434\\u0430 \\u044d\\u0442\\u043e 3-\\u0442\\u0438\\u0439 \\u0422\\u0412 \\u0432\\u044b\\u0441\\u043e\\u043a\\u043e\\u0433\\u043e \\u0440\\u0430\\u0437\\u0440\\u0435\\u0448\\u0435\\u043d\\u0438\\u044f, \\u0442\\u043e \\u044f\\u0441\\u043d\\u043e, \\u0447\\u0442\\u043e \\u043c\\u043e\\u0434\\u0435\\u043b\\u044c \\u043f\\u043e \\u043a\\u0430\\u0447\\u0435\\u0441\\u0442\\u0432\\u0443 \\u043d\\u0438\\u0436\\u0435 \\u0437\\u0430\\u044f\\u0432\\u043b\\u0435\\u043d\\u043d\\u043e\\u0439. \\u0410 \\u043a\\u043e\\u0433\\u0434\\u0430 \\u043f\\u0440\\u043e\\u043f\\u0438\\u0441\\u0430\\u043d\\u043d\\u044b\\u0435 \\u0432 \\u0434\\u043e\\u043a\\u0443\\u043c\\u0435\\u043d\\u0442\\u0430\\u0446\\u0438\\u0438 \\u0444\\u0443\\u043d\\u043a\\u0446\\u0438\\u0438 \\u043e\\u0442\\u0441\\u0443\\u0442\\u0441\\u0442\\u0432\\u0443\\u044e\\u0442 \\u0438\\u043b\\u0438 \\u043d\\u0435\\u0432\\u0435\\u0440\\u043d\\u043e \\u0440\\u0435\\u0430\\u043b\\u0438\\u0437\\u043e\\u0432\\u0430\\u043d\\u044b, \\u0442\\u043e \\u0441\\u0442\\u0430\\u043d\\u043e\\u0432\\u0438\\u0442\\u0441\\u044f \\u044f\\u0441\\u043d\\u043e, \\u0412\\u0430\\u0441 \\u043d\\u0435\\u043c\\u043d\\u043e\\u0433\\u043e \\u0432\\u0432\\u0435\\u043b\\u0438 \\u0432 \\u0437\\u0430\\u0431\\u043b\\u0443\\u0436\\u0434\\u0435\\u043d\\u0438\\u0435. \\u0410 \\u0432\\u0435\\u0434\\u044c \\u0444\\u0438\\u0440\\u043c\\u0430 \\u0438\\u0437\\u0432\\u0435\\u0441\\u0442\\u043d\\u0430\\u044f \\u0441\\u0432\\u043e\\u0435\\u0439 \\u043a\\u0430\\u0447\\u0435\\u0441\\u0442\\u0432\\u0435\\u043d\\u043d\\u043e\\u0439 \\u043f\\u0440\\u043e\\u0434\\u0443\\u043a\\u0446\\u0438\\u0435\\u0439. \\u0410 \\u043c\\u043e\\u0436\\u0435\\u0442 \\u043c\\u043d\\u0435 \\u043d\\u0435 \\u043f\\u043e\\u0432\\u0435\\u0437\\u043b\\u043e?   \\u042f \\u0437\\u0430\\u043c\\u0435\\u043d\\u0438\\u043b \\u0422\\u0412 \\u042d\\u041b\\u0422 \\u0424\\u0438\\u043b\\u0438\\u043f\\u0441 \\u043a\\u043e\\u0442\\u043e\\u0440\\u044b\\u0439 \\u0432\\u0435\\u0440\\u043e\\u0439 \\u0438 \\u043f\\u0440\\u0430\\u0432\\u0434\\u043e\\u0439 \\u0441 \\u0445\\u043e\\u0440\\u043e\\u0448\\u0438\\u043c \\u0438\\u0437\\u043e\\u0431\\u0440\\u0430\\u0436\\u0435\\u043d\\u0438\\u0435\\u043c \\u043e\\u0442\\u0441\\u043b\\u0443\\u0436\\u0438\\u043b 12 \\u043b\\u0435\\u0442 \\u0438 \\u0431\\u0443\\u0434\\u0435\\u0442 \\u043d\\u0430 \\u0434\\u0430\\u0447\\u0435 \\u0441\\u043b\\u0443\\u0436\\u0438\\u0442\\u044c \\u043d\\u0435 \\u043d\\u0435 \\u043e\\u0434\\u0438\\u043d \\u0433\\u043e\\u0434.   \\u041e\\u0431\\u0438\\u0434\\u043d\\u043e \\u043f\\u043e\\u043d\\u0438\\u043c\\u0430\\u0435\\u0448\\u044c!    \\u0411\\u0443\\u0434\\u0443 \\u043c\\u0435\\u043d\\u044f\\u0442\\u044c \\u043d\\u0430 \\u0422\\u0412 \\u0416\\u041a-\\u0442\\u0435\\u043b\\u0435\\u0432\\u0438\\u0437\\u043e\\u0440 32\\\"Philips 100\\u0433\\u0435\\u0440\\u0446, \\u043f\\u043e \\u0437\\u0430\\u043c\\u0435\\u043d\\u0435 \\u0434\\u0430\\u043c \\u0438\\u043d\\u0444\\u043e\\u0440\\u043c\\u0430\\u0446\\u0438\\u044e \\u043f\\u043e\\u0437\\u0436\\u0435.\"\n        ],\n        \"semantic_type\": \"\",\n        \"description\": \"\"\n      }\n    },\n    {\n      \"column\": \"rating\",\n      \"properties\": {\n        \"dtype\": \"number\",\n        \"std\": 1.3293638067670723,\n        \"min\": 1.0,\n        \"max\": 5.0,\n        \"num_unique_values\": 8,\n        \"samples\": [\n          4.0,\n          4.3,\n          2.0\n        ],\n        \"semantic_type\": \"\",\n        \"description\": \"\"\n      }\n    },\n    {\n      \"column\": \"tonality\",\n      \"properties\": {\n        \"dtype\": \"category\",\n        \"num_unique_values\": 2,\n        \"samples\": [\n          \"positive\",\n          \"negative\"\n        ],\n        \"semantic_type\": \"\",\n        \"description\": \"\"\n      }\n    }\n  ]\n}"
            }
          },
          "metadata": {},
          "execution_count": 9
        }
      ]
    },
    {
      "cell_type": "markdown",
      "source": [
        "Для дальнейшей работы нам понадобится только два столбца:\n",
        "\n",
        "1.   **comment** - текстовые данные\n",
        "2.   **tonality** - метки, определим их как: **0** (позитивная оценка), **1** (негативная оценка)\n",
        "\n",
        "Так же проведём стандартную очистку от пропусков и дубликатов\n"
      ],
      "metadata": {
        "id": "8BV7HZvlKT7T"
      }
    },
    {
      "cell_type": "code",
      "source": [
        "dataframe_cleaned = dataframe[['comment', 'tonality']].copy()\n",
        "dataframe_cleaned['tonality'] = dataframe_cleaned['tonality'].replace({'positive': 0, 'negative': 1})\n",
        "dataframe_cleaned.dropna(inplace=True)\n",
        "dataframe_cleaned.drop_duplicates(inplace=True)\n",
        "dataframe_cleaned.reset_index(drop=True, inplace=True)\n",
        "dataframe_cleaned"
      ],
      "metadata": {
        "colab": {
          "base_uri": "https://localhost:8080/",
          "height": 424
        },
        "id": "IbGEa1KJLH7y",
        "outputId": "5469e44b-5107-4004-fcd2-2c6e2f7b29cf"
      },
      "execution_count": null,
      "outputs": [
        {
          "output_type": "execute_result",
          "data": {
            "text/plain": [
              "                                                 comment  tonality\n",
              "0      2,5 года работала и все...устала! Лампочка гор...         1\n",
              "1      Через 2 месяца после истечении гарантийного ср...         1\n",
              "2      пользуюсь уже три недели. нареканий ни каких н...         0\n",
              "3      Ребят этот системный блок подойдёт для игры кс...         0\n",
              "4      я считаю, что яри замечательный телефон! Прият...         0\n",
              "...                                                  ...       ...\n",
              "14222  Не плохая машинка за такие деньги. Очень хорош...         0\n",
              "14223  Отличный кондиционер, работает тихо,в режиме н...         0\n",
              "14224  Пылесос отличный. Мощный-это раз. Не по-детски...         0\n",
              "14225                                       Три скорости         1\n",
              "14226  Думал что у меня голова не стандартная, но эти...         0\n",
              "\n",
              "[14227 rows x 2 columns]"
            ],
            "text/html": [
              "\n",
              "  <div id=\"df-543fd20f-a3dd-4a42-88b1-73d6908115fd\" class=\"colab-df-container\">\n",
              "    <div>\n",
              "<style scoped>\n",
              "    .dataframe tbody tr th:only-of-type {\n",
              "        vertical-align: middle;\n",
              "    }\n",
              "\n",
              "    .dataframe tbody tr th {\n",
              "        vertical-align: top;\n",
              "    }\n",
              "\n",
              "    .dataframe thead th {\n",
              "        text-align: right;\n",
              "    }\n",
              "</style>\n",
              "<table border=\"1\" class=\"dataframe\">\n",
              "  <thead>\n",
              "    <tr style=\"text-align: right;\">\n",
              "      <th></th>\n",
              "      <th>comment</th>\n",
              "      <th>tonality</th>\n",
              "    </tr>\n",
              "  </thead>\n",
              "  <tbody>\n",
              "    <tr>\n",
              "      <th>0</th>\n",
              "      <td>2,5 года работала и все...устала! Лампочка гор...</td>\n",
              "      <td>1</td>\n",
              "    </tr>\n",
              "    <tr>\n",
              "      <th>1</th>\n",
              "      <td>Через 2 месяца после истечении гарантийного ср...</td>\n",
              "      <td>1</td>\n",
              "    </tr>\n",
              "    <tr>\n",
              "      <th>2</th>\n",
              "      <td>пользуюсь уже три недели. нареканий ни каких н...</td>\n",
              "      <td>0</td>\n",
              "    </tr>\n",
              "    <tr>\n",
              "      <th>3</th>\n",
              "      <td>Ребят этот системный блок подойдёт для игры кс...</td>\n",
              "      <td>0</td>\n",
              "    </tr>\n",
              "    <tr>\n",
              "      <th>4</th>\n",
              "      <td>я считаю, что яри замечательный телефон! Прият...</td>\n",
              "      <td>0</td>\n",
              "    </tr>\n",
              "    <tr>\n",
              "      <th>...</th>\n",
              "      <td>...</td>\n",
              "      <td>...</td>\n",
              "    </tr>\n",
              "    <tr>\n",
              "      <th>14222</th>\n",
              "      <td>Не плохая машинка за такие деньги. Очень хорош...</td>\n",
              "      <td>0</td>\n",
              "    </tr>\n",
              "    <tr>\n",
              "      <th>14223</th>\n",
              "      <td>Отличный кондиционер, работает тихо,в режиме н...</td>\n",
              "      <td>0</td>\n",
              "    </tr>\n",
              "    <tr>\n",
              "      <th>14224</th>\n",
              "      <td>Пылесос отличный. Мощный-это раз. Не по-детски...</td>\n",
              "      <td>0</td>\n",
              "    </tr>\n",
              "    <tr>\n",
              "      <th>14225</th>\n",
              "      <td>Три скорости</td>\n",
              "      <td>1</td>\n",
              "    </tr>\n",
              "    <tr>\n",
              "      <th>14226</th>\n",
              "      <td>Думал что у меня голова не стандартная, но эти...</td>\n",
              "      <td>0</td>\n",
              "    </tr>\n",
              "  </tbody>\n",
              "</table>\n",
              "<p>14227 rows × 2 columns</p>\n",
              "</div>\n",
              "    <div class=\"colab-df-buttons\">\n",
              "\n",
              "  <div class=\"colab-df-container\">\n",
              "    <button class=\"colab-df-convert\" onclick=\"convertToInteractive('df-543fd20f-a3dd-4a42-88b1-73d6908115fd')\"\n",
              "            title=\"Convert this dataframe to an interactive table.\"\n",
              "            style=\"display:none;\">\n",
              "\n",
              "  <svg xmlns=\"http://www.w3.org/2000/svg\" height=\"24px\" viewBox=\"0 -960 960 960\">\n",
              "    <path d=\"M120-120v-720h720v720H120Zm60-500h600v-160H180v160Zm220 220h160v-160H400v160Zm0 220h160v-160H400v160ZM180-400h160v-160H180v160Zm440 0h160v-160H620v160ZM180-180h160v-160H180v160Zm440 0h160v-160H620v160Z\"/>\n",
              "  </svg>\n",
              "    </button>\n",
              "\n",
              "  <style>\n",
              "    .colab-df-container {\n",
              "      display:flex;\n",
              "      gap: 12px;\n",
              "    }\n",
              "\n",
              "    .colab-df-convert {\n",
              "      background-color: #E8F0FE;\n",
              "      border: none;\n",
              "      border-radius: 50%;\n",
              "      cursor: pointer;\n",
              "      display: none;\n",
              "      fill: #1967D2;\n",
              "      height: 32px;\n",
              "      padding: 0 0 0 0;\n",
              "      width: 32px;\n",
              "    }\n",
              "\n",
              "    .colab-df-convert:hover {\n",
              "      background-color: #E2EBFA;\n",
              "      box-shadow: 0px 1px 2px rgba(60, 64, 67, 0.3), 0px 1px 3px 1px rgba(60, 64, 67, 0.15);\n",
              "      fill: #174EA6;\n",
              "    }\n",
              "\n",
              "    .colab-df-buttons div {\n",
              "      margin-bottom: 4px;\n",
              "    }\n",
              "\n",
              "    [theme=dark] .colab-df-convert {\n",
              "      background-color: #3B4455;\n",
              "      fill: #D2E3FC;\n",
              "    }\n",
              "\n",
              "    [theme=dark] .colab-df-convert:hover {\n",
              "      background-color: #434B5C;\n",
              "      box-shadow: 0px 1px 3px 1px rgba(0, 0, 0, 0.15);\n",
              "      filter: drop-shadow(0px 1px 2px rgba(0, 0, 0, 0.3));\n",
              "      fill: #FFFFFF;\n",
              "    }\n",
              "  </style>\n",
              "\n",
              "    <script>\n",
              "      const buttonEl =\n",
              "        document.querySelector('#df-543fd20f-a3dd-4a42-88b1-73d6908115fd button.colab-df-convert');\n",
              "      buttonEl.style.display =\n",
              "        google.colab.kernel.accessAllowed ? 'block' : 'none';\n",
              "\n",
              "      async function convertToInteractive(key) {\n",
              "        const element = document.querySelector('#df-543fd20f-a3dd-4a42-88b1-73d6908115fd');\n",
              "        const dataTable =\n",
              "          await google.colab.kernel.invokeFunction('convertToInteractive',\n",
              "                                                    [key], {});\n",
              "        if (!dataTable) return;\n",
              "\n",
              "        const docLinkHtml = 'Like what you see? Visit the ' +\n",
              "          '<a target=\"_blank\" href=https://colab.research.google.com/notebooks/data_table.ipynb>data table notebook</a>'\n",
              "          + ' to learn more about interactive tables.';\n",
              "        element.innerHTML = '';\n",
              "        dataTable['output_type'] = 'display_data';\n",
              "        await google.colab.output.renderOutput(dataTable, element);\n",
              "        const docLink = document.createElement('div');\n",
              "        docLink.innerHTML = docLinkHtml;\n",
              "        element.appendChild(docLink);\n",
              "      }\n",
              "    </script>\n",
              "  </div>\n",
              "\n",
              "\n",
              "<div id=\"df-b279d735-04ae-4b3a-9b95-87c44c2c8f2d\">\n",
              "  <button class=\"colab-df-quickchart\" onclick=\"quickchart('df-b279d735-04ae-4b3a-9b95-87c44c2c8f2d')\"\n",
              "            title=\"Suggest charts\"\n",
              "            style=\"display:none;\">\n",
              "\n",
              "<svg xmlns=\"http://www.w3.org/2000/svg\" height=\"24px\"viewBox=\"0 0 24 24\"\n",
              "     width=\"24px\">\n",
              "    <g>\n",
              "        <path d=\"M19 3H5c-1.1 0-2 .9-2 2v14c0 1.1.9 2 2 2h14c1.1 0 2-.9 2-2V5c0-1.1-.9-2-2-2zM9 17H7v-7h2v7zm4 0h-2V7h2v10zm4 0h-2v-4h2v4z\"/>\n",
              "    </g>\n",
              "</svg>\n",
              "  </button>\n",
              "\n",
              "<style>\n",
              "  .colab-df-quickchart {\n",
              "      --bg-color: #E8F0FE;\n",
              "      --fill-color: #1967D2;\n",
              "      --hover-bg-color: #E2EBFA;\n",
              "      --hover-fill-color: #174EA6;\n",
              "      --disabled-fill-color: #AAA;\n",
              "      --disabled-bg-color: #DDD;\n",
              "  }\n",
              "\n",
              "  [theme=dark] .colab-df-quickchart {\n",
              "      --bg-color: #3B4455;\n",
              "      --fill-color: #D2E3FC;\n",
              "      --hover-bg-color: #434B5C;\n",
              "      --hover-fill-color: #FFFFFF;\n",
              "      --disabled-bg-color: #3B4455;\n",
              "      --disabled-fill-color: #666;\n",
              "  }\n",
              "\n",
              "  .colab-df-quickchart {\n",
              "    background-color: var(--bg-color);\n",
              "    border: none;\n",
              "    border-radius: 50%;\n",
              "    cursor: pointer;\n",
              "    display: none;\n",
              "    fill: var(--fill-color);\n",
              "    height: 32px;\n",
              "    padding: 0;\n",
              "    width: 32px;\n",
              "  }\n",
              "\n",
              "  .colab-df-quickchart:hover {\n",
              "    background-color: var(--hover-bg-color);\n",
              "    box-shadow: 0 1px 2px rgba(60, 64, 67, 0.3), 0 1px 3px 1px rgba(60, 64, 67, 0.15);\n",
              "    fill: var(--button-hover-fill-color);\n",
              "  }\n",
              "\n",
              "  .colab-df-quickchart-complete:disabled,\n",
              "  .colab-df-quickchart-complete:disabled:hover {\n",
              "    background-color: var(--disabled-bg-color);\n",
              "    fill: var(--disabled-fill-color);\n",
              "    box-shadow: none;\n",
              "  }\n",
              "\n",
              "  .colab-df-spinner {\n",
              "    border: 2px solid var(--fill-color);\n",
              "    border-color: transparent;\n",
              "    border-bottom-color: var(--fill-color);\n",
              "    animation:\n",
              "      spin 1s steps(1) infinite;\n",
              "  }\n",
              "\n",
              "  @keyframes spin {\n",
              "    0% {\n",
              "      border-color: transparent;\n",
              "      border-bottom-color: var(--fill-color);\n",
              "      border-left-color: var(--fill-color);\n",
              "    }\n",
              "    20% {\n",
              "      border-color: transparent;\n",
              "      border-left-color: var(--fill-color);\n",
              "      border-top-color: var(--fill-color);\n",
              "    }\n",
              "    30% {\n",
              "      border-color: transparent;\n",
              "      border-left-color: var(--fill-color);\n",
              "      border-top-color: var(--fill-color);\n",
              "      border-right-color: var(--fill-color);\n",
              "    }\n",
              "    40% {\n",
              "      border-color: transparent;\n",
              "      border-right-color: var(--fill-color);\n",
              "      border-top-color: var(--fill-color);\n",
              "    }\n",
              "    60% {\n",
              "      border-color: transparent;\n",
              "      border-right-color: var(--fill-color);\n",
              "    }\n",
              "    80% {\n",
              "      border-color: transparent;\n",
              "      border-right-color: var(--fill-color);\n",
              "      border-bottom-color: var(--fill-color);\n",
              "    }\n",
              "    90% {\n",
              "      border-color: transparent;\n",
              "      border-bottom-color: var(--fill-color);\n",
              "    }\n",
              "  }\n",
              "</style>\n",
              "\n",
              "  <script>\n",
              "    async function quickchart(key) {\n",
              "      const quickchartButtonEl =\n",
              "        document.querySelector('#' + key + ' button');\n",
              "      quickchartButtonEl.disabled = true;  // To prevent multiple clicks.\n",
              "      quickchartButtonEl.classList.add('colab-df-spinner');\n",
              "      try {\n",
              "        const charts = await google.colab.kernel.invokeFunction(\n",
              "            'suggestCharts', [key], {});\n",
              "      } catch (error) {\n",
              "        console.error('Error during call to suggestCharts:', error);\n",
              "      }\n",
              "      quickchartButtonEl.classList.remove('colab-df-spinner');\n",
              "      quickchartButtonEl.classList.add('colab-df-quickchart-complete');\n",
              "    }\n",
              "    (() => {\n",
              "      let quickchartButtonEl =\n",
              "        document.querySelector('#df-b279d735-04ae-4b3a-9b95-87c44c2c8f2d button');\n",
              "      quickchartButtonEl.style.display =\n",
              "        google.colab.kernel.accessAllowed ? 'block' : 'none';\n",
              "    })();\n",
              "  </script>\n",
              "</div>\n",
              "\n",
              "  <div id=\"id_a9ab8afc-447d-43e4-8c9e-69d7048bc8f6\">\n",
              "    <style>\n",
              "      .colab-df-generate {\n",
              "        background-color: #E8F0FE;\n",
              "        border: none;\n",
              "        border-radius: 50%;\n",
              "        cursor: pointer;\n",
              "        display: none;\n",
              "        fill: #1967D2;\n",
              "        height: 32px;\n",
              "        padding: 0 0 0 0;\n",
              "        width: 32px;\n",
              "      }\n",
              "\n",
              "      .colab-df-generate:hover {\n",
              "        background-color: #E2EBFA;\n",
              "        box-shadow: 0px 1px 2px rgba(60, 64, 67, 0.3), 0px 1px 3px 1px rgba(60, 64, 67, 0.15);\n",
              "        fill: #174EA6;\n",
              "      }\n",
              "\n",
              "      [theme=dark] .colab-df-generate {\n",
              "        background-color: #3B4455;\n",
              "        fill: #D2E3FC;\n",
              "      }\n",
              "\n",
              "      [theme=dark] .colab-df-generate:hover {\n",
              "        background-color: #434B5C;\n",
              "        box-shadow: 0px 1px 3px 1px rgba(0, 0, 0, 0.15);\n",
              "        filter: drop-shadow(0px 1px 2px rgba(0, 0, 0, 0.3));\n",
              "        fill: #FFFFFF;\n",
              "      }\n",
              "    </style>\n",
              "    <button class=\"colab-df-generate\" onclick=\"generateWithVariable('dataframe_cleaned')\"\n",
              "            title=\"Generate code using this dataframe.\"\n",
              "            style=\"display:none;\">\n",
              "\n",
              "  <svg xmlns=\"http://www.w3.org/2000/svg\" height=\"24px\"viewBox=\"0 0 24 24\"\n",
              "       width=\"24px\">\n",
              "    <path d=\"M7,19H8.4L18.45,9,17,7.55,7,17.6ZM5,21V16.75L18.45,3.32a2,2,0,0,1,2.83,0l1.4,1.43a1.91,1.91,0,0,1,.58,1.4,1.91,1.91,0,0,1-.58,1.4L9.25,21ZM18.45,9,17,7.55Zm-12,3A5.31,5.31,0,0,0,4.9,8.1,5.31,5.31,0,0,0,1,6.5,5.31,5.31,0,0,0,4.9,4.9,5.31,5.31,0,0,0,6.5,1,5.31,5.31,0,0,0,8.1,4.9,5.31,5.31,0,0,0,12,6.5,5.46,5.46,0,0,0,6.5,12Z\"/>\n",
              "  </svg>\n",
              "    </button>\n",
              "    <script>\n",
              "      (() => {\n",
              "      const buttonEl =\n",
              "        document.querySelector('#id_a9ab8afc-447d-43e4-8c9e-69d7048bc8f6 button.colab-df-generate');\n",
              "      buttonEl.style.display =\n",
              "        google.colab.kernel.accessAllowed ? 'block' : 'none';\n",
              "\n",
              "      buttonEl.onclick = () => {\n",
              "        google.colab.notebook.generateWithVariable('dataframe_cleaned');\n",
              "      }\n",
              "      })();\n",
              "    </script>\n",
              "  </div>\n",
              "\n",
              "    </div>\n",
              "  </div>\n"
            ],
            "application/vnd.google.colaboratory.intrinsic+json": {
              "type": "dataframe",
              "variable_name": "dataframe_cleaned",
              "summary": "{\n  \"name\": \"dataframe_cleaned\",\n  \"rows\": 14227,\n  \"fields\": [\n    {\n      \"column\": \"comment\",\n      \"properties\": {\n        \"dtype\": \"string\",\n        \"num_unique_values\": 14221,\n        \"samples\": [\n          \"\\u041f\\u043e\\u0434\\u0430\\u0440\\u0438\\u043b\\u0438 \\u0442\\u0430\\u043a\\u043e\\u0439 \\u043f\\u044b\\u043b\\u0435\\u0441\\u043e\\u0441, \\u043c\\u043e\\u0449\\u043d\\u043e\\u0441\\u0442\\u044c \\u043e\\u0447\\u0435\\u043d\\u044c \\u0441\\u043b\\u0430\\u0431\\u0430\\u044f. \\u0427\\u0442\\u043e\\u0431\\u044b \\u0434\\u0435\\u0439\\u0441\\u0442\\u0432\\u0438\\u0442\\u0435\\u043b\\u044c\\u043d\\u043e \\u0445\\u043e\\u0440\\u043e\\u0448\\u043e \\u043f\\u0440\\u043e\\u043f\\u044b\\u043b\\u0435\\u0441\\u043e\\u0441\\u0438\\u0442\\u044c \\u043c\\u0430\\u0448\\u0438\\u043d\\u0443 \\u043f\\u043e\\u0442\\u0440\\u0435\\u0431\\u0443\\u0435\\u0442\\u0441\\u044f \\u0447\\u0430\\u0441\\u043e\\u0432 8. \\u041d\\u0435 \\u0440\\u0435\\u043a\\u043e\\u043c\\u0435\\u043d\\u0434\\u0443\\u044e \\u043f\\u043e\\u043a\\u0443\\u043f\\u0430\\u0442\\u044c \\u0434\\u0430\\u043d\\u043d\\u0443\\u044e \\u043c\\u043e\\u0434\\u0435\\u043b\\u044c, \\u043e\\u0447\\u0435\\u043d\\u044c \\u0440\\u0430\\u0437\\u043e\\u0447\\u0430\\u0440\\u0443\\u0435\\u0442\",\n          \"\\u0414\\u043e\\u043c\\u0430 \\u0440\\u0435\\u0431\\u0435\\u043d\\u043e\\u043a \\u0430\\u043b\\u043b\\u0435\\u0440\\u0433\\u0438\\u043a , \\u0436\\u0438\\u0432\\u0443 \\u0432 \\u043e\\u0434\\u043d\\u0443\\u0448\\u043a\\u0435 . \\u0418\\u0441\\u043a\\u0430\\u043b \\u043d\\u0435\\u0431\\u043e\\u043b\\u044c\\u0448\\u043e\\u0439 \\u043f\\u044b\\u043b\\u0435\\u0441\\u043e\\u0441 \\u0441 \\u0430\\u043a\\u0432\\u0430-\\u0444\\u0438\\u043b\\u044c\\u0442\\u0440\\u043e\\u043c , \\u043c\\u0435\\u043d\\u044c\\u0448\\u0435 \\u0447\\u0435\\u043c \\u043c\\u043d\\u0435 \\u043d\\u0435 \\u0437\\u043d\\u0430\\u043a\\u043e\\u043c\\u044b\\u0439 \\u0410\\u0440\\u0438\\u0435\\u0442\\u0435 \\u043d\\u0435 \\u043d\\u0430\\u0448\\u0435\\u043b ,\\u043f\\u043e\\u043f\\u0440\\u043e\\u0431\\u044b\\u0432\\u0430\\u043b \\u0438 \\u043a\\u0443\\u043f\\u0438\\u043b ! \\u0422\\u0435\\u043f\\u0435\\u0440\\u044c \\u0442\\u0430\\u043a \\u043c\\u043e\\u0433\\u0443 \\u0441\\u043a\\u0430\\u0437\\u0430\\u0442\\u044c- \\u0434\\u0435\\u0448\\u0435\\u0432\\u044b\\u0439 ,\\u043a\\u0430\\u0447\\u0435\\u0441\\u0442\\u0432\\u0435\\u043d\\u043d\\u044b\\u0439 \\u043f\\u044b\\u043b\\u0435\\u0441\\u043e\\u0441 , \\u0437\\u0430\\u043d\\u0438\\u043c\\u0430\\u0435\\u0442 \\u043c\\u0430\\u043b\\u043e \\u043c\\u0435\\u0441\\u0442\\u0430 , \\u0430 \\u0433\\u043b\\u0430\\u0432\\u043d\\u043e\\u0435 \\u043c\\u043e\\u0435\\u0442 \\u0432\\u043e\\u0437\\u0434\\u0443\\u0445 !!!!\",\n          \"\\u041a\\u0441\\u0442\\u0430\\u0442\\u0438 \\u0432 \\u041c-\\u0412\\u0438\\u0434\\u0435\\u043e \\u043e\\u0447\\u0435\\u043d\\u044c \\u0445\\u043e\\u0440\\u043e\\u0448\\u043e \\u043a\\u043e\\u043d\\u0441\\u0443\\u043b\\u044c\\u0442\\u0438\\u0440\\u0443\\u044e\\u0442.  \\u041a\\u0443\\u043f\\u0438\\u043b \\u0442\\u0432 Philips 32 PFL 5604H/12, \\u0432\\u043a\\u043b\\u044e\\u0447\\u0438\\u043b \\u0438 \\u0441\\u0442\\u0430\\u043b\\u043e \\u044f\\u0441\\u043d\\u043e, \\u0447\\u0442\\u043e \\u044d\\u0442\\u043e \\u043d\\u0435 \\u0442\\u043e. \\u0418 \\u0433\\u0440\\u0435\\u0435\\u0442\\u0441\\u044f \\u043a\\u0430\\u043a \\u043f\\u0435\\u0447\\u043a\\u0430 \\u0438 \\u0437\\u0430\\u043f\\u0430\\u0445 \\u0433\\u043e\\u0440\\u0435\\u043b\\u043e\\u0433\\u043e \\u0438\\u0434\\u0435\\u0442, \\u0440\\u044f\\u0434 \\u0437\\u0430\\u044f\\u0432\\u043b\\u0435\\u043d\\u043d\\u044b\\u0445 \\u0444\\u0443\\u043d\\u043a\\u0446\\u0438\\u0439 \\u043e\\u0442\\u0441\\u0443\\u0442\\u0441\\u0442\\u0432\\u0443\\u044e\\u0442. \\u041d\\u043e \\u0430 \\u0432\\u0440\\u0435\\u043c\\u044f- \\u0447\\u0430\\u0441\\u044b \\u0432\\u043e\\u043e\\u0431\\u0449\\u0435 \\u043d\\u0435\\u043b\\u044c\\u0437\\u044f \\u043d\\u0430\\u0441\\u0442\\u0440\\u043e\\u0438\\u0442\\u044c \\u0432 \\u0434\\u043e\\u043a\\u0443\\u043c\\u0435\\u043d\\u0442\\u0430\\u0446\\u0438\\u0438 \\u043d\\u0430 \\u0442\\u0435\\u043b\\u0435\\u0432\\u0438\\u0437\\u043e\\u0440\\u0435 \\u0441\\u043a\\u0430\\u0437\\u0430\\u043d\\u043e \\u043a\\u0430\\u043a \\u043d\\u0430\\u0441\\u0442\\u0440\\u043e\\u0438\\u0442\\u044c, \\u0430 \\u043c\\u0435\\u043d\\u044e \\u044d\\u0442\\u043e\\u0439 \\u0444\\u0443\\u043d\\u043a\\u0446\\u0438\\u0438 \\u043d\\u0435\\u0442 \\u0441\\u043e \\u0432\\u0441\\u0435\\u043c\\u0438 \\u043f\\u043e\\u0441\\u043b\\u0435\\u0434\\u0441\\u0442\\u0432\\u0438\\u044f\\u043c\\u0438. \\u041f\\u043e\\u0442\\u0435\\u0440\\u044f \\u0437\\u0432\\u0443\\u043a\\u0430 \\u043f\\u0440\\u0438 \\u043d\\u0435\\u043a\\u043e\\u0442\\u043e\\u0440\\u044b\\u0445 \\u0444\\u0443\\u043d\\u043a\\u0446\\u0438\\u044f\\u0445. \\u0412\\u044b\\u0448\\u0435 \\u0442\\u043e\\u0432\\u0430\\u0440\\u0438\\u0449\\u0438 \\u0441\\u043a\\u0430\\u0437\\u0430\\u043b\\u0438 , \\u0447\\u0442\\u043e \\u043d\\u0435 \\u0432\\u0441\\u0435 \\u0444\\u0430\\u0439\\u043b\\u044b \\u0441 \\u0444\\u043b\\u0435\\u0448\\u043a\\u0438 \\u0447\\u0438\\u0442\\u0430\\u0435\\u0442 - \\u044d\\u0442\\u043e \\u043f\\u0440\\u0430\\u0432\\u0434\\u0430. \\u0422\\u0435\\u043f\\u0435\\u0440\\u044c \\u043f\\u043e \\u0438\\u0437\\u043e\\u0431\\u0440\\u0430\\u0436\\u0435\\u043d\\u0438\\u044e - \\u0441\\u0440\\u0430\\u0432\\u043d\\u0438\\u043b \\u0441 \\u0438\\u0437\\u043e\\u0431\\u0440\\u0430\\u0436\\u0435\\u043d\\u0438\\u0435\\u043c \\\"\\u0441\\u0430\\u043c\\u0441\\u0443\\u043d\\u0433\\u0430\\\" \\u043f\\u043e\\u043a\\u0430\\u0437\\u044b\\u0432\\u0430\\u0435\\u0442 \\u0445\\u0443\\u0436\\u0435, \\u0438\\u0437\\u043e\\u0431\\u0440\\u0430\\u0436\\u0435\\u043d\\u0438\\u0435 \\u0432\\u0440\\u0435\\u043c\\u0435\\u043d\\u0430\\u043c\\u0438 \\u043c\\u0435\\u0441\\u0442\\u0430\\u043c\\u0438 \\u043b\\u0438\\u0431\\u043e \\u043f\\u043b\\u044b\\u0432\\u0435\\u0442, \\u043b\\u0438\\u0431\\u043e \\u0434\\u0435\\u0440\\u0433\\u0430\\u0435\\u0442\\u0441\\u044f.  \\u041a\\u043e\\u043d\\u0435\\u0447\\u043d\\u043e, \\u0435\\u0441\\u043b\\u0438 \\u0434\\u043e\\u043c\\u0430 \\u043d\\u0435\\u0442 \\u0416\\u041a \\u0442\\u0435\\u043b\\u0435\\u0432\\u0438\\u0437\\u043e\\u0440\\u0430, \\u0442\\u043e \\u0438 \\u044d\\u0442\\u043e\\u0442 \\u0432 \\u0440\\u0430\\u0434\\u043e\\u0441\\u0442\\u044c \\u043c\\u043e\\u0436\\u0435\\u0442 \\u0431\\u044b\\u0442\\u044c, \\u043a\\u043e\\u0433\\u0434\\u0430 \\u044d\\u0442\\u043e 3-\\u0442\\u0438\\u0439 \\u0422\\u0412 \\u0432\\u044b\\u0441\\u043e\\u043a\\u043e\\u0433\\u043e \\u0440\\u0430\\u0437\\u0440\\u0435\\u0448\\u0435\\u043d\\u0438\\u044f, \\u0442\\u043e \\u044f\\u0441\\u043d\\u043e, \\u0447\\u0442\\u043e \\u043c\\u043e\\u0434\\u0435\\u043b\\u044c \\u043f\\u043e \\u043a\\u0430\\u0447\\u0435\\u0441\\u0442\\u0432\\u0443 \\u043d\\u0438\\u0436\\u0435 \\u0437\\u0430\\u044f\\u0432\\u043b\\u0435\\u043d\\u043d\\u043e\\u0439. \\u0410 \\u043a\\u043e\\u0433\\u0434\\u0430 \\u043f\\u0440\\u043e\\u043f\\u0438\\u0441\\u0430\\u043d\\u043d\\u044b\\u0435 \\u0432 \\u0434\\u043e\\u043a\\u0443\\u043c\\u0435\\u043d\\u0442\\u0430\\u0446\\u0438\\u0438 \\u0444\\u0443\\u043d\\u043a\\u0446\\u0438\\u0438 \\u043e\\u0442\\u0441\\u0443\\u0442\\u0441\\u0442\\u0432\\u0443\\u044e\\u0442 \\u0438\\u043b\\u0438 \\u043d\\u0435\\u0432\\u0435\\u0440\\u043d\\u043e \\u0440\\u0435\\u0430\\u043b\\u0438\\u0437\\u043e\\u0432\\u0430\\u043d\\u044b, \\u0442\\u043e \\u0441\\u0442\\u0430\\u043d\\u043e\\u0432\\u0438\\u0442\\u0441\\u044f \\u044f\\u0441\\u043d\\u043e, \\u0412\\u0430\\u0441 \\u043d\\u0435\\u043c\\u043d\\u043e\\u0433\\u043e \\u0432\\u0432\\u0435\\u043b\\u0438 \\u0432 \\u0437\\u0430\\u0431\\u043b\\u0443\\u0436\\u0434\\u0435\\u043d\\u0438\\u0435. \\u0410 \\u0432\\u0435\\u0434\\u044c \\u0444\\u0438\\u0440\\u043c\\u0430 \\u0438\\u0437\\u0432\\u0435\\u0441\\u0442\\u043d\\u0430\\u044f \\u0441\\u0432\\u043e\\u0435\\u0439 \\u043a\\u0430\\u0447\\u0435\\u0441\\u0442\\u0432\\u0435\\u043d\\u043d\\u043e\\u0439 \\u043f\\u0440\\u043e\\u0434\\u0443\\u043a\\u0446\\u0438\\u0435\\u0439. \\u0410 \\u043c\\u043e\\u0436\\u0435\\u0442 \\u043c\\u043d\\u0435 \\u043d\\u0435 \\u043f\\u043e\\u0432\\u0435\\u0437\\u043b\\u043e?   \\u042f \\u0437\\u0430\\u043c\\u0435\\u043d\\u0438\\u043b \\u0422\\u0412 \\u042d\\u041b\\u0422 \\u0424\\u0438\\u043b\\u0438\\u043f\\u0441 \\u043a\\u043e\\u0442\\u043e\\u0440\\u044b\\u0439 \\u0432\\u0435\\u0440\\u043e\\u0439 \\u0438 \\u043f\\u0440\\u0430\\u0432\\u0434\\u043e\\u0439 \\u0441 \\u0445\\u043e\\u0440\\u043e\\u0448\\u0438\\u043c \\u0438\\u0437\\u043e\\u0431\\u0440\\u0430\\u0436\\u0435\\u043d\\u0438\\u0435\\u043c \\u043e\\u0442\\u0441\\u043b\\u0443\\u0436\\u0438\\u043b 12 \\u043b\\u0435\\u0442 \\u0438 \\u0431\\u0443\\u0434\\u0435\\u0442 \\u043d\\u0430 \\u0434\\u0430\\u0447\\u0435 \\u0441\\u043b\\u0443\\u0436\\u0438\\u0442\\u044c \\u043d\\u0435 \\u043d\\u0435 \\u043e\\u0434\\u0438\\u043d \\u0433\\u043e\\u0434.   \\u041e\\u0431\\u0438\\u0434\\u043d\\u043e \\u043f\\u043e\\u043d\\u0438\\u043c\\u0430\\u0435\\u0448\\u044c!    \\u0411\\u0443\\u0434\\u0443 \\u043c\\u0435\\u043d\\u044f\\u0442\\u044c \\u043d\\u0430 \\u0422\\u0412 \\u0416\\u041a-\\u0442\\u0435\\u043b\\u0435\\u0432\\u0438\\u0437\\u043e\\u0440 32\\\"Philips 100\\u0433\\u0435\\u0440\\u0446, \\u043f\\u043e \\u0437\\u0430\\u043c\\u0435\\u043d\\u0435 \\u0434\\u0430\\u043c \\u0438\\u043d\\u0444\\u043e\\u0440\\u043c\\u0430\\u0446\\u0438\\u044e \\u043f\\u043e\\u0437\\u0436\\u0435.\"\n        ],\n        \"semantic_type\": \"\",\n        \"description\": \"\"\n      }\n    },\n    {\n      \"column\": \"tonality\",\n      \"properties\": {\n        \"dtype\": \"number\",\n        \"std\": 0,\n        \"min\": 0,\n        \"max\": 1,\n        \"num_unique_values\": 2,\n        \"samples\": [\n          0,\n          1\n        ],\n        \"semantic_type\": \"\",\n        \"description\": \"\"\n      }\n    }\n  ]\n}"
            }
          },
          "metadata": {},
          "execution_count": 10
        }
      ]
    },
    {
      "cell_type": "markdown",
      "source": [
        "Сырые текстовые данные для улучшения модели требуется подготовить. Напишем функцию, выполняющую:\n",
        "\n",
        "\n",
        "\n",
        "1.  Базовую очистку\n",
        "\n",
        "    1.1.   Приведение к нижнему регистру\n",
        "\n",
        "    1.2.   Удаление URL-адресов, хештегов, упоминаний пользователей\n",
        "\n",
        "    1.3.   Удаление специальных символов и пунктуации\n",
        "\n",
        "    1.4.   Нормализация пробелов\n",
        "\n",
        "\n",
        "2.   Лингвистическая обработка\n",
        "\n",
        "    2.1.   Используем морфологический анализатор `pymorphy3` для:\n",
        "     - Лемматизации (приведение слов к нормальной форме)\n",
        "     - Частичного исправления опечаток\n",
        "    \n",
        "    2.2.   Каждое слово анализируется и приводится к словарной форме\n",
        "\n",
        "\n",
        "\n",
        "\n",
        "\n"
      ],
      "metadata": {
        "id": "P5ylTANyLxmm"
      }
    },
    {
      "cell_type": "code",
      "source": [
        "# Инициализация морфологического анализатора (для лемматизации и частичного исправления опечаток)\n",
        "morph = MorphAnalyzer()\n",
        "\n",
        "def clean_text(text):\n",
        "    if not isinstance(text, str):\n",
        "        return \"\"\n",
        "\n",
        "    text = text.lower() # к нижнему регистру\n",
        "    text = re.sub(r'https?://\\S+|www\\.\\S+', '', text) # Удаление ссылок\n",
        "    text = re.sub(r'#(\\w+)', r'\\1', text) # Удаление хештегов (но оставляет текст)\n",
        "    text = re.sub(r'@\\w+', '', text) # Удаление имен пользователей (@username)\n",
        "    text = re.sub(r'[^a-zа-яё0-9\\s]', ' ', text) # Удаление эмоджи и специальных символов\n",
        "    text = text.translate(str.maketrans('', '', string.punctuation)) # Удаление пунктуации\n",
        "    text = ' '.join(text.split()) # Удаление лишних пробелов\n",
        "\n",
        "    # Лемматизация и частичное исправление опечаток (pymorphy3)\n",
        "    words = text.split()\n",
        "    cleaned_words = []\n",
        "    for word in words:\n",
        "        parsed_word = morph.parse(word)[0]\n",
        "        normalized_word = parsed_word.normal_form\n",
        "        cleaned_words.append(normalized_word)\n",
        "\n",
        "    text = ' '.join(cleaned_words)\n",
        "\n",
        "    return text.strip()"
      ],
      "metadata": {
        "id": "TY7hoTqaLlGO"
      },
      "execution_count": null,
      "outputs": []
    },
    {
      "cell_type": "code",
      "source": [
        "# Применение функции к столбцу comment\n",
        "dataframe_cleaned['comment_cleaned'] = dataframe_cleaned['comment'].apply(clean_text)"
      ],
      "metadata": {
        "id": "nsQ7AHCqNyT3"
      },
      "execution_count": null,
      "outputs": []
    },
    {
      "cell_type": "code",
      "source": [
        "# Проверка работы функции\n",
        "for i in range(5):\n",
        "    print(dataframe_cleaned['comment'][i])\n",
        "    print(dataframe_cleaned['comment_cleaned'][i])\n",
        "    print()"
      ],
      "metadata": {
        "colab": {
          "base_uri": "https://localhost:8080/"
        },
        "id": "QDZZ16-2Nzcn",
        "outputId": "3aeb3dec-db19-45ae-f470-fc236a19aae8"
      },
      "execution_count": null,
      "outputs": [
        {
          "output_type": "stream",
          "name": "stdout",
          "text": [
            "2,5 года работала и все...устала! Лампочка горит и больше ничего!\n",
            "2 5 год работать и всё устать лампочка гореть и большой ничего\n",
            "\n",
            "Через 2 месяца после истечении гарантийного срока машинка навернулась. Насчитали ремонту на 5500р! Причем брал её итальянской сборки!  Сама машинка была нормальная, правда после стирки снова прополаскивал, но это пожалуй про любую так скажешь - плохо выполаскивается порошок, хотя и сыплю/лью по инструкции и не фигню какую...  А мастер авторизованного сервис-центра поведал мне много интересного... Нет смысла переплачивать сегодня за европейскую страну изготовителя, нет смысла приобретать машинки дороже 12-15 тыс., и что сейчас все производители заведомо делают машинки, чтобы те ломались побыстрее ( в среднем раз в 3-4 года!!!) тем самым стимулируя спрос на новые... Единственное, что еще живо в отношении реального КАЧЕСТВА, так это пожалуй немецкое \"Миеле\" (Бош кстати давно в пролете уже, скатился), но и они конечно тоже ломаются даже при стоимости в 100000... Вывод: Берем стиралку недорогую, тыщ за 8-10, и НЕ СИЛЬНО ОГОРЧАЕМСЯ, когда по истечению 3х-летней самсунговской гарантии вдруг придется ее выбрасывать и снова покупать :)\n",
            "через 2 месяц после истечение гарантийный срок машинка навернуться насчитать ремонт на 5500р причём брать её итальянский сборка сам машинка быть нормальный правда после стирка снова прополаскивать но это пожалуй про любой так сказать плохо выполаскиваться порошок хотя и сыпать лить по инструкция и не фигня какой а мастер авторизовать сервис центр поведать я много интересный нет смысл переплачивать сегодня за европейский страна изготовитель нет смысл приобретать машинка дорогой 12 15 тыс и что сейчас всё производитель заведомо делать машинка чтобы тот ломаться быстрый в среднее раз в 3 4 год тем самый стимулировать спрос на новый единственный что ещё живо в отношение реальный качество так это пожалуй немецкий миеле бош кстати давно в пролёт уже скатиться но и они конечно тоже ломаться даже при стоимость в 100000 вывод брать стиралка недорогой тысяча за 8 10 и не сильно огорчаться когда по истечение 3х летний самсунговский гарантия вдруг прийтись она выбрасывать и снова покупать\n",
            "\n",
            "пользуюсь уже три недели. нареканий ни каких не было, только положительные эмоции. но вчера загрузил машинку посудой, засыпал средство и стал закрывать крышечку, а она не закрывается. я её и так и эдак, а она не закрывается. присмотрелся, а крышка деформировалась по не понятным причинам. я её немного подправил, закрылась. после того как помылась посуда, я сразу открыл и обратил внимание на эту крышечку, она была мягкая как пластилин. пользуясь моментом я её сразу выправил. вроде все сейчас нормально, но мне это всё жутко не понравилось. если ещё учесть то, что я ставлю всегда режим 50 градусов, а что если я поставлю режим 70 градусов? всё внутри расплавится и утечёт в канализацию?  а моет, конечно замечательно :-)\n",
            "пользоваться уже три неделя нарекание ни какой не быть только положительный эмоция но вчера загрузить машинка посуда засыпать средство и стать закрывать крышечка а она не закрываться я её и так и эдак а она не закрываться присмотреться а крышка деформироваться по не понятный причина я её немного подправить закрыться после тот как помыться посуда я сразу открыть и обратить внимание на этот крышечка она быть мягкий как пластилин пользоваться момент я её сразу выправить вроде всё сейчас нормально но я это всё жутко не понравиться если ещё учесть то что я ставить всегда режим 50 градус а что если я поставить режим 70 градус всё внутри расплавиться и утечь в канализация а мыть конечно замечательный\n",
            "\n",
            "Ребят этот системный блок подойдёт для игры кс го на средних гастройках\n",
            "ребята этот системный блок подойти для игра кс го на средний гастройка\n",
            "\n",
            "я считаю, что яри замечательный телефон! Приятно держать в руке, удобные кнопки! Конечно, он больше подходит для молодежи, наверное он и был рассчитан на эту публику! В телефоне лично я, не вижу никаких недостатков! Советую брать такой и не задумываться!!!!!!!!\n",
            "я считать что ярь замечательный телефон приятно держать в рука удобный кнопка конечно он большой подходить для молодёжь наверное он и быть рассчитать на этот публика в телефон лично я не видеть никакой недостаток советовать брать такой и не задумываться\n",
            "\n"
          ]
        }
      ]
    },
    {
      "cell_type": "code",
      "source": [
        "plt.figure(figsize=(7, 5))\n",
        "ax = sns.countplot(x='tonality', data=dataframe_cleaned)\n",
        "plt.title('Распределение меток', fontsize=12, pad=20)\n",
        "plt.xlabel('Метка (0: позитивная, 1: негативная)', fontsize=10)\n",
        "plt.ylabel('Количество', fontsize=10)\n",
        "\n",
        "ax.grid(True, linestyle='--', alpha=0.6, which='both', axis='y')\n",
        "\n",
        "# подписи баров\n",
        "for p in ax.patches:\n",
        "    ax.annotate(f'{p.get_height():.0f}',\n",
        "                (p.get_x() + p.get_width() / 2., p.get_height()),\n",
        "                ha='center', va='center',\n",
        "                xytext=(0, 5),\n",
        "                textcoords='offset points')\n",
        "\n",
        "plt.tight_layout()\n",
        "plt.show()"
      ],
      "metadata": {
        "colab": {
          "base_uri": "https://localhost:8080/",
          "height": 506
        },
        "id": "q5CLkrWLQgOT",
        "outputId": "32ae9dfb-9c91-4c44-8acd-2f7d0afbb80d"
      },
      "execution_count": null,
      "outputs": [
        {
          "output_type": "display_data",
          "data": {
            "text/plain": [
              "<Figure size 700x500 with 1 Axes>"
            ],
            "image/png": "[encoded data removed]"
          },
          "metadata": {}
        }
      ]
    },
    {
      "cell_type": "markdown",
      "source": [
        "### Стратегия обработки дисбаланса классов\n",
        "\n",
        "Исходный датасет имеет неравномерное распределение классов.\n",
        "\n",
        "**Решение**:\n",
        "1. Первичное разделение на train/test выборки (сохраняем тестовую выборку нетронутой)\n",
        "2. Балансировка только обучающей части (X_train) методом upsampling:\n",
        "   - Меньший класс искусственно увеличивается через дублирование примеров\n",
        "   - Получаем сбалансированный X_train_balanced\n",
        "\n",
        "**Обоснование выбора upsampling**:\n",
        "- Сохраняет все оригинальные данные (в отличие от downsampling)\n",
        "- Позволяет моделям \"увидеть\" полный спектр примеров минорного класса\n",
        "- Особенно важно для небольших датасетов, где ценен каждый пример\n",
        "- Минимизирует потерю информации при работе с текстовыми данными\n",
        "\n",
        "**Процесс оценки**:\n",
        "1. Классические ML-модели тестируются на:\n",
        "   - Исходном несбалансированном X_train\n",
        "   - Сбалансированном X_train_balanced\n",
        "2. Сравнение метрик для определения оптимального варианта\n",
        "3. Выбранный подход применяется для трансформерной модели"
      ],
      "metadata": {
        "id": "RWh9vOlDPTrM"
      }
    },
    {
      "cell_type": "code",
      "source": [
        "# разбивка\n",
        "\n",
        "X = dataframe_cleaned['comment_cleaned']\n",
        "y = dataframe_cleaned['tonality']\n",
        "\n",
        "X_train, X_test, y_train, y_test = train_test_split(X, y,\n",
        "                                                    test_size=0.2,\n",
        "                                                    random_state=RANDOM_STATE,\n",
        "                                                    stratify=y)"
      ],
      "metadata": {
        "id": "3qDGf9quRFbh"
      },
      "execution_count": null,
      "outputs": []
    },
    {
      "cell_type": "code",
      "source": [
        "print(f'X_train shape: {X_train.shape}')\n",
        "print(f'X_test shape: {X_test.shape}')\n",
        "print(f'y_train shape: {y_train.shape}')\n",
        "print(f'y_test shape: {y_test.shape}')"
      ],
      "metadata": {
        "colab": {
          "base_uri": "https://localhost:8080/"
        },
        "id": "PRZbWVDZRXRZ",
        "outputId": "340cadf3-ed7f-4370-adae-f8c27f673781"
      },
      "execution_count": null,
      "outputs": [
        {
          "output_type": "stream",
          "name": "stdout",
          "text": [
            "X_train shape: (11381,)\n",
            "X_test shape: (2846,)\n",
            "y_train shape: (11381,)\n",
            "y_test shape: (2846,)\n"
          ]
        }
      ]
    },
    {
      "cell_type": "code",
      "source": [
        "train_data = pd.DataFrame({\n",
        "    'text': X_train,\n",
        "    'label': y_train\n",
        "})\n",
        "\n",
        "train_majority = train_data[train_data['label'] == 0]\n",
        "train_minority = train_data[train_data['label'] == 1]\n",
        "\n",
        "# используем sklearn.utils.resample\n",
        "train_minority_upsampled = resample(\n",
        "    train_minority,\n",
        "    replace=True,\n",
        "    n_samples=len(train_majority),  # размер majority-класса\n",
        "    random_state=RANDOM_STATE\n",
        ")\n",
        "\n",
        "train_upsampled = pd.concat([train_majority, train_minority_upsampled])\n",
        "\n",
        "X_train_balanced = train_upsampled['text']\n",
        "y_train_balanced = train_upsampled['label']"
      ],
      "metadata": {
        "id": "8dkYgAB6Rk5X"
      },
      "execution_count": null,
      "outputs": []
    },
    {
      "cell_type": "code",
      "source": [
        "# Проверяем баланс\n",
        "print(\"Распределение классов после upsampling:\")\n",
        "print(y_train_balanced.value_counts())\n",
        "print()\n",
        "\n",
        "print(f'X_train_balanced shape: {X_train_balanced.shape}')\n",
        "print(f'y_train_balanced shape: {y_train_balanced.shape}')"
      ],
      "metadata": {
        "colab": {
          "base_uri": "https://localhost:8080/"
        },
        "id": "CjAiSP_aSikb",
        "outputId": "c4d38522-7668-424f-c662-7b44da4a23f6"
      },
      "execution_count": null,
      "outputs": [
        {
          "output_type": "stream",
          "name": "stdout",
          "text": [
            "Распределение классов после upsampling:\n",
            "label\n",
            "0    9540\n",
            "1    9540\n",
            "Name: count, dtype: int64\n",
            "\n",
            "X_train_balanced shape: (19080,)\n",
            "y_train_balanced shape: (19080,)\n"
          ]
        }
      ]
    },
    {
      "cell_type": "markdown",
      "source": [
        "## Классические ML-модели"
      ],
      "metadata": {
        "id": "I7C3BTjPTkky"
      }
    },
    {
      "cell_type": "markdown",
      "source": [
        "Для перевода текста в векторы применим TF-IDF"
      ],
      "metadata": {
        "id": "rtjHuDHzUSIm"
      }
    },
    {
      "cell_type": "code",
      "source": [
        "# векторизация TF-IDF\n",
        "tfidf_vectorizer = TfidfVectorizer(\n",
        "    max_features=6000\n",
        ")"
      ],
      "metadata": {
        "id": "urrSFSy0T_Cu"
      },
      "execution_count": null,
      "outputs": []
    },
    {
      "cell_type": "code",
      "source": [
        "X_train_tfidf = tfidf_vectorizer.fit_transform(X_train)\n",
        "X_test_tfidf = tfidf_vectorizer.transform(X_test)"
      ],
      "metadata": {
        "id": "JyrN-SJxUdYs"
      },
      "execution_count": null,
      "outputs": []
    },
    {
      "cell_type": "code",
      "source": [
        "X_train_balanced_tfidf = tfidf_vectorizer.fit_transform(X_train_balanced)\n",
        "X_test_balanced_tfidf = tfidf_vectorizer.transform(X_test)"
      ],
      "metadata": {
        "id": "_upeOse4WgiA"
      },
      "execution_count": null,
      "outputs": []
    },
    {
      "cell_type": "markdown",
      "source": [
        "### SVM"
      ],
      "metadata": {
        "id": "DANmQGsWbA7T"
      }
    },
    {
      "cell_type": "code",
      "source": [
        "# инициализация и обучение классификатора\n",
        "svm_classifier = SVC(kernel='linear', random_state=RANDOM_STATE)\n",
        "svm_classifier.fit(X_train_tfidf, y_train)\n",
        "\n",
        "# сделаем предсказание на тестовой выборке\n",
        "y_pred = svm_classifier.predict(X_test_tfidf)\n",
        "\n",
        "# получим оценку модели\n",
        "print(\"Accuracy:\", accuracy_score(y_test, y_pred))\n",
        "print(classification_report(y_test, y_pred))\n",
        "\n",
        "# получим матрицу ошибок\n",
        "cm_svm = confusion_matrix(y_test, y_pred)"
      ],
      "metadata": {
        "colab": {
          "base_uri": "https://localhost:8080/"
        },
        "id": "dCvVt5SHWCBx",
        "outputId": "0d7241cb-44f4-42f2-ef0c-d4f66c7277b8"
      },
      "execution_count": null,
      "outputs": [
        {
          "output_type": "stream",
          "name": "stdout",
          "text": [
            "Accuracy: 0.9019676739283204\n",
            "              precision    recall  f1-score   support\n",
            "\n",
            "           0       0.92      0.97      0.94      2386\n",
            "           1       0.78      0.55      0.64       460\n",
            "\n",
            "    accuracy                           0.90      2846\n",
            "   macro avg       0.85      0.76      0.79      2846\n",
            "weighted avg       0.90      0.90      0.89      2846\n",
            "\n"
          ]
        }
      ]
    },
    {
      "cell_type": "code",
      "source": [
        "plot_confusion_matrix(cm_svm, model_name='SVM')"
      ],
      "metadata": {
        "colab": {
          "base_uri": "https://localhost:8080/",
          "height": 473
        },
        "id": "rQJCJ1iMW_jt",
        "outputId": "d783681d-3f6c-4f82-a6d6-11e2c6c0efd3"
      },
      "execution_count": null,
      "outputs": [
        {
          "output_type": "display_data",
          "data": {
            "text/plain": [
              "<Figure size 600x450 with 2 Axes>"
            ],
            "image/png": "[encoded data removed]"
          },
          "metadata": {}
        }
      ]
    },
    {
      "cell_type": "markdown",
      "source": [
        "### LogisticRegression"
      ],
      "metadata": {
        "id": "vYsLrPtdbQ1E"
      }
    },
    {
      "cell_type": "code",
      "source": [
        "lr_classifier = LogisticRegression(random_state=RANDOM_STATE)\n",
        "lr_classifier.fit(X_train_tfidf, y_train)\n",
        "\n",
        "y_pred_lr = lr_classifier.predict(X_test_tfidf)\n",
        "\n",
        "print(\"Accuracy:\", accuracy_score(y_test, y_pred_lr))\n",
        "print(classification_report(y_test, y_pred_lr))\n",
        "\n",
        "cm_lr = confusion_matrix(y_test, y_pred_lr)"
      ],
      "metadata": {
        "colab": {
          "base_uri": "https://localhost:8080/"
        },
        "id": "sjH7P1YTbWbW",
        "outputId": "9febd9d6-6627-4a70-e6e8-02f2bcf1a24f"
      },
      "execution_count": null,
      "outputs": [
        {
          "output_type": "stream",
          "name": "stdout",
          "text": [
            "Accuracy: 0.8879128601546029\n",
            "              precision    recall  f1-score   support\n",
            "\n",
            "           0       0.89      0.98      0.94      2386\n",
            "           1       0.82      0.40      0.53       460\n",
            "\n",
            "    accuracy                           0.89      2846\n",
            "   macro avg       0.86      0.69      0.73      2846\n",
            "weighted avg       0.88      0.89      0.87      2846\n",
            "\n"
          ]
        }
      ]
    },
    {
      "cell_type": "code",
      "source": [
        "plot_confusion_matrix(cm_lr, model_name='LogisticRegression')"
      ],
      "metadata": {
        "colab": {
          "base_uri": "https://localhost:8080/",
          "height": 473
        },
        "id": "DbLE11mqb6Bu",
        "outputId": "d496f034-04c8-434e-a456-e7c612a5e9be"
      },
      "execution_count": null,
      "outputs": [
        {
          "output_type": "display_data",
          "data": {
            "text/plain": [
              "<Figure size 600x450 with 2 Axes>"
            ],
            "image/png": "[encoded data removed]"
          },
          "metadata": {}
        }
      ]
    },
    {
      "cell_type": "markdown",
      "source": [
        "### XGBoost classifier"
      ],
      "metadata": {
        "id": "Ud6rngcfcM6m"
      }
    },
    {
      "cell_type": "code",
      "source": [
        "xgb_classifier = xgb.XGBClassifier(random_state=RANDOM_STATE)\n",
        "xgb_classifier.fit(X_train_tfidf, y_train)\n",
        "\n",
        "y_pred_xgb = xgb_classifier.predict(X_test_tfidf)\n",
        "\n",
        "print(\"Accuracy:\", accuracy_score(y_test, y_pred_xgb))\n",
        "print(classification_report(y_test, y_pred_xgb))\n",
        "\n",
        "cm_xgb = confusion_matrix(y_test, y_pred_xgb)"
      ],
      "metadata": {
        "colab": {
          "base_uri": "https://localhost:8080/"
        },
        "id": "qB9lTPs1cML2",
        "outputId": "4951896b-a5c8-417c-d562-1c3e7cdea6b2"
      },
      "execution_count": null,
      "outputs": [
        {
          "output_type": "stream",
          "name": "stdout",
          "text": [
            "Accuracy: 0.8886156008432888\n",
            "              precision    recall  f1-score   support\n",
            "\n",
            "           0       0.90      0.97      0.94      2386\n",
            "           1       0.75      0.47      0.58       460\n",
            "\n",
            "    accuracy                           0.89      2846\n",
            "   macro avg       0.83      0.72      0.76      2846\n",
            "weighted avg       0.88      0.89      0.88      2846\n",
            "\n"
          ]
        }
      ]
    },
    {
      "cell_type": "code",
      "source": [
        "plot_confusion_matrix(cm_xgb, model_name='XGBClassifier')"
      ],
      "metadata": {
        "colab": {
          "base_uri": "https://localhost:8080/",
          "height": 473
        },
        "id": "_3fQLZ1Lcfnn",
        "outputId": "2e4195b7-c2f3-42d4-a093-64c80b3bec84"
      },
      "execution_count": null,
      "outputs": [
        {
          "output_type": "display_data",
          "data": {
            "text/plain": [
              "<Figure size 600x450 with 2 Axes>"
            ],
            "image/png": "[encoded data removed]"
          },
          "metadata": {}
        }
      ]
    },
    {
      "cell_type": "markdown",
      "source": [
        "### SVM classifier (для upsampling выборки)"
      ],
      "metadata": {
        "id": "cHbfEBG7cqHN"
      }
    },
    {
      "cell_type": "code",
      "source": [
        "svm_classifier = SVC(kernel='linear', random_state=RANDOM_STATE)\n",
        "svm_classifier.fit(X_train_balanced_tfidf, y_train_balanced)\n",
        "\n",
        "y_pred = svm_classifier.predict(X_test_balanced_tfidf)\n",
        "\n",
        "print(\"Accuracy:\", accuracy_score(y_test, y_pred))\n",
        "print(classification_report(y_test, y_pred))\n",
        "\n",
        "cm_svm = confusion_matrix(y_test, y_pred)"
      ],
      "metadata": {
        "colab": {
          "base_uri": "https://localhost:8080/"
        },
        "id": "KCnZ3o6rcwwg",
        "outputId": "6250c0ed-2de0-42e0-a7c1-e6844dd4974d"
      },
      "execution_count": null,
      "outputs": [
        {
          "output_type": "stream",
          "name": "stdout",
          "text": [
            "Accuracy: 0.8770203794799719\n",
            "              precision    recall  f1-score   support\n",
            "\n",
            "           0       0.95      0.90      0.92      2386\n",
            "           1       0.60      0.74      0.66       460\n",
            "\n",
            "    accuracy                           0.88      2846\n",
            "   macro avg       0.77      0.82      0.79      2846\n",
            "weighted avg       0.89      0.88      0.88      2846\n",
            "\n"
          ]
        }
      ]
    },
    {
      "cell_type": "code",
      "source": [
        "plot_confusion_matrix(cm_svm, model_name='SVM (after upsampling)')"
      ],
      "metadata": {
        "colab": {
          "base_uri": "https://localhost:8080/",
          "height": 473
        },
        "id": "wPSX1KwYevqq",
        "outputId": "aca602f7-3982-40d3-ea89-43f56ea327fc"
      },
      "execution_count": null,
      "outputs": [
        {
          "output_type": "display_data",
          "data": {
            "text/plain": [
              "<Figure size 600x450 with 2 Axes>"
            ],
            "image/png": "[encoded data removed]"
          },
          "metadata": {}
        }
      ]
    },
    {
      "cell_type": "markdown",
      "source": [
        "### LogisticRegression (upsampling)"
      ],
      "metadata": {
        "id": "Sf2hV2OPfndr"
      }
    },
    {
      "cell_type": "code",
      "source": [
        "lr_classifier = LogisticRegression(random_state=RANDOM_STATE)\n",
        "lr_classifier.fit(X_train_balanced_tfidf, y_train_balanced)\n",
        "\n",
        "y_pred_lr = lr_classifier.predict(X_test_balanced_tfidf)\n",
        "\n",
        "print(\"Accuracy:\", accuracy_score(y_test, y_pred_lr))\n",
        "print(classification_report(y_test, y_pred_lr))\n",
        "\n",
        "cm_lr = confusion_matrix(y_test, y_pred_lr)"
      ],
      "metadata": {
        "colab": {
          "base_uri": "https://localhost:8080/"
        },
        "id": "zftD7bDSfvSn",
        "outputId": "e40a0af0-6831-4157-c1c0-cfa7080c857a"
      },
      "execution_count": null,
      "outputs": [
        {
          "output_type": "stream",
          "name": "stdout",
          "text": [
            "Accuracy: 0.876317638791286\n",
            "              precision    recall  f1-score   support\n",
            "\n",
            "           0       0.96      0.89      0.92      2386\n",
            "           1       0.59      0.78      0.67       460\n",
            "\n",
            "    accuracy                           0.88      2846\n",
            "   macro avg       0.77      0.84      0.80      2846\n",
            "weighted avg       0.90      0.88      0.88      2846\n",
            "\n"
          ]
        }
      ]
    },
    {
      "cell_type": "code",
      "source": [
        "plot_confusion_matrix(cm_lr, model_name='LogisticRegression (upsampling)')"
      ],
      "metadata": {
        "colab": {
          "base_uri": "https://localhost:8080/",
          "height": 473
        },
        "id": "LaIcZvZrgCyo",
        "outputId": "4fa7c20c-5a67-4754-d9a3-4c99edc42223"
      },
      "execution_count": null,
      "outputs": [
        {
          "output_type": "display_data",
          "data": {
            "text/plain": [
              "<Figure size 600x450 with 2 Axes>"
            ],
            "image/png": "[encoded data removed]"
          },
          "metadata": {}
        }
      ]
    },
    {
      "cell_type": "markdown",
      "source": [
        "### XGBoost classifier (upsampling)"
      ],
      "metadata": {
        "id": "_9fzb4QRgTeI"
      }
    },
    {
      "cell_type": "code",
      "source": [
        "import time"
      ],
      "metadata": {
        "id": "3HHeE1LzimbN"
      },
      "execution_count": null,
      "outputs": []
    },
    {
      "cell_type": "code",
      "source": [
        "xgb_classifier = xgb.XGBClassifier(random_state=RANDOM_STATE)\n",
        "xgb_classifier.fit(X_train_balanced_tfidf, y_train_balanced)\n",
        "\n",
        "start_time = time.time()\n",
        "y_pred_xgb = xgb_classifier.predict(X_test_balanced_tfidf)\n",
        "end_time = time.time()\n",
        "inference_time = (end_time - start_time) / 2846\n",
        "\n",
        "print(\"Accuracy:\", accuracy_score(y_test, y_pred_xgb))\n",
        "print(\"inference_time: {:.8f}\".format(inference_time))\n",
        "print(classification_report(y_test, y_pred_xgb))\n",
        "\n",
        "cm_xgb = confusion_matrix(y_test, y_pred_xgb)"
      ],
      "metadata": {
        "colab": {
          "base_uri": "https://localhost:8080/"
        },
        "id": "0JwTgvmHgRQu",
        "outputId": "acf3ad25-c92a-41ab-dadb-d97668fa8052"
      },
      "execution_count": null,
      "outputs": [
        {
          "output_type": "stream",
          "name": "stdout",
          "text": [
            "Accuracy: 0.8661278988053408\n",
            "inference_time: 0.00000462\n",
            "              precision    recall  f1-score   support\n",
            "\n",
            "           0       0.94      0.89      0.92      2386\n",
            "           1       0.57      0.72      0.64       460\n",
            "\n",
            "    accuracy                           0.87      2846\n",
            "   macro avg       0.76      0.81      0.78      2846\n",
            "weighted avg       0.88      0.87      0.87      2846\n",
            "\n"
          ]
        }
      ]
    },
    {
      "cell_type": "code",
      "source": [
        "plot_confusion_matrix(cm_xgb, model_name='XGBClassifier (upsampling)')"
      ],
      "metadata": {
        "colab": {
          "base_uri": "https://localhost:8080/",
          "height": 473
        },
        "id": "qtgXfAYfgiB1",
        "outputId": "00074d73-5c4f-4f7d-d5fe-d7a853c9b171"
      },
      "execution_count": null,
      "outputs": [
        {
          "output_type": "display_data",
          "data": {
            "text/plain": [
              "<Figure size 600x450 with 2 Axes>"
            ],
            "image/png": "[encoded data removed]"
          },
          "metadata": {}
        }
      ]
    },
    {
      "cell_type": "markdown",
      "source": [
        "### Сравнение метрик"
      ],
      "metadata": {
        "id": "yg1-xdYlkwWK"
      }
    },
    {
      "cell_type": "markdown",
      "source": [
        "Для задачи классификации тональности текстов с дисбалансом классов (где негативные оценки представляют особый интерес) была выбрана **F1-мера** как основная метрика оценки по следующим причинам:\n",
        "\n",
        "1.   В задаче критически важно корректно определять негативные оценки (класс 1)\n",
        "   - F1-мера учитывает и precision (точность), и recall (полноту) для целевого класса\n",
        "2.   Устойчивость к дисбалансу:\n",
        "   - В отличие от accuracy, не зависит от соотношения классов\n",
        "   - Особенно важна при upsampling минорного класса\n",
        "\n"
      ],
      "metadata": {
        "id": "UaJetLEJkzIe"
      }
    },
    {
      "cell_type": "markdown",
      "source": [
        "На основе выбранной метрики лучшим алгоритмом выбран SVM (метод опорных векторов), обученный на выборке с применением upsampling - метода."
      ],
      "metadata": {
        "id": "frIjUwp3mqQi"
      }
    },
    {
      "cell_type": "markdown",
      "source": [
        "## Трансформер DistilBERT"
      ],
      "metadata": {
        "id": "xoY5NXtwkYaH"
      }
    },
    {
      "cell_type": "markdown",
      "source": [
        "### Подготовка данных"
      ],
      "metadata": {
        "id": "7Un68vo5olYq"
      }
    },
    {
      "cell_type": "code",
      "source": [
        "train_df = pd.DataFrame({'text': X_train_balanced, 'label': y_train_balanced})\n",
        "test_df = pd.DataFrame({'text': X_test, 'label': y_test})"
      ],
      "metadata": {
        "id": "tiPAfzT1mg0X"
      },
      "execution_count": null,
      "outputs": []
    },
    {
      "cell_type": "code",
      "source": [
        "train_df.to_csv('train.csv', index=False)\n",
        "test_df.to_csv('test.csv', index=False)"
      ],
      "metadata": {
        "id": "BzauELr9nL6K"
      },
      "execution_count": null,
      "outputs": []
    },
    {
      "cell_type": "code",
      "source": [
        "# Загрузка токенизатора\n",
        "tokenizer = DistilBertTokenizer.from_pretrained('distilbert-base-multilingual-cased')\n",
        "\n",
        "# Токенизация данных\n",
        "def tokenize_function(examples):\n",
        "    return tokenizer(examples['text'], padding='max_length', truncation=True, max_length=128)\n",
        "\n",
        "# Преобразуем DataFrame в Dataset (совместимый с Hugging Face)\n",
        "from datasets import Dataset\n",
        "train_dataset = Dataset.from_pandas(train_df).map(tokenize_function, batched=True)\n",
        "test_dataset = Dataset.from_pandas(test_df).map(tokenize_function, batched=True)"
      ],
      "metadata": {
        "colab": {
          "base_uri": "https://localhost:8080/",
          "height": 209,
          "referenced_widgets": [
            "8377564800584554ab1e4632dfa03bfd",
            "4f308281e09e4c579f3434045b67c87b",
            "e61313ef5d2b4cc68f88f4b026b6a578",
            "a2328ad042094cb29cecf1e013ac7c80",
            "26ea3e73366947ae8d2181c31c75db50",
            "697625023a48419e8c73fa3e0d429ddf",
            "59ceb0e24d9d4693a75aae243ccf3e3a",
            "7d6eeb264f814fce9263df1c5785520a",
            "100c8ae3667e4c8c88b6beb353e970ba",
            "0e48f91702e54c83ac73343c71da2d0b",
            "37158100004946d9bdf130d04397a6d9",
            "dcfd65cb3aa74650b3609a5d7132c398",
            "924aa72ae8f548689fd99f5fca279ee7",
            "4451e117175a459da4f71671a9165d66",
            "d3204d03c59f4eab96da750323698878",
            "148529bec20c4cd094db735c247a5222",
            "d3a4c7a67ca84002be63f64aba3e68ca",
            "81b5a838b7764f5c9e0f00e307900d42",
            "e9da2d12c8a54b9aa440c9f88213d258",
            "a2b704b2c69f44d28bae3648ef473198",
            "0a931ab04acf40939b1b15c389d3466d",
            "4c37ca98bc5448b69cce52d4a9f75052",
            "99e104423f964070aa7d74f706736294",
            "60ca4b9a957045baab09142de50c29ac",
            "c1593880645641d6afa5e330ad868176",
            "a327f7476d544b8ca1e9e7a94cc15799",
            "2eb49bc4ece745478aa848116ebbafb1",
            "9928f459e08a4b5e9520b9adfbe54bf2",
            "f13ebc5b87e44f52b857b7b40fec2ecb",
            "0f6eca60c353450a8b3d9d2304bbd9ee",
            "cbf0a137c38f40cebe47e9bd6de8a5d2",
            "e4856714f80b408dbea80682c1e1c63d",
            "b97268fbe1364dae8950fb21b5032fad",
            "2cfbb209b95847689a255efc5e7f1a6d",
            "c24db25deb914a02a6cf1efcf93959b3",
            "8c20f62fbef843e3a4b958509b081808",
            "28e2f0ed2f1c4782a9653157938cb37e",
            "805c0370f5f441748a43d1d495f8efea",
            "5e01f3e58acd40a992eabb5bf00de62c",
            "bc96a4e8954f4bbbb24529bc3267f4af",
            "5bf8b07c61be4c89890d0ef98f0a0135",
            "387092530cb94256892acb1a47d31a6b",
            "e63ab63f9d954388a074f225ee172a07",
            "84b7b686145047af9f7ba5a62e05f866",
            "d03fb66a21834e8f8ca8fd6f3ae3ada4",
            "b53f8e5946bd449899b8e7a845b5b23f",
            "a2aee0f8bc9b4a2c9616da39aa4e9e92",
            "d46d97d1acbb42c8bae077da57c6cbdd",
            "42948d8754e64ed7bc318c205f89a965",
            "fe98f107b6c943bca34217afa5225bc4",
            "ee0cf9d5fd0848ff92bbacefb0ceab6b",
            "d78bb0525c91455999f215bbf572a2a8",
            "4ac1db6965ec48b6b88288626d38d2de",
            "eccaf935c98546f49a50c04b95b691c4",
            "2cf9ca25cf5546438df47edbab49bf81",
            "f7da24be0889459cbdfc66d9565d127d",
            "65a0383002aa46acae62f3a27fa39071",
            "1595b2f4922548748c5fd1060fb83b29",
            "ac6fe15638bc423a93a0dc7fd56d8d88",
            "a32acf333610470281947f0d806f373e",
            "41488f2179384c158eeb7c02710b83f4",
            "d8854abfa7f8479e8dfcd0397aefbb73",
            "f54896c67ba548f1a50e27653326a7fb",
            "065030b7f12243a28c6fc12b415e5328",
            "9fec649cfccb4440942f1809d50469cd",
            "982be73bb8a54246aa2a3afa60849464"
          ]
        },
        "id": "MC6d-dRUnWHQ",
        "outputId": "3a6b1e58-2a37-4d29-85ab-1f707436ade0"
      },
      "execution_count": null,
      "outputs": [
        {
          "output_type": "display_data",
          "data": {
            "text/plain": [
              "tokenizer_config.json:   0%|          | 0.00/49.0 [00:00<?, ?B/s]"
            ],
            "application/vnd.jupyter.widget-view+json": {
              "version_major": 2,
              "version_minor": 0,
              "model_id": "8377564800584554ab1e4632dfa03bfd"
            }
          },
          "metadata": {}
        },
        {
          "output_type": "display_data",
          "data": {
            "text/plain": [
              "vocab.txt:   0%|          | 0.00/996k [00:00<?, ?B/s]"
            ],
            "application/vnd.jupyter.widget-view+json": {
              "version_major": 2,
              "version_minor": 0,
              "model_id": "dcfd65cb3aa74650b3609a5d7132c398"
            }
          },
          "metadata": {}
        },
        {
          "output_type": "display_data",
          "data": {
            "text/plain": [
              "tokenizer.json:   0%|          | 0.00/1.96M [00:00<?, ?B/s]"
            ],
            "application/vnd.jupyter.widget-view+json": {
              "version_major": 2,
              "version_minor": 0,
              "model_id": "99e104423f964070aa7d74f706736294"
            }
          },
          "metadata": {}
        },
        {
          "output_type": "display_data",
          "data": {
            "text/plain": [
              "config.json:   0%|          | 0.00/466 [00:00<?, ?B/s]"
            ],
            "application/vnd.jupyter.widget-view+json": {
              "version_major": 2,
              "version_minor": 0,
              "model_id": "2cfbb209b95847689a255efc5e7f1a6d"
            }
          },
          "metadata": {}
        },
        {
          "output_type": "display_data",
          "data": {
            "text/plain": [
              "Map:   0%|          | 0/19080 [00:00<?, ? examples/s]"
            ],
            "application/vnd.jupyter.widget-view+json": {
              "version_major": 2,
              "version_minor": 0,
              "model_id": "d03fb66a21834e8f8ca8fd6f3ae3ada4"
            }
          },
          "metadata": {}
        },
        {
          "output_type": "display_data",
          "data": {
            "text/plain": [
              "Map:   0%|          | 0/2846 [00:00<?, ? examples/s]"
            ],
            "application/vnd.jupyter.widget-view+json": {
              "version_major": 2,
              "version_minor": 0,
              "model_id": "f7da24be0889459cbdfc66d9565d127d"
            }
          },
          "metadata": {}
        }
      ]
    },
    {
      "cell_type": "markdown",
      "source": [
        "### Подбор гиперпараметров"
      ],
      "metadata": {
        "id": "5H6VZOVhoqgd"
      }
    },
    {
      "cell_type": "code",
      "source": [
        "model = DistilBertForSequenceClassification.from_pretrained(\n",
        "    'distilbert-base-multilingual-cased',\n",
        "    num_labels=2  # 2 класса: 0 (позитив) и 1 (негатив)\n",
        ")"
      ],
      "metadata": {
        "colab": {
          "base_uri": "https://localhost:8080/",
          "height": 104,
          "referenced_widgets": [
            "aaef55feeffa4efeb1e8413071c29d12",
            "2751ce664e7f40d0ab0534a9b6c2adb7",
            "13db40a9033b48c8aa5dff7ad1793f42",
            "45abb493c26f429292c68b2d99b7ce0f",
            "2f1a9be6052a4df0afbd0bd9748922c6",
            "1dd89f2365cf4cddaaa812da1b35e69a",
            "906cd452a2524a05a050b1b64a21bee5",
            "4c4519e430b4446e975694863240431b",
            "f991ebca9eb241be904083f7229fa2fe",
            "06c00486339046daa76700ca34b367c9",
            "9f8eaa6dad7f49ccb4736bedab58b131"
          ]
        },
        "id": "ryuARwjOnbaY",
        "outputId": "02d75c72-2294-4dcd-cd77-538b2616e2d4"
      },
      "execution_count": null,
      "outputs": [
        {
          "output_type": "display_data",
          "data": {
            "text/plain": [
              "model.safetensors:   0%|          | 0.00/542M [00:00<?, ?B/s]"
            ],
            "application/vnd.jupyter.widget-view+json": {
              "version_major": 2,
              "version_minor": 0,
              "model_id": "aaef55feeffa4efeb1e8413071c29d12"
            }
          },
          "metadata": {}
        },
        {
          "output_type": "stream",
          "name": "stderr",
          "text": [
            "Some weights of DistilBertForSequenceClassification were not initialized from the model checkpoint at distilbert-base-multilingual-cased and are newly initialized: ['classifier.bias', 'classifier.weight', 'pre_classifier.bias', 'pre_classifier.weight']\n",
            "You should probably TRAIN this model on a down-stream task to be able to use it for predictions and inference.\n"
          ]
        }
      ]
    },
    {
      "cell_type": "code",
      "source": [
        "NUM_EPOCHS = 10\n",
        "BATCH_SIZE = 256\n",
        "\n",
        "# Параметры обучения\n",
        "training_args = TrainingArguments(\n",
        "    output_dir='./results',\n",
        "    num_train_epochs=NUM_EPOCHS,\n",
        "    per_device_train_batch_size=BATCH_SIZE,\n",
        "    per_device_eval_batch_size=BATCH_SIZE,\n",
        "    warmup_steps=500,\n",
        "    weight_decay=0.01,\n",
        "    logging_dir='./logs',\n",
        "    evaluation_strategy='epoch',\n",
        "    save_strategy='epoch',\n",
        "    load_best_model_at_end=True,\n",
        "    metric_for_best_model='eval_f1_class1', # улучшаем по метрике минорного класса\n",
        ")\n",
        "\n",
        "# Метрики для оценки\n",
        "def compute_metrics(pred):\n",
        "    labels = pred.label_ids\n",
        "    preds = pred.predictions.argmax(-1)\n",
        "\n",
        "    # f1, acc для всех классов\n",
        "    f1 = f1_score(labels, preds, average='weighted')\n",
        "    acc = accuracy_score(labels, preds)\n",
        "\n",
        "    # f1, precision, recall для класса 1 (негативные отзывы)\n",
        "    f1_class1 = f1_score(labels, preds, pos_label=1, average='binary')\n",
        "    precision_class1 = precision_score(labels, preds, pos_label=1, average='binary')\n",
        "    recall_class1 = recall_score(labels, preds, pos_label=1, average='binary')\n",
        "\n",
        "    return {\n",
        "        'eval_accuracy': acc,\n",
        "        'eval_f1_weighted': f1,\n",
        "        'eval_f1_class1': f1_class1,\n",
        "        'eval_precision_class1': precision_class1,\n",
        "        'eval_recall_class1': recall_class1\n",
        "        }\n",
        "\n",
        "\n",
        "trainer = Trainer(\n",
        "    model=model,\n",
        "    args=training_args,\n",
        "    train_dataset=train_dataset,\n",
        "    eval_dataset=test_dataset,\n",
        "    compute_metrics=compute_metrics\n",
        ")"
      ],
      "metadata": {
        "id": "5rTKzakEnme-",
        "colab": {
          "base_uri": "https://localhost:8080/"
        },
        "outputId": "602cd36f-f0d1-44bd-a7dd-30bef409011e"
      },
      "execution_count": null,
      "outputs": [
        {
          "output_type": "stream",
          "name": "stderr",
          "text": [
            "Using the `WANDB_DISABLED` environment variable is deprecated and will be removed in v5. Use the --report_to flag to control the integrations used for logging result (for instance --report_to none).\n"
          ]
        }
      ]
    },
    {
      "cell_type": "markdown",
      "source": [
        "### Обучение"
      ],
      "metadata": {
        "id": "gnMMx70Uoxbg"
      }
    },
    {
      "cell_type": "code",
      "source": [
        "trainer.train()"
      ],
      "metadata": {
        "id": "tpxUBk1An5oF",
        "colab": {
          "base_uri": "https://localhost:8080/",
          "height": 424
        },
        "outputId": "b7902912-c3c3-4059-d17a-c70ab0670767"
      },
      "execution_count": null,
      "outputs": [
        {
          "output_type": "display_data",
          "data": {
            "text/plain": [
              "<IPython.core.display.HTML object>"
            ],
            "text/html": [
              "\n",
              "    <div>\n",
              "      \n",
              "      <progress value='750' max='750' style='width:300px; height:20px; vertical-align: middle;'></progress>\n",
              "      [750/750 35:39, Epoch 10/10]\n",
              "    </div>\n",
              "    <table border=\"1\" class=\"dataframe\">\n",
              "  <thead>\n",
              " <tr style=\"text-align: left;\">\n",
              "      <th>Epoch</th>\n",
              "      <th>Training Loss</th>\n",
              "      <th>Validation Loss</th>\n",
              "      <th>Accuracy</th>\n",
              "      <th>F1 Weighted</th>\n",
              "      <th>F1 Class1</th>\n",
              "      <th>Precision Class1</th>\n",
              "      <th>Recall Class1</th>\n",
              "    </tr>\n",
              "  </thead>\n",
              "  <tbody>\n",
              "    <tr>\n",
              "      <td>1</td>\n",
              "      <td>No log</td>\n",
              "      <td>0.654836</td>\n",
              "      <td>0.589248</td>\n",
              "      <td>0.641642</td>\n",
              "      <td>0.393358</td>\n",
              "      <td>0.258350</td>\n",
              "      <td>0.823913</td>\n",
              "    </tr>\n",
              "    <tr>\n",
              "      <td>2</td>\n",
              "      <td>No log</td>\n",
              "      <td>0.427694</td>\n",
              "      <td>0.811314</td>\n",
              "      <td>0.831192</td>\n",
              "      <td>0.592255</td>\n",
              "      <td>0.455076</td>\n",
              "      <td>0.847826</td>\n",
              "    </tr>\n",
              "    <tr>\n",
              "      <td>3</td>\n",
              "      <td>No log</td>\n",
              "      <td>0.292002</td>\n",
              "      <td>0.884399</td>\n",
              "      <td>0.887915</td>\n",
              "      <td>0.670010</td>\n",
              "      <td>0.621974</td>\n",
              "      <td>0.726087</td>\n",
              "    </tr>\n",
              "    <tr>\n",
              "      <td>4</td>\n",
              "      <td>No log</td>\n",
              "      <td>0.312029</td>\n",
              "      <td>0.887210</td>\n",
              "      <td>0.890235</td>\n",
              "      <td>0.674772</td>\n",
              "      <td>0.631879</td>\n",
              "      <td>0.723913</td>\n",
              "    </tr>\n",
              "    <tr>\n",
              "      <td>5</td>\n",
              "      <td>No log</td>\n",
              "      <td>0.354884</td>\n",
              "      <td>0.901616</td>\n",
              "      <td>0.901179</td>\n",
              "      <td>0.692308</td>\n",
              "      <td>0.700000</td>\n",
              "      <td>0.684783</td>\n",
              "    </tr>\n",
              "    <tr>\n",
              "      <td>6</td>\n",
              "      <td>No log</td>\n",
              "      <td>0.404416</td>\n",
              "      <td>0.905481</td>\n",
              "      <td>0.903680</td>\n",
              "      <td>0.693970</td>\n",
              "      <td>0.727924</td>\n",
              "      <td>0.663043</td>\n",
              "    </tr>\n",
              "    <tr>\n",
              "      <td>7</td>\n",
              "      <td>0.266400</td>\n",
              "      <td>0.408822</td>\n",
              "      <td>0.901616</td>\n",
              "      <td>0.898999</td>\n",
              "      <td>0.675926</td>\n",
              "      <td>0.722772</td>\n",
              "      <td>0.634783</td>\n",
              "    </tr>\n",
              "    <tr>\n",
              "      <td>8</td>\n",
              "      <td>0.266400</td>\n",
              "      <td>0.489536</td>\n",
              "      <td>0.881237</td>\n",
              "      <td>0.887565</td>\n",
              "      <td>0.683521</td>\n",
              "      <td>0.600329</td>\n",
              "      <td>0.793478</td>\n",
              "    </tr>\n",
              "    <tr>\n",
              "      <td>9</td>\n",
              "      <td>0.266400</td>\n",
              "      <td>0.513019</td>\n",
              "      <td>0.903022</td>\n",
              "      <td>0.903769</td>\n",
              "      <td>0.705757</td>\n",
              "      <td>0.692469</td>\n",
              "      <td>0.719565</td>\n",
              "    </tr>\n",
              "    <tr>\n",
              "      <td>10</td>\n",
              "      <td>0.266400</td>\n",
              "      <td>0.528574</td>\n",
              "      <td>0.902670</td>\n",
              "      <td>0.902455</td>\n",
              "      <td>0.697268</td>\n",
              "      <td>0.701099</td>\n",
              "      <td>0.693478</td>\n",
              "    </tr>\n",
              "  </tbody>\n",
              "</table><p>"
            ]
          },
          "metadata": {}
        },
        {
          "output_type": "execute_result",
          "data": {
            "text/plain": [
              "TrainOutput(global_step=750, training_loss=0.1886415875752767, metrics={'train_runtime': 2143.5794, 'train_samples_per_second': 89.01, 'train_steps_per_second': 0.35, 'total_flos': 6318694915891200.0, 'train_loss': 0.1886415875752767, 'epoch': 10.0})"
            ]
          },
          "metadata": {},
          "execution_count": 24
        }
      ]
    },
    {
      "cell_type": "code",
      "source": [
        "history = trainer.state.log_history"
      ],
      "metadata": {
        "id": "wFgm4B3UdSKi"
      },
      "execution_count": null,
      "outputs": []
    },
    {
      "cell_type": "code",
      "source": [
        "epochs = range(1, NUM_EPOCHS+1)\n",
        "eval_f1_class1 = [entry['eval_f1_class1'] for entry in history if 'eval_f1_class1' in entry]\n",
        "eval_accuracy = [entry['eval_accuracy'] for entry in history if 'eval_accuracy' in entry]\n",
        "eval_precision_class1 = [entry['eval_precision_class1'] for entry in history if 'eval_precision_class1' in entry]\n",
        "eval_recall_class1 = [entry['eval_recall_class1'] for entry in history if 'eval_recall_class1' in entry]\n",
        "\n",
        "plt.figure(figsize=(8, 6))\n",
        "plt.plot(epochs, eval_f1_class1, label='F1-score (Class 1)')\n",
        "plt.plot(epochs, eval_accuracy, label='Accuracy')\n",
        "plt.plot(epochs, eval_precision_class1, label='Precision (Class 1)')\n",
        "plt.plot(epochs, eval_recall_class1, label='Recall (Class 1)')\n",
        "\n",
        "plt.xlabel('Epoch')\n",
        "plt.ylabel('Metric Value')\n",
        "plt.title('Metrics over Epochs')\n",
        "plt.legend()\n",
        "plt.grid(True)\n",
        "plt.show()"
      ],
      "metadata": {
        "colab": {
          "base_uri": "https://localhost:8080/",
          "height": 564
        },
        "id": "yikdluEcdek8",
        "outputId": "2b02125d-7fac-4b18-8395-03cfe19a9ee3"
      },
      "execution_count": null,
      "outputs": [
        {
          "output_type": "display_data",
          "data": {
            "text/plain": [
              "<Figure size 800x600 with 1 Axes>"
            ],
            "image/png": "[encoded data removed]"
          },
          "metadata": {}
        }
      ]
    },
    {
      "cell_type": "markdown",
      "source": [
        "### Сохраняем чекпоинт"
      ],
      "metadata": {
        "id": "Cv7NvKMWulex"
      }
    },
    {
      "cell_type": "code",
      "source": [
        "import json\n",
        "\n",
        "path = '/content/drive/MyDrive/Colab Notebooks/data/46/history.json'\n",
        "\n",
        "with open(path, 'w') as file:\n",
        "    json.dump(history, file)\n"
      ],
      "metadata": {
        "id": "hDVy8Gy1seCf"
      },
      "execution_count": null,
      "outputs": []
    },
    {
      "cell_type": "code",
      "source": [
        "# with open(path, 'r') as file:\n",
        "#     loaded_history = json.load(file)"
      ],
      "metadata": {
        "id": "epusxmzWtgM3"
      },
      "execution_count": null,
      "outputs": []
    },
    {
      "cell_type": "code",
      "source": [
        "source_path = '/content/results/checkpoint-750'\n",
        "destination_path = '/content/drive/MyDrive/Colab Notebooks/data/46/'\n",
        "\n",
        "os.makedirs(destination_path, exist_ok=True)\n",
        "\n",
        "shutil.copytree(source_path, destination_path + 'checkpoint-750', dirs_exist_ok=True)"
      ],
      "metadata": {
        "colab": {
          "base_uri": "https://localhost:8080/",
          "height": 35
        },
        "id": "3mitoYlJuQtn",
        "outputId": "96b1dfbf-0e2a-40a5-facc-0aec5da54173"
      },
      "execution_count": null,
      "outputs": [
        {
          "output_type": "execute_result",
          "data": {
            "text/plain": [
              "'/content/drive/MyDrive/Colab Notebooks/data/46/checkpoint-750'"
            ],
            "application/vnd.google.colaboratory.intrinsic+json": {
              "type": "string"
            }
          },
          "metadata": {},
          "execution_count": 32
        }
      ]
    },
    {
      "cell_type": "markdown",
      "source": [
        "### Метрики"
      ],
      "metadata": {
        "id": "1m2OSup1vDT_"
      }
    },
    {
      "cell_type": "code",
      "source": [
        "# сделаем предсказания на тестовой выборке\n",
        "predictions = trainer.predict(test_dataset)\n",
        "\n",
        "# извлечём предсказанные метки и истинные\n",
        "predicted_labels = np.argmax(predictions.predictions, axis=1)\n",
        "true_labels = predictions.label_ids\n",
        "\n",
        "# выведем метрики\n",
        "accuracy = accuracy_score(true_labels, predicted_labels)\n",
        "f1 = f1_score(true_labels, predicted_labels, average='weighted')\n",
        "print(f\"Accuracy: {accuracy}\")\n",
        "print(f\"Weighted F1-score: {f1}\")\n",
        "\n",
        "print(classification_report(true_labels, predicted_labels))\n",
        "\n",
        "# выведем матрицу ошибок\n",
        "cm = confusion_matrix(true_labels, predicted_labels)\n",
        "plot_confusion_matrix(cm, model_name=\"DistilBERT\")"
      ],
      "metadata": {
        "colab": {
          "base_uri": "https://localhost:8080/",
          "height": 664
        },
        "id": "WQzLbmJqvLCM",
        "outputId": "ad9a40c9-fa33-4b30-9fd5-8a5ba4dc0259"
      },
      "execution_count": null,
      "outputs": [
        {
          "output_type": "display_data",
          "data": {
            "text/plain": [
              "<IPython.core.display.HTML object>"
            ],
            "text/html": []
          },
          "metadata": {}
        },
        {
          "output_type": "stream",
          "name": "stdout",
          "text": [
            "Accuracy: 0.9030217849613492\n",
            "Weighted F1-score: 0.9037686859701479\n",
            "              precision    recall  f1-score   support\n",
            "\n",
            "           0       0.95      0.94      0.94      2386\n",
            "           1       0.69      0.72      0.71       460\n",
            "\n",
            "    accuracy                           0.90      2846\n",
            "   macro avg       0.82      0.83      0.82      2846\n",
            "weighted avg       0.90      0.90      0.90      2846\n",
            "\n"
          ]
        },
        {
          "output_type": "display_data",
          "data": {
            "text/plain": [
              "<Figure size 600x450 with 2 Axes>"
            ],
            "image/png": "[encoded data removed]"
          },
          "metadata": {}
        }
      ]
    },
    {
      "cell_type": "markdown",
      "source": [
        "### Инференс"
      ],
      "metadata": {
        "id": "C92hUjQAwXX_"
      }
    },
    {
      "cell_type": "code",
      "source": [
        "def inference(text, model, tokenizer):\n",
        "    \"\"\"\n",
        "    Функция для инференса модели\n",
        "    @param: text - текст (str)\n",
        "    @param: model - модель трансформера\n",
        "    @param: tokenizer - токенизатор трансформера\n",
        "    @return: метка предсказания (0 или 1)\n",
        "    \"\"\"\n",
        "\n",
        "    cleaned_text = clean_text(text)\n",
        "    inputs = tokenizer(cleaned_text, padding='max_length', truncation=True, max_length=128, return_tensors=\"pt\")\n",
        "\n",
        "    # Move inputs to the same device as the model\n",
        "    device = next(model.parameters()).device  # Get model's device\n",
        "    inputs = {k: v.to(device) for k, v in inputs.items()}\n",
        "\n",
        "    outputs = model(**inputs)\n",
        "    predicted_label = np.argmax(outputs.logits.cpu().detach().numpy())\n",
        "    return predicted_label\n"
      ],
      "metadata": {
        "id": "0WIC4Z1Hwh0c"
      },
      "execution_count": null,
      "outputs": []
    },
    {
      "cell_type": "code",
      "source": [
        "positive_samples = dataframe_cleaned[dataframe_cleaned['tonality'] == 0].sample(5)\n",
        "negative_samples = dataframe_cleaned[dataframe_cleaned['tonality'] == 1].sample(5)\n",
        "\n",
        "texts_for_inference = pd.concat([positive_samples, negative_samples])['comment'].tolist()\n",
        "true_labels = pd.concat([positive_samples, negative_samples])['tonality'].tolist()\n",
        "\n",
        "# from transformers import DistilBertForSequenceClassification, DistilBertTokenizer\n",
        "# model_path = '/content/drive/MyDrive/Colab Notebooks/data/46/checkpoint-750' # Update with the actual path to your model\n",
        "# model = DistilBertForSequenceClassification.from_pretrained(model_path)\n",
        "# tokenizer = DistilBertTokenizer.from_pretrained('distilbert-base-multilingual-cased')\n",
        "\n",
        "predicted_labels = [inference(text, model, tokenizer) for text in texts_for_inference]\n",
        "\n",
        "print(\"text\\tlabel\\tpredicted_label\")\n",
        "for text, label, predicted_label in zip(texts_for_inference, true_labels, predicted_labels):\n",
        "    print(f\"{text[:100]}...\\t{label}\\t{predicted_label}\")\n"
      ],
      "metadata": {
        "colab": {
          "base_uri": "https://localhost:8080/"
        },
        "id": "nZNLlweRw1t1",
        "outputId": "250e2b32-290e-40af-c22f-69fa93d88ac7"
      },
      "execution_count": null,
      "outputs": [
        {
          "output_type": "stream",
          "name": "stdout",
          "text": [
            "text\tlabel\tpredicted_label\n",
            "Просто шикарный набор для маникюра и педикюра. Отличное качество насадок (есть сапфировое покрытие, ...\t0\t0\n",
            "Вытяжка отличная,работает исправно. Не знаю как у остальных с лампочками,а у меня в комплекте 2 смен...\t0\t0\n",
            "Красавица. А как она включается!!! А как она выключается!!! Нравица. Чехольчик... Плохо, что шнура д...\t0\t1\n",
            "Эти весы мне подарили на 8-е марта. Я очень довольна. Взвешиваюсь несколько раз в день, точность соо...\t0\t0\n",
            "Разумеется, никто не застрахован от брака.  Мне, к счастью, повезло. Отработал 2 зимы, абсолютно ник...\t0\t0\n",
            "Оказывается я не одна такая. Покупала терку 2 года назад, на сайте еще не было отзывов. Консультант ...\t1\t1\n",
            "Мясорубка в принципе неплохая, а точнее была таковой первые полтора года использования. А затем нача...\t1\t1\n",
            "Через 3 недели после покупки, сломалась щетка (перестала переключаться в режим \"ковер\"). В магазине ...\t1\t1\n",
            "Тихая хорошо перемолола, но вот с мощность все-таки проблемы... 2 кг мяса молола 30 мин. а написано ...\t1\t1\n",
            "Красивый, быстро греет....\t1\t1\n"
          ]
        }
      ]
    },
    {
      "cell_type": "markdown",
      "source": [
        "## Выводы"
      ],
      "metadata": {
        "id": "PFKxwsUA1JKy"
      }
    },
    {
      "cell_type": "markdown",
      "source": [
        "### Основные результаты исследования\n",
        "\n",
        "1. Эффективность балансировки классов:\n",
        "   - Применение upsampling минорного класса показало значительное улучшение качества классификации\n",
        "   - Метрика F1-score для минорного класса увеличилась в среднем на 7-8% по сравнению с несбалансированными данными на замере по классическим ML-моделям\n",
        "   - Особенно важно для задач, где критично предсказание минорного класса (например, выявление негативных отзывов)\n",
        "\n",
        "2. Преимущества DistilBERT:\n",
        "   - Архитектура трансформера продемонстрировала лучшие результаты по сравнению с традиционными методами ML\n",
        "   - В матрице ошибок наблюдается значительное снижение FALSE NEGATIVE случаев (на 20-25%)\n",
        "   - Модель эффективно улавливает сложные семантические зависимости в тексте"
      ],
      "metadata": {
        "id": "GsusB9x3vzBv"
      }
    },
    {
      "cell_type": "markdown",
      "source": [
        "### Проблемы и ограничения\n",
        "\n",
        "1. Требования к данным:\n",
        "   - Трансформерные модели требуют большого объема размеченных данных для обучения\n",
        "   - Качество предобработки критически важно (грамматические ошибки, опечатки снижают эффективность)\n",
        "\n",
        "2. Вычислительная сложность:\n",
        "   - Необходимость использования GPU для обучения\n",
        "   - Длительное время fine-tuning по сравнению с классическими методами\n",
        "\n",
        "3. Сложность пайплайна:\n",
        "   - Многоэтапная предобработка текста (нормализация, исправление ошибок)\n",
        "   - Тонкая настройка гиперпараметров модели\n"
      ],
      "metadata": {
        "id": "7c053bENv5xa"
      }
    },
    {
      "cell_type": "markdown",
      "source": [
        "### Перспективы улучшения\n",
        "\n",
        "1. Расширение данных:\n",
        "   - Дообучение модели на более крупном датасете русскоязычных отзывов\n",
        "   - Дообучение модели без обработки грамматических ошибок\n",
        "\n",
        "2. Гибридные подходы:\n",
        "   - Комбинация трансформерных эмбеддингов с традиционными фичами (например, TF-IDF)\n",
        "   - Ансамблирование с классическими ML-моделями\n",
        "\n",
        "3. Оптимизация пайплайна:\n",
        "   - Автоматизация обработки текста (грамматическая коррекция)\n",
        "   - Разработка универсального препроцессинг-конвейера для русскоязычных текстов"
      ],
      "metadata": {
        "id": "FrcW5ry7v73M"
      }
    },
    {
      "cell_type": "markdown",
      "source": [
        "### Заключение\n",
        "\n",
        "Проведенное исследование подтвердило эффективность трансформерных архитектур для задач бинарной классификации текста на русском языке. Несмотря на существующие ограничения, DistilBERT показал себя как сбалансированное решение, сочетающее хорошее качество предсказаний и относительную вычислительную эффективность. Дальнейшая работа может быть направлена на оптимизацию пайплайна обработки данных и эксперименты с другими архитектурами-трансформерами, адаптированными для русского языка."
      ],
      "metadata": {
        "id": "ma_-T849v9qk"
      }
    }
  ]
}